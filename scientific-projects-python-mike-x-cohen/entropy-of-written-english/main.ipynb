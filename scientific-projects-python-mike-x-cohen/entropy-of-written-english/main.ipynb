{
 "cells": [
  {
   "cell_type": "markdown",
   "metadata": {},
   "source": [
    "### Entropy in information theory\n",
    "\n",
    "\"Surprising\" (unpredictable) things convey more information. \n",
    "\n",
    "The more the unpredictable the more the entropy."
   ]
  },
  {
   "cell_type": "code",
   "execution_count": 63,
   "metadata": {},
   "outputs": [],
   "source": [
    "import matplotlib.pyplot as plt\n",
    "import numpy as np\n",
    "import string\n",
    "import requests\n",
    "import re"
   ]
  },
  {
   "cell_type": "code",
   "execution_count": 64,
   "metadata": {},
   "outputs": [],
   "source": [
    "response = requests.get(\"https://gutenberg.org/files/35/35-0.txt\")\n",
    "text = response.text"
   ]
  },
  {
   "cell_type": "code",
   "execution_count": 65,
   "metadata": {},
   "outputs": [],
   "source": [
    "# character strings to replace with space\n",
    "strings_to_replace = [\n",
    "    '\\r\\n\\r\\nâ\\x80\\x9c', # new paragraph\n",
    "    'â\\x80\\x9c',         # open quote\n",
    "    'â\\x80\\x9d',         # close quote\n",
    "    '\\r\\n',              # new line\n",
    "    'â\\x80\\x94',         # hyphen\n",
    "    'â\\x80\\x99',         # single apostrophe\n",
    "    'â\\x80\\x98',         # single quote\n",
    "    '_',                 # underscore, used for stressing\n",
    "]"
   ]
  },
  {
   "cell_type": "code",
   "execution_count": 66,
   "metadata": {},
   "outputs": [],
   "source": [
    "for strings_to_match in strings_to_replace:\n",
    "    regex_pattern = re.compile(r'%s' %strings_to_match)\n",
    "    text = regex_pattern.sub(\" \", text)"
   ]
  },
  {
   "cell_type": "code",
   "execution_count": 67,
   "metadata": {},
   "outputs": [],
   "source": [
    "text = text[3:]"
   ]
  },
  {
   "cell_type": "markdown",
   "metadata": {},
   "source": [
    "## Distribution of word lengths."
   ]
  },
  {
   "cell_type": "code",
   "execution_count": 68,
   "metadata": {},
   "outputs": [],
   "source": [
    "words = text.split(\" \")\n",
    "word_length_count = np.zeros(len(words))\n",
    "\n",
    "for word_i in range(len(words)):\n",
    "    word_length_count[word_i] = len(words[word_i])"
   ]
  },
  {
   "cell_type": "code",
   "execution_count": 69,
   "metadata": {},
   "outputs": [],
   "source": [
    "maximum = 0\n",
    "for word in words:\n",
    "    maximum = max(maximum, len(word))\n",
    "    \n",
    "word_counts = np.zeros(maximum + 1)\n",
    "for word in words:\n",
    "    word_counts[len(word)] += 1"
   ]
  },
  {
   "cell_type": "code",
   "execution_count": 70,
   "metadata": {},
   "outputs": [
    {
     "data": {
      "image/png": "[encoded data removed]",
      "text/plain": [
       "<Figure size 432x288 with 1 Axes>"
      ]
     },
     "metadata": {
      "needs_background": "light"
     },
     "output_type": "display_data"
    }
   ],
   "source": [
    "plt.bar(range(len(word_counts)), word_counts)\n",
    "\n",
    "plt.xlabel(\"Word length.\")\n",
    "plt.ylabel(\"Word Count.\")\n",
    "plt.show()"
   ]
  },
  {
   "cell_type": "markdown",
   "metadata": {},
   "source": [
    "## Letter frequencies."
   ]
  },
  {
   "cell_type": "code",
   "execution_count": 71,
   "metadata": {},
   "outputs": [],
   "source": [
    "# binary search\n",
    "def is_char_in_word(words,char):\n",
    "    start = 0\n",
    "    end = len(words)-1\n",
    "    while start <= end:\n",
    "        mid = int(start + (end-start) / 2)\n",
    "        if char < words[mid]:\n",
    "            end = mid - 1\n",
    "        elif char > words[mid]:\n",
    "            start = mid + 1\n",
    "        else:\n",
    "            return mid\n",
    "    return -1"
   ]
  },
  {
   "cell_type": "code",
   "execution_count": 72,
   "metadata": {},
   "outputs": [],
   "source": [
    "letters = string.ascii_lowercase\n",
    "letter_frequencies = np.zeros(len(letters))\n",
    "\n",
    "for letter in text.lower():\n",
    "    if is_char_in_word(letters, letter) != -1:\n",
    "        letter_frequencies[ord(letter)-97] += 1"
   ]
  },
  {
   "cell_type": "code",
   "execution_count": 73,
   "metadata": {},
   "outputs": [
    {
     "data": {
      "image/png": "[encoded data removed]",
      "text/plain": [
       "<Figure size 576x288 with 1 Axes>"
      ]
     },
     "metadata": {
      "needs_background": "light"
     },
     "output_type": "display_data"
    }
   ],
   "source": [
    "fix,ax = plt.subplots(1,figsize=(8,4))\n",
    "\n",
    "ax.bar(list(letters), letter_frequencies)\n",
    "\n",
    "ax.set_xlabel(\"Letter\")\n",
    "ax.set_ylabel(\"Count\")\n",
    "plt.show()"
   ]
  },
  {
   "cell_type": "markdown",
   "metadata": {},
   "source": [
    "## Entropy of english letters in text."
   ]
  },
  {
   "cell_type": "code",
   "execution_count": 74,
   "metadata": {},
   "outputs": [
    {
     "data": {
      "image/png": "[encoded data removed]",
      "text/plain": [
       "<Figure size 576x288 with 1 Axes>"
      ]
     },
     "metadata": {
      "needs_background": "light"
     },
     "output_type": "display_data"
    }
   ],
   "source": [
    "letter_probability = letter_frequencies / sum(letter_frequencies)\n",
    "\n",
    "entropy = -sum(letter_probability * np.log2(letter_probability + np.finfo(float).eps))\n",
    "\n",
    "\n",
    "fig,ax = plt.subplots(1,figsize=(8,4))\n",
    "ax.bar(list(letters), letter_probability)\n",
    "\n",
    "ax.set_title(\"Entropy = %.3f bits\"%entropy)\n",
    "ax.set_xlabel(\"Letter\")\n",
    "ax.set_ylabel(\"Probability\")\n",
    "plt.show()"
   ]
  },
  {
   "cell_type": "markdown",
   "metadata": {},
   "source": [
    "## Conditional (sequence) entropy."
   ]
  },
  {
   "cell_type": "code",
   "execution_count": 75,
   "metadata": {},
   "outputs": [],
   "source": [
    "num_letters = len(letters)\n",
    "probability_matrix = np.zeros((num_letters, num_letters))\n",
    "\n",
    "for i in range(len(text)-1):\n",
    "    current_letter = text[i]\n",
    "    next_letter = text[i+1]\n",
    "    if current_letter in letters and next_letter in letters:\n",
    "        # in the row of the current first letter,\n",
    "        # increase the number at the current column of \n",
    "        # specific row.\n",
    "        probability_matrix[letters.index(current_letter), letters.index(next_letter)] += 1"
   ]
  },
  {
   "cell_type": "code",
   "execution_count": 76,
   "metadata": {},
   "outputs": [
    {
     "data": {
      "image/png": "[encoded data removed]",
      "text/plain": [
       "<Figure size 432x432 with 1 Axes>"
      ]
     },
     "metadata": {
      "needs_background": "light"
     },
     "output_type": "display_data"
    }
   ],
   "source": [
    "fig,ax = plt.subplots(1,figsize=(6,6))\n",
    "\n",
    "# increase the maximum color\n",
    "ax.imshow(probability_matrix, vmax=500)\n",
    "\n",
    "ax.set_xlabel(\"Next Letter\")\n",
    "ax.set_ylabel(\"Current Letter\")\n",
    "ax.set_xticks(range(num_letters))\n",
    "ax.set_yticks(range(num_letters))\n",
    "ax.set_xticklabels(letters)\n",
    "ax.set_yticklabels(letters)\n",
    "plt.show()"
   ]
  },
  {
   "cell_type": "code",
   "execution_count": 85,
   "metadata": {},
   "outputs": [],
   "source": [
    "conditional_entropy = np.zeros(num_letters)\n",
    "\n",
    "for row in range(num_letters):\n",
    "    # here currently this is not probabilities, it will be converted later\n",
    "    probabilities = probability_matrix[row, :]\n",
    "    # convert count to probabilities\n",
    "    probabilities /= sum(probabilities)\n",
    "    # compute entropy for each individual letter\n",
    "    conditional_entropy[row] = -sum(probabilities*np.log2(probabilities + np.finfo(float).eps))"
   ]
  },
  {
   "cell_type": "code",
   "execution_count": 92,
   "metadata": {},
   "outputs": [
    {
     "data": {
      "image/png": "[encoded data removed]",
      "text/plain": [
       "<Figure size 432x288 with 1 Axes>"
      ]
     },
     "metadata": {
      "needs_background": "light"
     },
     "output_type": "display_data"
    }
   ],
   "source": [
    "fig,ax = plt.subplots(1, figsize=(6,4))\n",
    "ax.bar(range(num_letters), conditional_entropy)\n",
    "\n",
    "ax.set_xticks(range(num_letters))\n",
    "ax.set_xticklabels(letters)\n",
    "ax.set_xlabel(\"Letters\")\n",
    "ax.set_ylabel(\"Entropy (bits)\")\n",
    "plt.show()"
   ]
  }
 ],
 "metadata": {
  "kernelspec": {
   "display_name": "Python 3.9.12 ('base')",
   "language": "python",
   "name": "python3"
  },
  "language_info": {
   "codemirror_mode": {
    "name": "ipython",
    "version": 3
   },
   "file_extension": ".py",
   "mimetype": "text/x-python",
   "name": "python",
   "nbconvert_exporter": "python",
   "pygments_lexer": "ipython3",
   "version": "3.9.12"
  },
  "orig_nbformat": 4,
  "vscode": {
   "interpreter": {
    "hash": "e5c6a46a1473a2409ca8ff254ed396d3eda3290bc5701d6964bbc7b0690191bf"
   }
  }
 },
 "nbformat": 4,
 "nbformat_minor": 2
}
