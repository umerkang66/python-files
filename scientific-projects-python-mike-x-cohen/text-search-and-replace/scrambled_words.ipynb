{
 "cells": [
  {
   "cell_type": "code",
   "execution_count": 1,
   "metadata": {},
   "outputs": [],
   "source": [
    "import numpy as np"
   ]
  },
  {
   "cell_type": "code",
   "execution_count": 75,
   "metadata": {},
   "outputs": [],
   "source": [
    "text = \"I have often wondered whether i'ts possible to read an entire book faster if the useless letters were removed\""
   ]
  },
  {
   "cell_type": "markdown",
   "metadata": {},
   "source": [
    "### Scramble every character."
   ]
  },
  {
   "cell_type": "code",
   "execution_count": 76,
   "metadata": {},
   "outputs": [],
   "source": [
    "words = text.split(\" \")"
   ]
  },
  {
   "cell_type": "code",
   "execution_count": 82,
   "metadata": {},
   "outputs": [],
   "source": [
    "for index in range(len(words)): \n",
    "    idx_list = np.random.permutation(len(words[index]))\n",
    "    random_word_list = [words[index][i] for i in idx_list]\n",
    "    words[index] =  \"\".join(random_word_list)"
   ]
  },
  {
   "cell_type": "code",
   "execution_count": 83,
   "metadata": {},
   "outputs": [
    {
     "name": "stdout",
     "output_type": "stream",
     "text": [
      "I heva noetf wnrdodee eewrhht t'is spblesoi to edar na rtneei kboo frteas if eht esessul steertl rwee erveodm\n"
     ]
    }
   ],
   "source": [
    "scrambled_words = \" \".join(words)\n",
    "print(scrambled_words)"
   ]
  },
  {
   "cell_type": "markdown",
   "metadata": {},
   "source": [
    "### Scramble without first and last character."
   ]
  },
  {
   "cell_type": "code",
   "execution_count": 106,
   "metadata": {},
   "outputs": [],
   "source": [
    "words = text.split(\" \")"
   ]
  },
  {
   "cell_type": "code",
   "execution_count": 118,
   "metadata": {},
   "outputs": [],
   "source": [
    "for index in range(len(words)): \n",
    "    if len(words[index]) < 4:\n",
    "        continue\n",
    "\n",
    "    current_word = words[index][1:-1]\n",
    "    idx_list = np.random.permutation(len(current_word))\n",
    "\n",
    "    words[index] = words[index][0] + \"\".join([current_word[i] for i in idx_list]) + words[index][-1]"
   ]
  },
  {
   "cell_type": "code",
   "execution_count": 119,
   "metadata": {},
   "outputs": [
    {
     "name": "stdout",
     "output_type": "stream",
     "text": [
      "I hvae otefn woeerdnd whheter i'ts polsbise to read an enrtie book feastr if the uessels lteerts were reevmod\n"
     ]
    }
   ],
   "source": [
    "scrambled_words = \" \".join(words)\n",
    "print(scrambled_words)"
   ]
  }
 ],
 "metadata": {
  "kernelspec": {
   "display_name": "Python 3.9.12 ('base')",
   "language": "python",
   "name": "python3"
  },
  "language_info": {
   "codemirror_mode": {
    "name": "ipython",
    "version": 3
   },
   "file_extension": ".py",
   "mimetype": "text/x-python",
   "name": "python",
   "nbconvert_exporter": "python",
   "pygments_lexer": "ipython3",
   "version": "3.9.12"
  },
  "orig_nbformat": 4,
  "vscode": {
   "interpreter": {
    "hash": "e5c6a46a1473a2409ca8ff254ed396d3eda3290bc5701d6964bbc7b0690191bf"
   }
  }
 },
 "nbformat": 4,
 "nbformat_minor": 2
}
