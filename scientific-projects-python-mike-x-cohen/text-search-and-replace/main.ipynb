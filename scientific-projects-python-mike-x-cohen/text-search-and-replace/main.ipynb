{
 "cells": [
  {
   "cell_type": "code",
   "execution_count": 4,
   "metadata": {},
   "outputs": [],
   "source": [
    "with open(\"data/captions_text.vtt\", \"r\") as file:\n",
    "    raw_text = file.read()"
   ]
  },
  {
   "cell_type": "markdown",
   "metadata": {},
   "source": [
    "### Replace time_stamps."
   ]
  },
  {
   "cell_type": "code",
   "execution_count": 8,
   "metadata": {},
   "outputs": [],
   "source": [
    "import re"
   ]
  },
  {
   "cell_type": "code",
   "execution_count": 5,
   "metadata": {},
   "outputs": [],
   "source": [
    "replace_pattern = '\\\\n\\\\n\\d{1,3}\\\\n\\d\\d:\\d\\d.\\d\\d\\d --> \\d\\d:\\d\\d.\\d\\d\\d\\\\n'\n",
    "regex = re.compile(replace_pattern)\n",
    "timestamps_replaced = regex.sub(\" \", raw_text)[7:]"
   ]
  },
  {
   "cell_type": "markdown",
   "metadata": {},
   "source": [
    "### Replace four letter words."
   ]
  },
  {
   "cell_type": "code",
   "execution_count": 6,
   "metadata": {},
   "outputs": [],
   "source": [
    "text_words = timestamps_replaced.split(\" \")\n",
    "for index in range(len(text_words)):\n",
    "    total_words = 4\n",
    "    if (len(text_words[index]) == total_words):\n",
    "        text_words[index] = \"****\"\n",
    "    elif (len(text_words[index]) == total_words+1 and text_words[index][-1] == \".\"):\n",
    "        text_words[index] = \"****\" + \".\"\n",
    "\n",
    "\n",
    "moderated_text = \" \".join(text_words)"
   ]
  },
  {
   "cell_type": "code",
   "execution_count": 7,
   "metadata": {},
   "outputs": [],
   "source": [
    "with open(\"data/captions_text_mod.vtt\", 'w') as file:\n",
    "    file.write(moderated_text)"
   ]
  }
 ],
 "metadata": {
  "kernelspec": {
   "display_name": "Python 3.9.12 ('base')",
   "language": "python",
   "name": "python3"
  },
  "language_info": {
   "codemirror_mode": {
    "name": "ipython",
    "version": 3
   },
   "file_extension": ".py",
   "mimetype": "text/x-python",
   "name": "python",
   "nbconvert_exporter": "python",
   "pygments_lexer": "ipython3",
   "version": "3.9.12"
  },
  "orig_nbformat": 4,
  "vscode": {
   "interpreter": {
    "hash": "e5c6a46a1473a2409ca8ff254ed396d3eda3290bc5701d6964bbc7b0690191bf"
   }
  }
 },
 "nbformat": 4,
 "nbformat_minor": 2
}
