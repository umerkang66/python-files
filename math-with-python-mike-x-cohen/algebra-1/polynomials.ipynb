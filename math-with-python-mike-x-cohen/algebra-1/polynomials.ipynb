{
 "cells": [
  {
   "cell_type": "code",
   "execution_count": 1,
   "metadata": {},
   "outputs": [],
   "source": [
    "import sympy as sym\n",
    "from IPython.display import display, Math"
   ]
  },
  {
   "cell_type": "markdown",
   "metadata": {},
   "source": [
    "## Addition of Polynomials"
   ]
  },
  {
   "cell_type": "code",
   "execution_count": 2,
   "metadata": {},
   "outputs": [
    {
     "data": {
      "text/latex": [
       "$\\displaystyle (2 x^{3} + x^{2} - x) + (- x^{4} + x^{3} - 4 x^{2}) = - x^{4} + 3 x^{3} - 3 x^{2} - x$"
      ],
      "text/plain": [
       "<IPython.core.display.Math object>"
      ]
     },
     "metadata": {},
     "output_type": "display_data"
    }
   ],
   "source": [
    "x = sym.symbols(\"x\")\n",
    "\n",
    "p1 = 2 * x**3 + x**2 - x\n",
    "p2 = x**3 - x**4 - 4*x**2\n",
    "\n",
    "display(Math(\"(%s) + (%s) = %s\" %(sym.latex(p1), sym.latex(p2), sym.latex(p1 + p2))))"
   ]
  },
  {
   "cell_type": "markdown",
   "metadata": {},
   "source": [
    "## Multiplication of Polynomials"
   ]
  },
  {
   "cell_type": "code",
   "execution_count": 10,
   "metadata": {},
   "outputs": [
    {
     "data": {
      "text/latex": [
       "$\\displaystyle \\left(4 x^{2} - 2 x\\right) \\left(x^{3} - 1\\right)$"
      ],
      "text/plain": [
       "<IPython.core.display.Math object>"
      ]
     },
     "metadata": {},
     "output_type": "display_data"
    },
    {
     "data": {
      "text/latex": [
       "$\\displaystyle 4 x^{5} - 2 x^{4} - 4 x^{2} + 2 x$"
      ],
      "text/plain": [
       "<IPython.core.display.Math object>"
      ]
     },
     "metadata": {},
     "output_type": "display_data"
    }
   ],
   "source": [
    "p1 = 4*x**2  - 2*x\n",
    "p2 = x**3 - 1\n",
    "\n",
    "display(Math(sym.latex(p1 * p2)))\n",
    "display(Math(sym.latex(sym.expand(p1 * p2))))"
   ]
  },
  {
   "cell_type": "markdown",
   "metadata": {},
   "source": [
    "#### Exercises"
   ]
  },
  {
   "cell_type": "code",
   "execution_count": 39,
   "metadata": {},
   "outputs": [
    {
     "data": {
      "text/latex": [
       "$\\displaystyle (4 x^{4} - 3 x^{2} + x y^{2} - 9 y^{3}) \\times (- x^{3} + 6 x^{2} y + 0.8 y^{3}) = (- 4 x^{7} + 24 x^{6} y + 3 x^{5} + 3.2 x^{4} y^{3} - x^{4} y^{2} - 18 x^{4} y + 15 x^{3} y^{3} - 54 x^{2} y^{4} - 2.4 x^{2} y^{3} + 0.8 x y^{5} - 7.2 y^{6})$"
      ],
      "text/plain": [
       "<IPython.core.display.Math object>"
      ]
     },
     "metadata": {},
     "output_type": "display_data"
    },
    {
     "data": {
      "text/latex": [
       "$\\displaystyle \\text{Multiplied solution is: }-1085833.80000000$"
      ],
      "text/plain": [
       "<IPython.core.display.Math object>"
      ]
     },
     "metadata": {},
     "output_type": "display_data"
    },
    {
     "data": {
      "text/latex": [
       "$\\displaystyle \\text{Separate solution is: }-1085833.8$"
      ],
      "text/plain": [
       "<IPython.core.display.Math object>"
      ]
     },
     "metadata": {},
     "output_type": "display_data"
    }
   ],
   "source": [
    "x,y = sym.symbols(\"x,y\")\n",
    "\n",
    "p1 = (4 * x**4) - (3 * x**2) + (x * y**2) - (9 * y**3)\n",
    "p2 = (-1 * x**3) + (6*x**2*y) + (0.8*y**3)\n",
    "\n",
    "expr = p1 * p2\n",
    "\n",
    "display(Math(\"(%s) \\\\times (%s) = (%s)\" %(sym.latex(p1), sym.latex(p2), sym.latex(sym.expand(p1 * p2)))))\n",
    "\n",
    "display(Math(\"\\\\text{Multiplied solution is: }%s\" %(expr.subs({x: 5, y: -2}))))\n",
    "\n",
    "p1_ans = p1.subs({x: 5, y: -2})\n",
    "p2_ans = p2.subs({x: 5, y: -2})\n",
    "\n",
    "display(Math(\"\\\\text{Separate solution is: }%s\" %sym.latex(p1_ans * p2_ans)))"
   ]
  },
  {
   "cell_type": "markdown",
   "metadata": {},
   "source": [
    "## Dividing of Polynomials"
   ]
  },
  {
   "cell_type": "code",
   "execution_count": 49,
   "metadata": {},
   "outputs": [
    {
     "name": "stdout",
     "output_type": "stream",
     "text": [
      "Solved Result\n"
     ]
    },
    {
     "data": {
      "text/latex": [
       "$\\displaystyle \\frac{4 x^{5} - x}{2 x^{3} - x} = \\left[ - \\frac{\\sqrt{2} i}{2}, \\  \\frac{\\sqrt{2} i}{2}\\right]$"
      ],
      "text/plain": [
       "<IPython.core.display.Math object>"
      ]
     },
     "metadata": {},
     "output_type": "display_data"
    },
    {
     "name": "stdout",
     "output_type": "stream",
     "text": [
      "Expanded Result\n"
     ]
    },
    {
     "data": {
      "text/latex": [
       "$\\displaystyle \\frac{4 x^{5} - x}{2 x^{3} - x} = \\frac{4 x^{5}}{2 x^{3} - x} - \\frac{x}{2 x^{3} - x}$"
      ],
      "text/plain": [
       "<IPython.core.display.Math object>"
      ]
     },
     "metadata": {},
     "output_type": "display_data"
    },
    {
     "name": "stdout",
     "output_type": "stream",
     "text": [
      "Simplified Result\n"
     ]
    },
    {
     "data": {
      "text/latex": [
       "$\\displaystyle \\frac{4 x^{5} - x}{2 x^{3} - x} = 2 x^{2} + 1$"
      ],
      "text/plain": [
       "<IPython.core.display.Math object>"
      ]
     },
     "metadata": {},
     "output_type": "display_data"
    }
   ],
   "source": [
    "p1 = 4*x**5 - x\n",
    "p2 = 2*x**3 - x\n",
    "\n",
    "print(\"Solved Result\")\n",
    "display(Math(\"\\\\frac{%s}{%s} = %s\" %(sym.latex(p1), sym.latex(p2), sym.latex(sym.solve(p1 / p2)))))\n",
    "\n",
    "print(\"Expanded Result\")\n",
    "display(Math(\"\\\\frac{%s}{%s} = %s\" %(sym.latex(p1), sym.latex(p2), sym.latex(sym.expand(p1 / p2)))))\n",
    "\n",
    "print(\"Simplified Result\")\n",
    "display(Math(\"\\\\frac{%s}{%s} = %s\" %(sym.latex(p1), sym.latex(p2), sym.latex(sym.simplify(p1 / p2)))))"
   ]
  },
  {
   "cell_type": "markdown",
   "metadata": {},
   "source": [
    "#### Exercises"
   ]
  },
  {
   "cell_type": "code",
   "execution_count": 94,
   "metadata": {},
   "outputs": [
    {
     "data": {
      "text/latex": [
       "$\\displaystyle \\frac{x^{6} + 2 x^{4} + 6 x - 9}{x^{3} + 3} = x^{3} + 2 x - 3$"
      ],
      "text/plain": [
       "<IPython.core.display.Math object>"
      ]
     },
     "metadata": {},
     "output_type": "display_data"
    },
    {
     "name": "stdout",
     "output_type": "stream",
     "text": [
      "Only when then answer is \"9\", we got no denominator.\n"
     ]
    }
   ],
   "source": [
    "p1 = x**6 + (2 * x**4) + (6*x) - y\n",
    "p2 = x**3 + 3\n",
    "\n",
    "for i in range(5, 15 + 1):\n",
    "    temp_p1 = p1.subs(y, i)\n",
    "    if sym.fraction(sym.simplify(temp_p1/p2))[1] == 1:\n",
    "        display(Math(\"%s = %s\" % (sym.latex(temp_p1/p2), sym.latex(sym.simplify(temp_p1/p2)))))\n",
    "        rightanswer = i\n",
    "\n",
    "print(f'Only when then answer is \"{rightanswer}\", we got no denominator.')"
   ]
  },
  {
   "cell_type": "markdown",
   "metadata": {},
   "source": [
    "## Polynomial Factorization"
   ]
  },
  {
   "cell_type": "code",
   "execution_count": 102,
   "metadata": {},
   "outputs": [
    {
     "data": {
      "text/latex": [
       "$\\displaystyle \\left(x + 1\\right) \\left(x + 3\\right)$"
      ],
      "text/plain": [
       "(x + 1)*(x + 3)"
      ]
     },
     "execution_count": 102,
     "metadata": {},
     "output_type": "execute_result"
    }
   ],
   "source": [
    "x,y = sym.symbols(\"x,y\")\n",
    "\n",
    "p1 = x**2 + 4*x + 3\n",
    "\n",
    "# convert it into its factors\n",
    "sym.factor(p1)"
   ]
  },
  {
   "cell_type": "code",
   "execution_count": 107,
   "metadata": {},
   "outputs": [
    {
     "data": {
      "text/latex": [
       "$\\displaystyle 2 x \\left(x^{2} y + x y + 2 x - 3 y + 3\\right)$"
      ],
      "text/plain": [
       "2*x*(x**2*y + x*y + 2*x - 3*y + 3)"
      ]
     },
     "execution_count": 107,
     "metadata": {},
     "output_type": "execute_result"
    }
   ],
   "source": [
    "expr = 2*x**3*y - 2*x**2 + 2*x**2*y + 6*x**2 - 6*x*y + 6*x\n",
    "sym.factor(expr)"
   ]
  },
  {
   "cell_type": "markdown",
   "metadata": {},
   "source": [
    "#### Exercise"
   ]
  },
  {
   "cell_type": "code",
   "execution_count": 133,
   "metadata": {},
   "outputs": [
    {
     "data": {
      "text/latex": [
       "$\\displaystyle x**2 + 4*x + 3 \\quad \\Rightarrow \\quad \\left(x + 1\\right) \\left(x + 3\\right)$"
      ],
      "text/plain": [
       "<IPython.core.display.Math object>"
      ]
     },
     "metadata": {},
     "output_type": "display_data"
    },
    {
     "data": {
      "text/latex": [
       "$\\displaystyle 2*y**2 - 1 \\quad \\Rightarrow \\quad \\text{Not Factorable!}$"
      ],
      "text/plain": [
       "<IPython.core.display.Math object>"
      ]
     },
     "metadata": {},
     "output_type": "display_data"
    },
    {
     "data": {
      "text/latex": [
       "$\\displaystyle 3*y**2 + 12*y \\quad \\Rightarrow \\quad 3 y \\left(y + 4\\right)$"
      ],
      "text/plain": [
       "<IPython.core.display.Math object>"
      ]
     },
     "metadata": {},
     "output_type": "display_data"
    }
   ],
   "source": [
    "p1 = x**2 + 4*x + 3\n",
    "p2 = 2*y**2 - 1\n",
    "p3 = 3*y**2 + 12*y\n",
    "poly_list = [p1, p2, p3]\n",
    "\n",
    "for i in poly_list: \n",
    "    current_factor = sym.factor(i)\n",
    "    if str(current_factor).find(\"(\") != -1: \n",
    "        display(Math(\"%s \\\\quad \\\\Rightarrow \\\\quad %s\" %(i, sym.latex(current_factor))))\n",
    "    else: \n",
    "        display(Math(\"%s \\\\quad \\\\Rightarrow \\\\quad \\\\text{%s}\" %(i, \"Not Factorable!\")))"
   ]
  }
 ],
 "metadata": {
  "interpreter": {
   "hash": "dcecd293c5c4d531c7dfb1583ee5220d15a288f363029e32001c9eb594406bc4"
  },
  "kernelspec": {
   "display_name": "Python 3.9.7 ('base')",
   "language": "python",
   "name": "python3"
  },
  "language_info": {
   "codemirror_mode": {
    "name": "ipython",
    "version": 3
   },
   "file_extension": ".py",
   "mimetype": "text/x-python",
   "name": "python",
   "nbconvert_exporter": "python",
   "pygments_lexer": "ipython3",
   "version": "3.9.7"
  },
  "orig_nbformat": 4
 },
 "nbformat": 4,
 "nbformat_minor": 2
}
