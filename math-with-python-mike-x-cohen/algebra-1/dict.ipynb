{
 "cells": [
  {
   "cell_type": "markdown",
   "metadata": {},
   "source": [
    "## Exercises"
   ]
  },
  {
   "cell_type": "code",
   "execution_count": 3,
   "metadata": {},
   "outputs": [],
   "source": [
    "import sympy as sym\n",
    "from IPython.display import display, Math"
   ]
  },
  {
   "cell_type": "code",
   "execution_count": 49,
   "metadata": {},
   "outputs": [
    {
     "name": "stdout",
     "output_type": "stream",
     "text": [
      "Solutions for equations involving x :-\n"
     ]
    },
    {
     "data": {
      "text/latex": [
       "$\\displaystyle \\quad\\quad 4 x - 6 = 0\\quad \\Longrightarrow \\quad x = \\left[ \\frac{3}{2}\\right]$"
      ],
      "text/plain": [
       "<IPython.core.display.Math object>"
      ]
     },
     "metadata": {},
     "output_type": "display_data"
    },
    {
     "data": {
      "text/latex": [
       "$\\displaystyle \\quad\\quad x^{2} - 9 = 0\\quad \\Longrightarrow \\quad x = \\left[ -3, \\  3\\right]$"
      ],
      "text/plain": [
       "<IPython.core.display.Math object>"
      ]
     },
     "metadata": {},
     "output_type": "display_data"
    },
    {
     "name": "stdout",
     "output_type": "stream",
     "text": [
      "Solutions for equations involving y :-\n"
     ]
    },
    {
     "data": {
      "text/latex": [
       "$\\displaystyle \\quad\\quad \\sin{\\left(y \\right)} = 0\\quad \\Longrightarrow \\quad y = \\left[ 0, \\  \\pi\\right]$"
      ],
      "text/plain": [
       "<IPython.core.display.Math object>"
      ]
     },
     "metadata": {},
     "output_type": "display_data"
    }
   ],
   "source": [
    "x,y = sym.symbols(\"x,y\")\n",
    "\n",
    "math_dict = dict(eq_with_x = [4*x-6, x**2-9], eq_with_y = [sym.sin(y)])\n",
    "\n",
    "for key_i in math_dict: \n",
    "    print(f\"Solutions for equations involving {key_i[-1]} :-\")\n",
    "    for eqi in math_dict[key_i]: \n",
    "        leftpart = sym.latex(eqi) + \" = 0\"\n",
    "        middlepart = \"\\\\quad \\\\Longrightarrow \\\\quad \" + key_i[-1] + \" = \"\n",
    "        rightpart = sym.latex(sym.solve(eqi))\n",
    "\n",
    "        display(Math(\"\\\\quad\\\\quad \" + leftpart+middlepart+rightpart))"
   ]
  }
 ],
 "metadata": {
  "interpreter": {
   "hash": "dcecd293c5c4d531c7dfb1583ee5220d15a288f363029e32001c9eb594406bc4"
  },
  "kernelspec": {
   "display_name": "Python 3.9.7 ('base')",
   "language": "python",
   "name": "python3"
  },
  "language_info": {
   "codemirror_mode": {
    "name": "ipython",
    "version": 3
   },
   "file_extension": ".py",
   "mimetype": "text/x-python",
   "name": "python",
   "nbconvert_exporter": "python",
   "pygments_lexer": "ipython3",
   "version": "3.9.7"
  },
  "orig_nbformat": 4
 },
 "nbformat": 4,
 "nbformat_minor": 2
}
