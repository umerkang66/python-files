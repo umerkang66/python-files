{
 "cells": [
  {
   "cell_type": "code",
   "execution_count": 1,
   "metadata": {},
   "outputs": [],
   "source": [
    "import sympy as sym\n",
    "from IPython.display import display, Math"
   ]
  },
  {
   "cell_type": "code",
   "execution_count": 2,
   "metadata": {},
   "outputs": [
    {
     "data": {
      "text/plain": [
       "True"
      ]
     },
     "execution_count": 2,
     "metadata": {},
     "output_type": "execute_result"
    }
   ],
   "source": [
    "# associative\n",
    "from sympy.abc import x,y\n",
    "\n",
    "expr_1 = x * (4 * y)\n",
    "expr_2 = (x * 4) * y\n",
    "\n",
    "expr_1 - expr_2 == 0"
   ]
  },
  {
   "cell_type": "code",
   "execution_count": 3,
   "metadata": {},
   "outputs": [
    {
     "name": "stdout",
     "output_type": "stream",
     "text": [
      "🚀🚀🚀 Answer are equal: [140, 140, 140]\n"
     ]
    }
   ],
   "source": [
    "# commutative\n",
    "expr_1 = 4 * x * y\n",
    "expr_2 = x * 4 * y\n",
    "expr_3 = y * x * 4\n",
    "\n",
    "expr_list = [expr_1, expr_2, expr_3]\n",
    "ans_list = []\n",
    "\n",
    "for i in expr_list: \n",
    "    ans_list.append(i.subs({x: 5, y: 7}))\n",
    "\n",
    "# initialize the answer\n",
    "ans = f\"🚀🚀🚀 Answer are equal: {ans_list}\"\n",
    "\n",
    "for i in ans_list: \n",
    "    for j in ans_list: \n",
    "        if i != j: \n",
    "            ans = f\"❌ Answers are not equal {ans_list}\"\n",
    "            break\n",
    "\n",
    "print(ans)"
   ]
  },
  {
   "cell_type": "code",
   "execution_count": 32,
   "metadata": {},
   "outputs": [
    {
     "data": {
      "text/latex": [
       "$\\displaystyle a c + a d + b c + b d$"
      ],
      "text/plain": [
       "a*c + a*d + b*c + b*d"
      ]
     },
     "execution_count": 32,
     "metadata": {},
     "output_type": "execute_result"
    }
   ],
   "source": [
    "# distributive\n",
    "a,b,c,d = sym.symbols(\"a,b,c,d\")\n",
    "\n",
    "expr = (a+b) * (c+d)\n",
    "sym.expand(expr)"
   ]
  },
  {
   "cell_type": "markdown",
   "metadata": {},
   "source": [
    "## Exercises"
   ]
  },
  {
   "cell_type": "markdown",
   "metadata": {},
   "source": [
    "#### Exercise_1"
   ]
  },
  {
   "cell_type": "code",
   "execution_count": 59,
   "metadata": {},
   "outputs": [
    {
     "data": {
      "text/latex": [
       "$\\displaystyle \\frac{\\left(- 3 w^{6} + \\left(w^{3} \\left(w - 4\\right) - w - 1\\right)^{3}\\right)^{2} \\left(y + z\\right)^{2}}{w^{12}}$"
      ],
      "text/plain": [
       "<IPython.core.display.Math object>"
      ]
     },
     "metadata": {},
     "output_type": "display_data"
    },
    {
     "data": {
      "text/latex": [
       "$\\displaystyle \\frac{\\left(- 3 w^{6} + \\left(w^{3} \\left(w - 4\\right) - w - 1\\right)^{3}\\right)^{2} \\left(y + z\\right)^{2}}{w^{12}}$"
      ],
      "text/plain": [
       "<IPython.core.display.Math object>"
      ]
     },
     "metadata": {},
     "output_type": "display_data"
    },
    {
     "data": {
      "text/latex": [
       "$\\displaystyle 0$"
      ],
      "text/plain": [
       "0"
      ]
     },
     "execution_count": 59,
     "metadata": {},
     "output_type": "execute_result"
    }
   ],
   "source": [
    "w,x,y,z = sym.symbols(\"w,x,y,z\")\n",
    "\n",
    "x = w * (4 - w) + (1 / w**2) * (1 + w)\n",
    "f1 = x * (y + z)\n",
    "f2 = (3 / x) + x**2\n",
    "\n",
    "expr_1 = f1 * f2\n",
    "expr_2 = f2 * f1\n",
    "\n",
    "display(Math(sym.latex(sym.simplify(expr_1 * expr_2))))\n",
    "display(Math(sym.latex(sym.simplify(expr_2 * expr_1))))\n",
    "\n",
    "expr_1 - expr_2"
   ]
  },
  {
   "cell_type": "markdown",
   "metadata": {},
   "source": [
    "#### Exercise_2"
   ]
  },
  {
   "cell_type": "code",
   "execution_count": 67,
   "metadata": {},
   "outputs": [
    {
     "data": {
      "text/latex": [
       "$\\displaystyle x \\left(4 - 6 x\\right) + 3 x \\quad \\Longleftrightarrow \\quad - 6 x^{2} + 7 x$"
      ],
      "text/plain": [
       "<IPython.core.display.Math object>"
      ]
     },
     "metadata": {},
     "output_type": "display_data"
    },
    {
     "data": {
      "text/latex": [
       "$\\displaystyle - x \\left(\\frac{2}{x} + \\frac{4}{x^{2}}\\right) + \\frac{x + 4}{4 x} \\quad \\Longleftrightarrow \\quad - \\frac{7}{4} - \\frac{3}{x}$"
      ],
      "text/plain": [
       "<IPython.core.display.Math object>"
      ]
     },
     "metadata": {},
     "output_type": "display_data"
    },
    {
     "data": {
      "text/latex": [
       "$\\displaystyle \\frac{\\left(x - 3\\right) \\left(x + 3\\right)}{9} \\quad \\Longleftrightarrow \\quad \\frac{x^{2}}{9} - 1$"
      ],
      "text/plain": [
       "<IPython.core.display.Math object>"
      ]
     },
     "metadata": {},
     "output_type": "display_data"
    }
   ],
   "source": [
    "x = sym.symbols(\"x\")\n",
    "\n",
    "e1 = 2*x + x*(4-6*x) + x\n",
    "e2 = -x * (2/x + 4/x**2) + (4+x)/(4*x)\n",
    "e3 = (x+3)*(x-3)*x*(1/(9*x))\n",
    "exprs = [e1, e2, e3]\n",
    "\n",
    "for expr_i in exprs: \n",
    "    display(Math(\"%s \\\\quad \\\\Longleftrightarrow \\\\quad %s\" %(sym.latex(expr_i), sym.latex(sym.expand(expr_i)))))"
   ]
  },
  {
   "cell_type": "code",
   "execution_count": 92,
   "metadata": {},
   "outputs": [
    {
     "data": {
      "text/plain": [
       "[99, 32, 25, 12]"
      ]
     },
     "execution_count": 92,
     "metadata": {},
     "output_type": "execute_result"
    }
   ],
   "source": [
    "umer = [12, 13, 25, 29, 32, 82, 99]\n",
    "# ::-2 is skipping, it actual reverses the array\n",
    "umer[::-2]"
   ]
  }
 ],
 "metadata": {
  "interpreter": {
   "hash": "dcecd293c5c4d531c7dfb1583ee5220d15a288f363029e32001c9eb594406bc4"
  },
  "kernelspec": {
   "display_name": "Python 3.9.7 ('base')",
   "language": "python",
   "name": "python3"
  },
  "language_info": {
   "codemirror_mode": {
    "name": "ipython",
    "version": 3
   },
   "file_extension": ".py",
   "mimetype": "text/x-python",
   "name": "python",
   "nbconvert_exporter": "python",
   "pygments_lexer": "ipython3",
   "version": "3.9.12"
  },
  "orig_nbformat": 4
 },
 "nbformat": 4,
 "nbformat_minor": 2
}
