{
 "cells": [
  {
   "cell_type": "code",
   "execution_count": 29,
   "metadata": {},
   "outputs": [],
   "source": [
    "import numpy as np\n",
    "import matplotlib.pyplot as plt\n",
    "import pandas as pd\n",
    "from IPython.display import display, Math"
   ]
  },
  {
   "cell_type": "code",
   "execution_count": 43,
   "metadata": {},
   "outputs": [
    {
     "data": {
      "image/png": "[encoded data removed]",
      "text/plain": [
       "<Figure size 432x288 with 1 Axes>"
      ]
     },
     "metadata": {
      "needs_background": "light"
     },
     "output_type": "display_data"
    }
   ],
   "source": [
    "faircoin = .5\n",
    "biascoin = .6\n",
    "n_trials = 10\n",
    "\n",
    "# initialize\n",
    "results = np.zeros((2,n_trials))\n",
    "\n",
    "for i in range(0,n_trials):\n",
    "    results[0,i] = np.random.rand() > faircoin\n",
    "    results[1,i] = np.random.rand() > biascoin\n",
    "\n",
    "\n",
    "plt.plot(results[0,:]-.05, 's', markersize=10, label=\"fair coin\")\n",
    "plt.plot(results[1,:]+.05, 's', markersize=10, label=\"bias coin\")\n",
    "\n",
    "plt.yticks([0,1], [\"Tails\", \"Heads\"])\n",
    "plt.ylim([-.5,1.5])\n",
    "plt.legend()\n",
    "plt.xlabel(\"Flip #\")\n",
    "plt.show()"
   ]
  },
  {
   "cell_type": "code",
   "execution_count": 51,
   "metadata": {},
   "outputs": [
    {
     "data": {
      "text/html": [
       "<div>\n",
       "<style scoped>\n",
       "    .dataframe tbody tr th:only-of-type {\n",
       "        vertical-align: middle;\n",
       "    }\n",
       "\n",
       "    .dataframe tbody tr th {\n",
       "        vertical-align: top;\n",
       "    }\n",
       "\n",
       "    .dataframe thead th {\n",
       "        text-align: right;\n",
       "    }\n",
       "</style>\n",
       "<table border=\"1\" class=\"dataframe\">\n",
       "  <thead>\n",
       "    <tr style=\"text-align: right;\">\n",
       "      <th></th>\n",
       "      <th>0</th>\n",
       "      <th>1</th>\n",
       "      <th>2</th>\n",
       "      <th>3</th>\n",
       "      <th>4</th>\n",
       "      <th>5</th>\n",
       "      <th>6</th>\n",
       "      <th>7</th>\n",
       "      <th>8</th>\n",
       "      <th>9</th>\n",
       "      <th>Avg.</th>\n",
       "    </tr>\n",
       "  </thead>\n",
       "  <tbody>\n",
       "    <tr>\n",
       "      <th>fair.</th>\n",
       "      <td>0</td>\n",
       "      <td>1</td>\n",
       "      <td>1</td>\n",
       "      <td>0</td>\n",
       "      <td>1</td>\n",
       "      <td>0</td>\n",
       "      <td>1</td>\n",
       "      <td>0</td>\n",
       "      <td>0</td>\n",
       "      <td>1</td>\n",
       "      <td>0.5</td>\n",
       "    </tr>\n",
       "    <tr>\n",
       "      <th>biased.</th>\n",
       "      <td>0</td>\n",
       "      <td>0</td>\n",
       "      <td>1</td>\n",
       "      <td>0</td>\n",
       "      <td>0</td>\n",
       "      <td>1</td>\n",
       "      <td>0</td>\n",
       "      <td>0</td>\n",
       "      <td>0</td>\n",
       "      <td>0</td>\n",
       "      <td>0.2</td>\n",
       "    </tr>\n",
       "  </tbody>\n",
       "</table>\n",
       "</div>"
      ],
      "text/plain": [
       "         0  1  2  3  4  5  6  7  8  9  Avg.\n",
       "fair.    0  1  1  0  1  0  1  0  0  1   0.5\n",
       "biased.  0  0  1  0  0  1  0  0  0  0   0.2"
      ]
     },
     "metadata": {},
     "output_type": "display_data"
    }
   ],
   "source": [
    "# dataframe of upper result\n",
    "df = pd.DataFrame(results, dtype=int, index=[\"fair.\",\"biased.\"])\n",
    "df[\"Avg.\"] = df.mean(axis=1)\n",
    "\n",
    "display(df)"
   ]
  },
  {
   "cell_type": "markdown",
   "metadata": {},
   "source": [
    "## Exercise\n",
    "\n",
    "Create a \"weighted die\" that is twice as likely to roll \"1\" as any other number. Make a probability graph based on 50 rolls"
   ]
  },
  {
   "cell_type": "code",
   "execution_count": 111,
   "metadata": {},
   "outputs": [
    {
     "data": {
      "image/png": "[encoded data removed]",
      "text/plain": [
       "<Figure size 432x288 with 1 Axes>"
      ]
     },
     "metadata": {
      "needs_background": "light"
     },
     "output_type": "display_data"
    }
   ],
   "source": [
    "n = 50\n",
    "outcomes = np.zeros(6)\n",
    "\n",
    "# theoratical\n",
    "pure_probabilities = np.array([2,1,1,1,1,1])\n",
    "pure_probabilities = pure_probabilities / np.sum(pure_probabilities)\n",
    "\n",
    "for i in range(n):\n",
    "    # roll a 7-sided die\n",
    "    dieroll = np.random.randint(0,7)\n",
    "    # impose the bias\n",
    "    if dieroll == 6:\n",
    "        dieroll = 0\n",
    "    outcomes[dieroll] += 1\n",
    "\n",
    "\n",
    "plt.bar(range(1,7),outcomes/n,color=\"k\", label=\"Empirical (proportion)\")\n",
    "plt.plot(range(1,7),pure_probabilities,'ms-',markersize=10, label=\"Theoratical (probability)\")\n",
    "\n",
    "\n",
    "for i in range(1,7):\n",
    "    plt.text(i,outcomes[i-1]/n-.025,'%s%%' %int(100*outcomes[i-1]/n),color='w',fontsize=12,horizontalalignment='center')\n",
    " \n",
    "\n",
    "plt.legend()\n",
    "plt.xlabel(\"Die face\")\n",
    "plt.ylabel(\"Probability or Proportion\")\n",
    "plt.legend()\n",
    "plt.show()"
   ]
  }
 ],
 "metadata": {
  "interpreter": {
   "hash": "e5c6a46a1473a2409ca8ff254ed396d3eda3290bc5701d6964bbc7b0690191bf"
  },
  "kernelspec": {
   "display_name": "Python 3.9.7 ('base')",
   "language": "python",
   "name": "python3"
  },
  "language_info": {
   "codemirror_mode": {
    "name": "ipython",
    "version": 3
   },
   "file_extension": ".py",
   "mimetype": "text/x-python",
   "name": "python",
   "nbconvert_exporter": "python",
   "pygments_lexer": "ipython3",
   "version": "3.9.7"
  },
  "orig_nbformat": 4
 },
 "nbformat": 4,
 "nbformat_minor": 2
}
