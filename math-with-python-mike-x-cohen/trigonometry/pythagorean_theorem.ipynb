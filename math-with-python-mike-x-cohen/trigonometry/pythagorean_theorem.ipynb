{
 "cells": [
  {
   "cell_type": "code",
   "execution_count": 1,
   "metadata": {},
   "outputs": [],
   "source": [
    "import numpy as np\n",
    "import matplotlib.pyplot as plt"
   ]
  },
  {
   "cell_type": "markdown",
   "metadata": {},
   "source": [
    "## Pythagorean Theorem\n",
    "\n",
    "if one of the angle of a triangle is $90^\\circ$, then there is a relationship between three sides of triangle\n",
    "\n",
    "$a^2 + b^2 = c^2$\n",
    "\n",
    "where \"c\" is third line \"slope of triangle\""
   ]
  },
  {
   "cell_type": "code",
   "execution_count": 71,
   "metadata": {},
   "outputs": [
    {
     "data": {
      "image/png": "[encoded data removed]",
      "text/plain": [
       "<Figure size 432x288 with 1 Axes>"
      ]
     },
     "metadata": {
      "needs_background": "light"
     },
     "output_type": "display_data"
    }
   ],
   "source": [
    "a = 3\n",
    "b = 4\n",
    "c = np.sqrt(a**2 + b**2)\n",
    "\n",
    "# draw the triangle\n",
    "# first line (bottom)\n",
    "plt.plot([0,a],[0,0], 'k')\n",
    "# second line (right)\n",
    "plt.plot([0,0],[0,b], 'k')\n",
    "# third line (slope)\n",
    "plt.plot([0,a],[b,0], 'k')\n",
    "\n",
    "# 90 deg sign\n",
    "plt.plot([.5,.5],[0,.5], 'k')\n",
    "plt.plot([0,.5],[.5,.5], 'k')\n",
    "\n",
    "plt.text(a/3,-0.3,\"a=\" + str(a))\n",
    "plt.text(0.2,b/2,\"b=\" + str(b))\n",
    "plt.text(a/2+.2,b/2,\"c=\" + str(c))\n",
    "\n",
    "plt.axis(\"square\")\n",
    "x_y_lim = np.max((a,b)) + .5 # add a little bit more\n",
    "plt.axis([-.5,x_y_lim,-.5,x_y_lim])\n",
    "\n",
    "plt.show()"
   ]
  },
  {
   "cell_type": "markdown",
   "metadata": {},
   "source": [
    "## Exercise"
   ]
  },
  {
   "cell_type": "code",
   "execution_count": 84,
   "metadata": {},
   "outputs": [
    {
     "name": "stdout",
     "output_type": "stream",
     "text": [
      "5.0 5.0 ==> True\n",
      "0.9272952180016122 0.9272952180016122 ==> True\n"
     ]
    }
   ],
   "source": [
    "z = complex(3,4)\n",
    "\n",
    "# slope of triangle made when complex number is plotted on graph\n",
    "mag1 = np.sqrt(np.real(z)**2 + np.imag(z)**2)\n",
    "mag2 = abs(z)\n",
    "\n",
    "# angle in radians\n",
    "ang1 = np.arctan2(np.imag(z), np.real(z))\n",
    "ang2 = np.angle(z)\n",
    "\n",
    "print(mag1,mag2, '==>', mag1==mag2) \n",
    "print(ang1,ang2, '==>', ang1==ang2)"
   ]
  }
 ],
 "metadata": {
  "interpreter": {
   "hash": "dcecd293c5c4d531c7dfb1583ee5220d15a288f363029e32001c9eb594406bc4"
  },
  "kernelspec": {
   "display_name": "Python 3.9.7 ('base')",
   "language": "python",
   "name": "python3"
  },
  "language_info": {
   "name": "python",
   "version": "3.9.7"
  },
  "orig_nbformat": 4
 },
 "nbformat": 4,
 "nbformat_minor": 2
}
