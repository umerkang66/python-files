{
 "cells": [
  {
   "cell_type": "code",
   "execution_count": 58,
   "metadata": {},
   "outputs": [],
   "source": [
    "import numpy as np\n",
    "import matplotlib.pyplot as plt"
   ]
  },
  {
   "cell_type": "markdown",
   "metadata": {},
   "source": [
    "## Radian and Degrees\n",
    "\n",
    "$2 \\pi = 360^\\circ$\n",
    "\n",
    "Converting Radians into Degrees\n",
    "\n",
    "$1^\\circ = \\text{radian} \\times \\frac{360^\\circ}{2 \\pi} = \\text{radian} \\times \\frac{180}{\\pi}$\n",
    "\n",
    "Converting Degrees into Radians\n",
    "\n",
    "$1 \\: \\text{rad} = \\text{deg} \\times \\frac{2 \\pi}{360^\\circ} = \\text{deg} \\times \\frac{\\pi}{180}$"
   ]
  },
  {
   "cell_type": "code",
   "execution_count": 18,
   "metadata": {},
   "outputs": [
    {
     "name": "stdout",
     "output_type": "stream",
     "text": [
      "180 degrees is 3.14159 radians.\n"
     ]
    },
    {
     "data": {
      "text/plain": [
       "True"
      ]
     },
     "execution_count": 18,
     "metadata": {},
     "output_type": "execute_result"
    }
   ],
   "source": [
    "deg = 180\n",
    "\n",
    "# for 1 degree\n",
    "rad_1 = np.pi / 180\n",
    "# for 180 degrees\n",
    "rad = rad_1 * deg\n",
    "# for potentially large numbers, they will be just moving around the same circle, not matter how many times\n",
    "rad = rad%(2*np.pi)\n",
    "\n",
    "print(\"%g degrees is %g radians.\" %(deg, rad))\n"
   ]
  },
  {
   "cell_type": "code",
   "execution_count": 41,
   "metadata": {},
   "outputs": [
    {
     "name": "stdout",
     "output_type": "stream",
     "text": [
      "180.0\n"
     ]
    }
   ],
   "source": [
    "rad = np.pi\n",
    "\n",
    "deg_1 = 180 / np.pi\n",
    "deg = deg_1 * rad\n",
    "# for radians that have completed the circle more than one times\n",
    "deg = deg % 360\n",
    "\n",
    "print(deg)"
   ]
  },
  {
   "cell_type": "markdown",
   "metadata": {},
   "source": [
    "## By using numpy functions"
   ]
  },
  {
   "cell_type": "code",
   "execution_count": 35,
   "metadata": {},
   "outputs": [
    {
     "name": "stdout",
     "output_type": "stream",
     "text": [
      "6.283185307179586\n",
      "180.0\n"
     ]
    }
   ],
   "source": [
    "deg = 360\n",
    "rad = np.deg2rad(deg)\n",
    "print(rad)\n",
    "\n",
    "rad = np.pi\n",
    "deg = np.rad2deg(rad)\n",
    "print(deg)"
   ]
  },
  {
   "cell_type": "markdown",
   "metadata": {},
   "source": [
    "## Exercise"
   ]
  },
  {
   "cell_type": "code",
   "execution_count": 97,
   "metadata": {},
   "outputs": [],
   "source": [
    "def angle_convert(input_angle, input_unit): \n",
    "    if (input_unit == \"degree\" or input_unit == \"deg\"):\n",
    "        return (input_angle * np.pi / 180)%(2*np.pi)\n",
    "    elif (input_unit == \"radian\" or input_unit == \"rad\"):\n",
    "        return (input_angle * 180 / np.pi) % 360\n",
    "    else:\n",
    "        raise ValueError(\"Invalid input is provided\")\n",
    "\n",
    "\n",
    "def angle_plot(input_angle, angle_type):\n",
    "    if angle_type == \"deg\":\n",
    "        deg = input_angle\n",
    "        rad = angle_convert(input_angle,angle_type)\n",
    "    elif angle_type == \"rad\":\n",
    "        deg = angle_convert(input_angle, angle_type)\n",
    "        rad = input_angle\n",
    "\n",
    "    plt.plot([0,1],[0,0])\n",
    "    plt.plot([0,np.cos(rad)],[0,np.sin(rad)])\n",
    "\n",
    "    plt.axis(\"square\")\n",
    "    plt.axis([-1,1,-1,1])\n",
    "    plt.grid()\n",
    "\n",
    "    plt.title(\"Angle is %s$^\\\\circ$ or %s rad\" %(deg, rad))\n",
    "    plt.show()"
   ]
  },
  {
   "cell_type": "code",
   "execution_count": 105,
   "metadata": {},
   "outputs": [
    {
     "data": {
      "image/png": "[encoded data removed]",
      "text/plain": [
       "<Figure size 432x288 with 1 Axes>"
      ]
     },
     "metadata": {
      "needs_background": "light"
     },
     "output_type": "display_data"
    }
   ],
   "source": [
    "angle_plot(45, \"deg\")"
   ]
  }
 ],
 "metadata": {
  "interpreter": {
   "hash": "dcecd293c5c4d531c7dfb1583ee5220d15a288f363029e32001c9eb594406bc4"
  },
  "kernelspec": {
   "display_name": "Python 3.9.7 ('base')",
   "language": "python",
   "name": "python3"
  },
  "language_info": {
   "codemirror_mode": {
    "name": "ipython",
    "version": 3
   },
   "file_extension": ".py",
   "mimetype": "text/x-python",
   "name": "python",
   "nbconvert_exporter": "python",
   "pygments_lexer": "ipython3",
   "version": "3.9.7"
  },
  "orig_nbformat": 4
 },
 "nbformat": 4,
 "nbformat_minor": 2
}
