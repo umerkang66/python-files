{
 "cells": [
  {
   "cell_type": "code",
   "execution_count": 33,
   "metadata": {},
   "outputs": [],
   "source": [
    "import sympy as sym"
   ]
  },
  {
   "cell_type": "code",
   "execution_count": 32,
   "metadata": {},
   "outputs": [
    {
     "name": "stdout",
     "output_type": "stream",
     "text": [
      "[2, 2, 2, 2, 3]\n"
     ]
    }
   ],
   "source": [
    "number = 48\n",
    "factor_start = 2\n",
    "factors = []\n",
    "\n",
    "\n",
    "def isPrime(k):\n",
    "    if k == 2 or k == 3:\n",
    "        return True\n",
    "    if k % 2 == 0 or k < 2:\n",
    "        return False\n",
    "    for i in range(3, int(k**0.5)+1, 2):\n",
    "        if k % i == 0:\n",
    "            return False\n",
    "    return True\n",
    "\n",
    "\n",
    "while True:\n",
    "    if number == 1:\n",
    "        break\n",
    "    else:\n",
    "        if number % factor_start == 0 and isPrime(factor_start):\n",
    "            factors.append(factor_start)\n",
    "            number = number / factor_start\n",
    "        else:\n",
    "            factor_start += 1\n",
    "\n",
    "print(factors)\n"
   ]
  },
  {
   "cell_type": "code",
   "execution_count": null,
   "metadata": {},
   "outputs": [],
   "source": [
    "for i in range(2, 50 + 1): \n",
    "    dict = sym.factorint(i)\n",
    "    keys = list(dict.keys())\n",
    "\n",
    "    # there is only one element in dictionary, and that number appears only once\n",
    "    if len(dict) == 1 and dict[keys[0]] == 1:\n",
    "        print(\"%g is a prime number\" %i)\n",
    "    else: \n",
    "        print(\"%g is a composite number, with prime numbers: %s\" %(i, list(dict.keys())))"
   ]
  }
 ],
 "metadata": {
  "interpreter": {
   "hash": "dcecd293c5c4d531c7dfb1583ee5220d15a288f363029e32001c9eb594406bc4"
  },
  "kernelspec": {
   "display_name": "Python 3.9.7 ('base')",
   "language": "python",
   "name": "python3"
  },
  "language_info": {
   "codemirror_mode": {
    "name": "ipython",
    "version": 3
   },
   "file_extension": ".py",
   "mimetype": "text/x-python",
   "name": "python",
   "nbconvert_exporter": "python",
   "pygments_lexer": "ipython3",
   "version": "3.9.7"
  },
  "orig_nbformat": 4
 },
 "nbformat": 4,
 "nbformat_minor": 2
}
