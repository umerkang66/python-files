{
 "cells": [
  {
   "cell_type": "code",
   "execution_count": 31,
   "metadata": {},
   "outputs": [],
   "source": [
    "import math\n",
    "import sympy as sym\n",
    "import numpy as np\n",
    "from IPython.display import display, Math"
   ]
  },
  {
   "cell_type": "code",
   "execution_count": 2,
   "metadata": {},
   "outputs": [
    {
     "data": {
      "text/plain": [
       "3"
      ]
     },
     "execution_count": 2,
     "metadata": {},
     "output_type": "execute_result"
    }
   ],
   "source": [
    "# this is actually hcf\n",
    "math.gcd(3, 15)"
   ]
  },
  {
   "cell_type": "code",
   "execution_count": 3,
   "metadata": {},
   "outputs": [
    {
     "data": {
      "text/latex": [
       "$\\displaystyle \\frac{2}{11} \\Rightarrow \\frac{2 \\times 8}{11 \\times 8} \\Rightarrow \\frac{16}{88}$"
      ],
      "text/plain": [
       "<IPython.core.display.Math object>"
      ]
     },
     "metadata": {},
     "output_type": "display_data"
    }
   ],
   "source": [
    "a = 16\n",
    "b = 88\n",
    "\n",
    "fact = math.gcd(16, 88)\n",
    "\n",
    "a_mod = int(a / fact)\n",
    "b_mod = int(b / fact)\n",
    "\n",
    "display(Math(\"\\\\frac{%g}{%g} \\\\Rightarrow \\\\frac{%g \\\\times %g}{%g \\\\times %g} \\\\Rightarrow \\\\frac{%g}{%g}\" %(a_mod, b_mod, a_mod, fact, b_mod, fact, a, b)))"
   ]
  },
  {
   "cell_type": "markdown",
   "metadata": {},
   "source": [
    "## Exercises"
   ]
  },
  {
   "cell_type": "markdown",
   "metadata": {},
   "source": [
    "#### Exercise_1"
   ]
  },
  {
   "cell_type": "code",
   "execution_count": 29,
   "metadata": {},
   "outputs": [
    {
     "data": {
      "text/plain": [
       "True"
      ]
     },
     "execution_count": 29,
     "metadata": {},
     "output_type": "execute_result"
    }
   ],
   "source": [
    "a,b,c, = sym.symbols(\"a,b,c\")\n",
    "\n",
    "lhs_gcd = sym.gcd(c*a, c*b)\n",
    "rhs_gcd = c * sym.gcd(a, b)\n",
    "\n",
    "lhs_gcd == rhs_gcd"
   ]
  },
  {
   "cell_type": "markdown",
   "metadata": {},
   "source": [
    "#### Exercise_2"
   ]
  },
  {
   "cell_type": "code",
   "execution_count": 89,
   "metadata": {},
   "outputs": [
    {
     "name": "stdout",
     "output_type": "stream",
     "text": [
      "[[ 1  1  1  1  1  1  1  1  1  1  1  1  1  1  1]\n",
      " [ 1  2  1  2  1  2  1  2  1  2  1  2  1  2  1]\n",
      " [ 1  1  3  1  1  3  1  1  3  1  1  3  1  1  3]\n",
      " [ 1  2  1  4  1  2  1  4  1  2  1  4  1  2  1]\n",
      " [ 1  1  1  1  5  1  1  1  1  5  1  1  1  1  5]\n",
      " [ 1  2  3  2  1  6  1  2  3  2  1  6  1  2  3]\n",
      " [ 1  1  1  1  1  1  7  1  1  1  1  1  1  7  1]\n",
      " [ 1  2  1  4  1  2  1  8  1  2  1  4  1  2  1]\n",
      " [ 1  1  3  1  1  3  1  1  9  1  1  3  1  1  3]\n",
      " [ 1  2  1  2  5  2  1  2  1 10  1  2  1  2  5]]\n"
     ]
    }
   ],
   "source": [
    "m = 10\n",
    "n = 15\n",
    "matrix = np.zeros([m, n], dtype=int) + 99\n",
    "\n",
    "for row_i in range(0, m): \n",
    "    for col_i in range(0, n): \n",
    "        matrix[row_i, col_i] = math.gcd(row_i + 1, col_i + 1)\n",
    "\n",
    "print(matrix)"
   ]
  }
 ],
 "metadata": {
  "interpreter": {
   "hash": "dcecd293c5c4d531c7dfb1583ee5220d15a288f363029e32001c9eb594406bc4"
  },
  "kernelspec": {
   "display_name": "Python 3.9.7 ('base')",
   "language": "python",
   "name": "python3"
  },
  "language_info": {
   "codemirror_mode": {
    "name": "ipython",
    "version": 3
   },
   "file_extension": ".py",
   "mimetype": "text/x-python",
   "name": "python",
   "nbconvert_exporter": "python",
   "pygments_lexer": "ipython3",
   "version": "3.9.7"
  },
  "orig_nbformat": 4
 },
 "nbformat": 4,
 "nbformat_minor": 2
}
