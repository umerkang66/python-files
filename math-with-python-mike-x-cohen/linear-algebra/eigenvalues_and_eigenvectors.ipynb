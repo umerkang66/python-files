{
 "cells": [
  {
   "cell_type": "markdown",
   "metadata": {},
   "source": [
    "Eigendecomposition is defined for square matrices (mxm)\n",
    "\n",
    "Singular value decomposition will work for any type of matrices (mxn)\n",
    "\n",
    "## Eigenvectors and Eigenvalues\n",
    "\n",
    "In mxm vector there is going to be \"m\" eigenvectors, and corresponding eigenvalues to it."
   ]
  },
  {
   "cell_type": "markdown",
   "metadata": {},
   "source": [
    "When we multiply Matrix with vector, we get another vector\n",
    "\n",
    "$$A v = w$$\n",
    "\n",
    "If the result of the multiplication, and the resulting vector is on the same line on graph, then that vector is eigenvector of matrix.\n",
    "\n",
    "Because the w vector lies on the same line as vector v, then the affect of matrix A is just scaling it, with just some value represented as \"$\\lambda$\"\n",
    "\n",
    "$$\\lambda v = w$$\n",
    "\n",
    "We could also say that:\n",
    "\n",
    "$$\\Rightarrow \\quad \\lambda v = w = Av$$\n",
    "\n",
    "$$\\Rightarrow \\quad \\lambda v = Av$$\n",
    "\n",
    "if this equation \"$\\lambda v = Av$\" is true, it means, \"v\" is eigenvector of matrix \"A\" and \"$\\lambda$\" is associated eigenvalue. And this equation is also called the eigenvalue equation.\n",
    "\n",
    "## Diagonalization\n",
    "\n",
    "$$AV = V\\lambda$$\n",
    "\n",
    "\"V\" is a matrix eigenvectors, \"$\\lambda$\" is matrix of eigenvalues, and this matrix is diagonal matrix.\n",
    "\n",
    "$$A = V\\lambda V^{-1}$$"
   ]
  },
  {
   "cell_type": "code",
   "execution_count": 4,
   "metadata": {},
   "outputs": [],
   "source": [
    "import numpy as np\n",
    "import matplotlib.pyplot as plt"
   ]
  },
  {
   "cell_type": "code",
   "execution_count": 13,
   "metadata": {},
   "outputs": [
    {
     "data": {
      "image/png": "[encoded data removed]",
      "text/plain": [
       "<Figure size 432x288 with 3 Axes>"
      ]
     },
     "metadata": {
      "needs_background": "light"
     },
     "output_type": "display_data"
    }
   ],
   "source": [
    "M = np.random.randint(-5,6, (5,5))\n",
    "M = M@M.T\n",
    "eig_vals,eig_vecs = np.linalg.eig(M)\n",
    "\n",
    "fig,ax = plt.subplots(1,3)\n",
    "\n",
    "ax[0].imshow(M)\n",
    "ax[0].set_title(\"The matrix\")\n",
    "\n",
    "ax[1].imshow(np.diag(eig_vals))\n",
    "ax[1].set_title(\"Eigenvalues\")\n",
    "\n",
    "ax[2].imshow(eig_vecs)\n",
    "ax[2].set_title(\"Eigenvectors\")\n",
    "\n",
    "plt.show()"
   ]
  },
  {
   "cell_type": "code",
   "execution_count": 16,
   "metadata": {},
   "outputs": [
    {
     "name": "stdout",
     "output_type": "stream",
     "text": [
      "[-55.00638945  64.48674588  -3.712661     7.33004855 -36.84749722]\n",
      "[-55.00638945  64.48674588  -3.712661     7.33004855 -36.84749722]\n"
     ]
    }
   ],
   "source": [
    "# first column of eig_vec\n",
    "Mv = M@eig_vecs[:,0]\n",
    "lv = eig_vals[0]*eig_vecs[:,0]\n",
    "\n",
    "print(Mv)\n",
    "print(lv)"
   ]
  },
  {
   "cell_type": "markdown",
   "metadata": {},
   "source": [
    "## Exercise"
   ]
  },
  {
   "cell_type": "code",
   "execution_count": 27,
   "metadata": {},
   "outputs": [
    {
     "data": {
      "image/png": "[encoded data removed]",
      "text/plain": [
       "<Figure size 432x288 with 1 Axes>"
      ]
     },
     "metadata": {
      "needs_background": "light"
     },
     "output_type": "display_data"
    }
   ],
   "source": [
    "# plotting\n",
    "M = np.array([ [1,2], [2,1] ])\n",
    "d,V = np.linalg.eig(M)\n",
    "\n",
    "lv = d[0]*V[:,0]\n",
    "Mv = M@V[:,0]\n",
    "\n",
    "plt.plot([0,lv[0]], [0,lv[1]], 'b', label=\"$\\\\lambda v$\", linewidth=3)\n",
    "plt.plot([0,Mv[0]], [0,Mv[1]], 'r:', label=\"$Mv$\", linewidth=3)\n",
    "\n",
    "plt.axis(\"square\")\n",
    "plt.axis([-3,3,-3,3])\n",
    "plt.legend()\n",
    "plt.grid()\n",
    "plt.show()"
   ]
  },
  {
   "cell_type": "code",
   "execution_count": 40,
   "metadata": {},
   "outputs": [
    {
     "name": "stdout",
     "output_type": "stream",
     "text": [
      "[[ 1. -0.  0.  0. -0. -0.]\n",
      " [-0.  1. -0.  0. -0.  0.]\n",
      " [ 0. -0.  1.  0. -0. -0.]\n",
      " [ 0.  0.  0.  1. -0.  0.]\n",
      " [-0. -0. -0. -0.  1.  0.]\n",
      " [-0.  0. -0.  0.  0.  1.]]\n"
     ]
    }
   ],
   "source": [
    "m = 6\n",
    "Q = np.random.randn(m,m)\n",
    "# symmetric matrix\n",
    "Q = Q@Q.T\n",
    "d,V = np.linalg.eig(Q)\n",
    "\n",
    "dps = np.zeros((m,m))\n",
    "\n",
    "for i in range(m):\n",
    "    for j in range(0,m):\n",
    "        dps[i,j] = np.dot(V[:,i],V[:,j])\n",
    "\n",
    "print(np.round(dps,5))"
   ]
  }
 ],
 "metadata": {
  "interpreter": {
   "hash": "dcecd293c5c4d531c7dfb1583ee5220d15a288f363029e32001c9eb594406bc4"
  },
  "kernelspec": {
   "display_name": "Python 3.9.7 ('base')",
   "language": "python",
   "name": "python3"
  },
  "language_info": {
   "codemirror_mode": {
    "name": "ipython",
    "version": 3
   },
   "file_extension": ".py",
   "mimetype": "text/x-python",
   "name": "python",
   "nbconvert_exporter": "python",
   "pygments_lexer": "ipython3",
   "version": "3.9.7"
  },
  "orig_nbformat": 4
 },
 "nbformat": 4,
 "nbformat_minor": 2
}
