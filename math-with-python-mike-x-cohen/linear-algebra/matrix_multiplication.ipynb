{
 "cells": [
  {
   "cell_type": "code",
   "execution_count": 1,
   "metadata": {},
   "outputs": [],
   "source": [
    "import numpy as np"
   ]
  },
  {
   "cell_type": "markdown",
   "metadata": {},
   "source": [
    "## Matrix Multiplication\n",
    "\n",
    "If the inner dimension is matching then, we can say that, multiplication is applicable, and the result dimensions will be, outer dimensions\n",
    "\n",
    "14x10 @ 14x10 = Not Applicable\n",
    "14x10 @ 10x14 = Applicable ==> Result = 14x14"
   ]
  },
  {
   "cell_type": "code",
   "execution_count": 11,
   "metadata": {},
   "outputs": [
    {
     "name": "stdout",
     "output_type": "stream",
     "text": [
      "(10, 10)\n",
      "(14, 14)\n",
      "(14, 14)\n"
     ]
    }
   ],
   "source": [
    "A = np.random.randn(14,10)\n",
    "B = np.random.randn(14,10)\n",
    "C = np.random.randn(10,14)\n",
    "\n",
    "# multiply the matrix sign\n",
    "print(np.shape(C@B))\n",
    "print(np.shape(B@C))\n",
    "print(np.shape(A@C))"
   ]
  },
  {
   "cell_type": "markdown",
   "metadata": {},
   "source": [
    "## Mechanics of Matrix Multiplication\n",
    "\n",
    "Find dot product with respect to rows with columns.\n",
    "\n",
    "Multiply two $i^{th}$ elements, then find the dot product at that point. First compute first row, and first column, then compute the second row with first column, then first row with second column, then second row, with second column.\n",
    "\n",
    "\n",
    "$[\\frac{0 \\:\\: 1}{2 \\:\\: 3}] @ [\\frac{a \\:\\: b}{c \\:\\: d}] = [\\frac{0a + 1c \\:\\: 0b + 1d}{2a + 3c \\:\\: 2b + 3d}]$"
   ]
  },
  {
   "cell_type": "code",
   "execution_count": 69,
   "metadata": {},
   "outputs": [],
   "source": [
    "def matrix_multiplication(m1, m2):\n",
    "    size_m1 = np.shape(m1)\n",
    "    size_m2 = np.shape(m2)\n",
    "\n",
    "    if size_m1[1] == size_m2[0]:\n",
    "        # initialize the matrix, that has size of outer dimensions of m1, and m2\n",
    "        C = np.zeros((size_m1[0],size_m2[1]))\n",
    "\n",
    "        # compute\n",
    "        for i in range(size_m1[0]):\n",
    "            for j in range(size_m2[1]):\n",
    "                C[i,j] = np.dot(m1[i,:],m2[:,j])\n",
    "        return C\n",
    "    else:\n",
    "        raise ValueError(\"These matrices cannot be multiplied, because inner dimensions don't match\")"
   ]
  },
  {
   "cell_type": "code",
   "execution_count": 70,
   "metadata": {},
   "outputs": [
    {
     "name": "stdout",
     "output_type": "stream",
     "text": [
      "[[0. 0.]\n",
      " [0. 0.]]\n"
     ]
    }
   ],
   "source": [
    "A = np.random.randn(2,2)\n",
    "B = np.random.randn(2,2)\n",
    "\n",
    "C1 = matrix_multiplication(A,B)\n",
    "C2 = A@B\n",
    "\n",
    "print(C1 - C2)"
   ]
  }
 ],
 "metadata": {
  "interpreter": {
   "hash": "dcecd293c5c4d531c7dfb1583ee5220d15a288f363029e32001c9eb594406bc4"
  },
  "kernelspec": {
   "display_name": "Python 3.9.7 ('base')",
   "language": "python",
   "name": "python3"
  },
  "language_info": {
   "codemirror_mode": {
    "name": "ipython",
    "version": 3
   },
   "file_extension": ".py",
   "mimetype": "text/x-python",
   "name": "python",
   "nbconvert_exporter": "python",
   "pygments_lexer": "ipython3",
   "version": "3.9.7"
  },
  "orig_nbformat": 4
 },
 "nbformat": 4,
 "nbformat_minor": 2
}
