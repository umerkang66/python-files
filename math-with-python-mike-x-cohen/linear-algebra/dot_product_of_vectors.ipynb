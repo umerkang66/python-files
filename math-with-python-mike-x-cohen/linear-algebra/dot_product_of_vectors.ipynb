{
 "cells": [
  {
   "cell_type": "code",
   "execution_count": 86,
   "metadata": {},
   "outputs": [],
   "source": [
    "import numpy as np\n",
    "from IPython.display import display, Math\n",
    "import matplotlib.pyplot as plt"
   ]
  },
  {
   "cell_type": "markdown",
   "metadata": {},
   "source": [
    "## Dot Product of Vectors\n",
    "\n",
    "Multiply $i^{th}$ element of one vector with the $i^{th}$ element of other vector, and then add all the answer after multiplication"
   ]
  },
  {
   "cell_type": "code",
   "execution_count": 9,
   "metadata": {},
   "outputs": [
    {
     "name": "stdout",
     "output_type": "stream",
     "text": [
      "596 596 596\n"
     ]
    }
   ],
   "source": [
    "# from 10 to 20, in steps of 3\n",
    "v = np.arange(10,20,3)\n",
    "w = np.arange(5,15,3)\n",
    "\n",
    "dp_1 = 0\n",
    "for i in range(0,len(v)):\n",
    "    dp_1 += v[i] * w[i]\n",
    "\n",
    "\n",
    "dp_2 = np.sum(np.multiply(v,w))\n",
    "dp_3 = np.dot(v,w)\n",
    "\n",
    "print(dp_1,dp_2,dp_3)"
   ]
  },
  {
   "cell_type": "markdown",
   "metadata": {},
   "source": [
    "## Exercise"
   ]
  },
  {
   "cell_type": "code",
   "execution_count": 80,
   "metadata": {},
   "outputs": [],
   "source": [
    "def find_dot_product(v1, v2):\n",
    "    v1 = np.squeeze(v1)\n",
    "    v2 = np.squeeze(v2)\n",
    "    if len(v1) != len(v2):\n",
    "        raise ValueError(\"Vectors must have same length\")\n",
    "    dp = 0\n",
    "    for i in range(0,len(v1)):\n",
    "        dp += v1[i] * v2[i]\n",
    "    return dp"
   ]
  },
  {
   "cell_type": "code",
   "execution_count": 84,
   "metadata": {},
   "outputs": [
    {
     "data": {
      "text/latex": [
       "$\\displaystyle v^Tw=1$"
      ],
      "text/plain": [
       "<IPython.core.display.Math object>"
      ]
     },
     "metadata": {},
     "output_type": "display_data"
    }
   ],
   "source": [
    "v = np.array([1,1])\n",
    "w = np.array([1,0])\n",
    "\n",
    "ans = find_dot_product(v,w)\n",
    "display(Math(\"v^Tw=%g\" %ans))"
   ]
  },
  {
   "cell_type": "markdown",
   "metadata": {},
   "source": [
    "## Correlation Coefficient\n",
    "\n",
    "It is one of the applications of dot product.\n",
    "\n",
    "1 means perfect correlation, 0 means absolutely no correlation, and -1 means negative correlation\n",
    "\n",
    "Formula to determine correlation:\n",
    "\n",
    "$$r_{xy} = \\frac{\\sum^n_{i=1} (x_i - \\bar{x})(y_i - \\bar{y})}{\\sqrt{\\sum^n_{i=1} (x_i - \\bar{x})^2} \\sqrt{\\sum^n_{i=1} (y_i - \\bar{y})^2}}$$\n",
    "\n",
    "where $x_i$, and $y_i$ are elements of x, and y vectors\n",
    "\n",
    "First take the mean ($\\bar{x}, \\bar{y}$) of x, and y, then subtract with each element in vector (array), then take the dot product in in numerator of x - $\\bar{x}$, and y - $\\bar{y}$, in the denominator, take the dot product of x,x then take dot product of y,y"
   ]
  },
  {
   "cell_type": "code",
   "execution_count": 115,
   "metadata": {},
   "outputs": [
    {
     "name": "stdout",
     "output_type": "stream",
     "text": [
      "0.60530206024143 0.60530206024143\n",
      "True\n"
     ]
    },
    {
     "data": {
      "image/png": "[encoded data removed]",
      "text/plain": [
       "<Figure size 432x288 with 1 Axes>"
      ]
     },
     "metadata": {
      "needs_background": "light"
     },
     "output_type": "display_data"
    }
   ],
   "source": [
    "mikes_courses = [4,5,8,2,9,9,1,3,7]\n",
    "life_happiness = [6,7,9,3,9,3,1,6,7]\n",
    "\n",
    "# mean center\n",
    "m = mikes_courses - np.mean(mikes_courses)\n",
    "l = life_happiness - np.mean(life_happiness)\n",
    "\n",
    "# compute the correlation\n",
    "numerator = np.dot(m,l)\n",
    "denominator = np.sqrt(np.dot(m,m)) * np.sqrt(np.dot(l,l))\n",
    "\n",
    "r1 = numerator/denominator\n",
    "r2 = np.corrcoef(m,l)[1][0]\n",
    "\n",
    "print(r1,r2)\n",
    "print(r1==r2)\n",
    "\n",
    "# plotting\n",
    "plt.plot(mikes_courses,life_happiness,'ms', label=\"r=%g\" %np.round(r1,2))\n",
    "\n",
    "plt.legend()\n",
    "plt.axis(\"square\")\n",
    "plt.axis([0,10,0,10])\n",
    "plt.xlabel(\"Number of mike's courses taken\")\n",
    "plt.ylabel(\"How much happy people are in life\")\n",
    "\n",
    "plt.show()"
   ]
  }
 ],
 "metadata": {
  "interpreter": {
   "hash": "dcecd293c5c4d531c7dfb1583ee5220d15a288f363029e32001c9eb594406bc4"
  },
  "kernelspec": {
   "display_name": "Python 3.9.7 ('base')",
   "language": "python",
   "name": "python3"
  },
  "language_info": {
   "codemirror_mode": {
    "name": "ipython",
    "version": 3
   },
   "file_extension": ".py",
   "mimetype": "text/x-python",
   "name": "python",
   "nbconvert_exporter": "python",
   "pygments_lexer": "ipython3",
   "version": "3.9.7"
  },
  "orig_nbformat": 4
 },
 "nbformat": 4,
 "nbformat_minor": 2
}
