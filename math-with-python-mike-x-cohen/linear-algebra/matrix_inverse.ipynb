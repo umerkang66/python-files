{
 "cells": [
  {
   "cell_type": "code",
   "execution_count": 2,
   "metadata": {},
   "outputs": [],
   "source": [
    "import numpy as np\n",
    "import matplotlib.pyplot as plt"
   ]
  },
  {
   "cell_type": "markdown",
   "metadata": {},
   "source": [
    "## Matrix Inverse\n",
    "\n",
    "Multiply matrix, with its inverse, gives us identity matrix\n",
    "\n",
    "where \"A\" is a matrix, \"b\" is a known matrix, and \"x\" is an unknown matrix\n",
    "\n",
    "$$Ax = b$$\n",
    "\n",
    "\n",
    "Multiply both sides by Matrix Inverse\n",
    "\n",
    "$$A^{-1}Ax = A^{-1}b$$\n",
    "\n",
    "This gives us Identity matrix\n",
    "\n",
    "$$Ix = A^{-1}b$$\n",
    "\n",
    "Identity Matrix times another vector or matrix, gives us the original matrix\n",
    "\n",
    "$$x = A^{-1}b$$"
   ]
  },
  {
   "cell_type": "markdown",
   "metadata": {},
   "source": [
    "### Conditions for matrix, to have an inverse\n",
    "\n",
    "A matrix is invertible if:\n",
    "1. Square\n",
    "2. Full Rank\n",
    "\n",
    "### Full Rank\n",
    "\n",
    "Every column should provide unique information, a column should not be created from other column, or it should not be created by combination of other columns (matrix should be created by random numbers)"
   ]
  },
  {
   "cell_type": "code",
   "execution_count": 8,
   "metadata": {},
   "outputs": [
    {
     "data": {
      "image/png": "[encoded data removed]",
      "text/plain": [
       "<Figure size 432x288 with 3 Axes>"
      ]
     },
     "metadata": {
      "needs_background": "light"
     },
     "output_type": "display_data"
    }
   ],
   "source": [
    "m = 5\n",
    "\n",
    "A = np.random.randint(-5,6, (m,m))\n",
    "A_inv = np.linalg.inv(A)\n",
    "\n",
    "fig,ax = plt.subplots(1,3)\n",
    "\n",
    "ax[0].imshow(A)\n",
    "ax[0].set_title(\"A\")\n",
    "\n",
    "ax[1].imshow(A_inv)\n",
    "ax[1].set_title(\"A$^{-1}$\")\n",
    "\n",
    "# multiply matrix, with its inverse, gives us identity matrix\n",
    "ax[2].imshow(A@A_inv)\n",
    "ax[2].set_title(\"AA$^{-1}$\")\n",
    "\n",
    "plt.show()"
   ]
  },
  {
   "cell_type": "markdown",
   "metadata": {},
   "source": [
    "## Pseudo Inverse\n",
    "\n",
    "In some cases it is equal to full inverse, in other cases, it is just the best approximation to a full inverse\n",
    "\n",
    "It is often represented as \"*\" is superscript e.g. $A^*$"
   ]
  },
  {
   "cell_type": "code",
   "execution_count": 13,
   "metadata": {},
   "outputs": [
    {
     "data": {
      "image/png": "[encoded data removed]",
      "text/plain": [
       "<Figure size 432x288 with 3 Axes>"
      ]
     },
     "metadata": {
      "needs_background": "light"
     },
     "output_type": "display_data"
    }
   ],
   "source": [
    "m = 5\n",
    "A = np.random.randint(-m,m+1, (m,m))\n",
    "A[:,0] = A[:,1]\n",
    "\n",
    "pseudo_inverse = np.linalg.pinv(A)\n",
    "\n",
    "fig,ax = plt.subplots(1,3)\n",
    "\n",
    "ax[0].imshow(A)\n",
    "ax[0].set_title(\"A\")\n",
    "\n",
    "ax[1].imshow(pseudo_inverse)\n",
    "ax[1].set_title(\"A$^*$\")\n",
    "\n",
    "# the result is not the identity matrix, but it is trying to become the identity matrix\n",
    "ax[2].imshow(A@pseudo_inverse)\n",
    "ax[2].set_title(\"$AA^*$\")\n",
    "\n",
    "plt.show()"
   ]
  },
  {
   "cell_type": "code",
   "execution_count": 21,
   "metadata": {},
   "outputs": [
    {
     "data": {
      "image/png": "[encoded data removed]",
      "text/plain": [
       "<Figure size 432x288 with 3 Axes>"
      ]
     },
     "metadata": {
      "needs_background": "light"
     },
     "output_type": "display_data"
    }
   ],
   "source": [
    "m = 5\n",
    "A = np.random.randint(-m,m+1, (m,m+2))\n",
    "# gaussian\n",
    "A = np.random.randn(m,m+2)\n",
    "A[:,0] = A[:,1]\n",
    "\n",
    "pseudo_inverse = np.linalg.pinv(A)\n",
    "\n",
    "fig,ax = plt.subplots(1,3)\n",
    "\n",
    "ax[0].imshow(A)\n",
    "ax[0].set_title(\"A\")\n",
    "\n",
    "ax[1].imshow(pseudo_inverse)\n",
    "ax[1].set_title(\"A$^*$\")\n",
    "\n",
    "# the result is not the identity matrix, but it is trying to become the identity matrix\n",
    "ax[2].imshow(A@pseudo_inverse)\n",
    "ax[2].set_title(\"AA$^*$\")\n",
    "\n",
    "plt.show()"
   ]
  }
 ],
 "metadata": {
  "interpreter": {
   "hash": "dcecd293c5c4d531c7dfb1583ee5220d15a288f363029e32001c9eb594406bc4"
  },
  "kernelspec": {
   "display_name": "Python 3.9.7 ('base')",
   "language": "python",
   "name": "python3"
  },
  "language_info": {
   "codemirror_mode": {
    "name": "ipython",
    "version": 3
   },
   "file_extension": ".py",
   "mimetype": "text/x-python",
   "name": "python",
   "nbconvert_exporter": "python",
   "pygments_lexer": "ipython3",
   "version": "3.9.7"
  },
  "orig_nbformat": 4
 },
 "nbformat": 4,
 "nbformat_minor": 2
}
