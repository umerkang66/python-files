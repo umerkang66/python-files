{
 "cells": [
  {
   "cell_type": "code",
   "execution_count": 1,
   "metadata": {},
   "outputs": [],
   "source": [
    "import numpy as np\n",
    "import matplotlib.pyplot as plt"
   ]
  },
  {
   "cell_type": "markdown",
   "metadata": {},
   "source": [
    "## Transpose a vector\n",
    "\n",
    "Turn a column vector into row vector, or turn the row vector into column vector\n",
    "\n",
    "Turn a column matrix into row matrix, or turn the row matrix into column matrix"
   ]
  },
  {
   "cell_type": "code",
   "execution_count": 7,
   "metadata": {},
   "outputs": [
    {
     "name": "stdout",
     "output_type": "stream",
     "text": [
      "[[0.]\n",
      " [0.]\n",
      " [0.]\n",
      " [0.]\n",
      " [0.]\n",
      " [0.]\n",
      " [0.]\n",
      " [0.]\n",
      " [0.]\n",
      " [0.]]\n"
     ]
    }
   ],
   "source": [
    "r = np.random.randn(1,10)\n",
    "\n",
    "rt1 = np.transpose(r)\n",
    "rt2 = r.T\n",
    "\n",
    "print(rt1-rt2)"
   ]
  },
  {
   "cell_type": "code",
   "execution_count": 10,
   "metadata": {},
   "outputs": [
    {
     "data": {
      "image/png": "[encoded data removed]",
      "text/plain": [
       "<Figure size 432x288 with 2 Axes>"
      ]
     },
     "metadata": {
      "needs_background": "light"
     },
     "output_type": "display_data"
    }
   ],
   "source": [
    "mat = np.random.randn(8,4)\n",
    "matT = mat.T\n",
    "\n",
    "fig,ax = plt.subplots(1,2)\n",
    "ax[0].imshow(mat)\n",
    "ax[0].set_title(\"M\")\n",
    "\n",
    "ax[1].imshow(matT)\n",
    "ax[1].set_title(\"$M^T$\")\n",
    "\n",
    "plt.show()"
   ]
  },
  {
   "cell_type": "markdown",
   "metadata": {},
   "source": [
    "## Symmetric Matrix\n",
    "\n",
    "Matrix if it is same, when we take its transpose, called symmetric matrix\n",
    "\n",
    "If you will multiply a matrix with its transpose, the resulting matrix will be a symmetric matrix."
   ]
  },
  {
   "cell_type": "code",
   "execution_count": 18,
   "metadata": {},
   "outputs": [
    {
     "name": "stdout",
     "output_type": "stream",
     "text": [
      "(4, 4)\n",
      "[[0. 0. 0. 0.]\n",
      " [0. 0. 0. 0.]\n",
      " [0. 0. 0. 0.]\n",
      " [0. 0. 0. 0.]]\n"
     ]
    }
   ],
   "source": [
    "m = 4\n",
    "n = 6\n",
    "\n",
    "mat = np.random.randn(m,n)\n",
    "amatama = mat@mat.T\n",
    "\n",
    "print(np.shape(amatama))\n",
    "\n",
    "# show that this is symmetric\n",
    "print(amatama - amatama.T)"
   ]
  }
 ],
 "metadata": {
  "interpreter": {
   "hash": "8af31475bdbaf62dfe635d286b9ae4523dac73da2417b7be40697d56bbc357e1"
  },
  "kernelspec": {
   "display_name": "Python 3.10.4 64-bit",
   "language": "python",
   "name": "python3"
  },
  "language_info": {
   "codemirror_mode": {
    "name": "ipython",
    "version": 3
   },
   "file_extension": ".py",
   "mimetype": "text/x-python",
   "name": "python",
   "nbconvert_exporter": "python",
   "pygments_lexer": "ipython3",
   "version": "3.9.7"
  },
  "orig_nbformat": 4
 },
 "nbformat": 4,
 "nbformat_minor": 2
}
