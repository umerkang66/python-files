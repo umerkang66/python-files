{
 "cells": [
  {
   "cell_type": "markdown",
   "metadata": {},
   "source": [
    "## Identity Matrix\n",
    "\n",
    "Identity Matrix is a square matrix, that have zeroes, but in the diagonals, it have 1s\n",
    "\n",
    "It is represented by $I_2$ $I_5$\n",
    "\n",
    "First one is a 2x2 matrix, and second one is a 5x5 matrix"
   ]
  },
  {
   "cell_type": "markdown",
   "metadata": {},
   "source": [
    "## Zeros Matrix\n",
    "\n",
    "Identity Matrix is a square matrix, that have zeroes."
   ]
  },
  {
   "cell_type": "markdown",
   "metadata": {},
   "source": [
    "## Diagonal Matrix\n",
    "\n",
    "It can be square or non-square matrix\n",
    "\n",
    "It is a matrix of all zeroes, excepts the diagonals are non-zeroes."
   ]
  },
  {
   "cell_type": "markdown",
   "metadata": {},
   "source": [
    "## Triangular Matrix\n",
    "\n",
    "It is a square matrix, but only the diagonal and upper side or diagonal or lower side will be non-zeroes, others will be zeroes.\n",
    "\n",
    "If the upper side is non-zero, it is called Upper Diagonal Matrix.\n",
    "\n",
    "If the lower side is non-zero, it is called Lower Diagonal Matrix."
   ]
  },
  {
   "cell_type": "markdown",
   "metadata": {},
   "source": [
    "## Toeplitz Matrix\n",
    "\n",
    "Whatever numbers will be provided, will go from diagonal to the either side of matrix, see the example in the last"
   ]
  },
  {
   "cell_type": "code",
   "execution_count": 2,
   "metadata": {},
   "outputs": [],
   "source": [
    "import numpy as np\n",
    "import matplotlib.pyplot as plt"
   ]
  },
  {
   "cell_type": "code",
   "execution_count": 5,
   "metadata": {},
   "outputs": [
    {
     "name": "stdout",
     "output_type": "stream",
     "text": [
      "[[1 0 0 0]\n",
      " [0 1 0 0]\n",
      " [0 0 1 0]\n",
      " [0 0 0 1]]\n"
     ]
    }
   ],
   "source": [
    "# Identity matrix\n",
    "I = np.eye(4,dtype=int)\n",
    "\n",
    "print(I)"
   ]
  },
  {
   "cell_type": "code",
   "execution_count": 7,
   "metadata": {},
   "outputs": [
    {
     "name": "stdout",
     "output_type": "stream",
     "text": [
      "[[0. 0. 0. 0.]\n",
      " [0. 0. 0. 0.]\n",
      " [0. 0. 0. 0.]\n",
      " [0. 0. 0. 0.]]\n"
     ]
    }
   ],
   "source": [
    "# zeros matrix\n",
    "Z = np.zeros((4,4))\n",
    "\n",
    "print(Z)"
   ]
  },
  {
   "cell_type": "code",
   "execution_count": 10,
   "metadata": {},
   "outputs": [
    {
     "name": "stdout",
     "output_type": "stream",
     "text": [
      "[[1 0 0 0 0]\n",
      " [0 4 0 0 0]\n",
      " [0 0 6 0 0]\n",
      " [0 0 0 3 0]\n",
      " [0 0 0 0 0]]\n",
      "[1 4 6 3 0]\n"
     ]
    }
   ],
   "source": [
    "# diagonal matrix\n",
    "# these numbers will be created as diagonals\n",
    "D = np.diag([1,4,6,3,0])\n",
    "print(D)\n",
    "\n",
    "# print the diagonal elements in the form of vector from diagonal elements\n",
    "d = np.diagonal(D)\n",
    "print(d)"
   ]
  },
  {
   "cell_type": "code",
   "execution_count": 24,
   "metadata": {},
   "outputs": [
    {
     "data": {
      "image/png": "[encoded data removed]",
      "text/plain": [
       "<Figure size 432x288 with 1 Axes>"
      ]
     },
     "metadata": {
      "needs_background": "light"
     },
     "output_type": "display_data"
    },
    {
     "data": {
      "image/png": "[encoded data removed]",
      "text/plain": [
       "<Figure size 432x288 with 1 Axes>"
      ]
     },
     "metadata": {
      "needs_background": "light"
     },
     "output_type": "display_data"
    }
   ],
   "source": [
    "# triangular matrix\n",
    "T = np.random.randn(30,30)\n",
    "\n",
    "plt.imshow(np.triu(T))\n",
    "plt.show()\n",
    "\n",
    "plt.imshow(np.tril(T))\n",
    "plt.show()"
   ]
  },
  {
   "cell_type": "markdown",
   "metadata": {},
   "source": [
    "## Exercise"
   ]
  },
  {
   "cell_type": "markdown",
   "metadata": {},
   "source": [
    "Multiply the matrix, with identity matrix, gives back the original matrix\n"
   ]
  },
  {
   "cell_type": "code",
   "execution_count": 29,
   "metadata": {},
   "outputs": [
    {
     "name": "stdout",
     "output_type": "stream",
     "text": [
      "[[ 3  0 -1 -3]\n",
      " [-3 -1  2  1]\n",
      " [-2 -2  2 -1]\n",
      " [ 0 -1  2  1]]\n",
      "\n",
      "\n",
      "[[-2.56379985 -5.20077907  6.13679162  2.42570817]\n",
      " [ 2.56379985  4.38619704 -7.44712917 -1.64972194]\n",
      " [ 1.7091999   1.83802199 -6.2148698  -0.09980856]\n",
      " [ 0.         -0.81458203 -2.05583711  0.47744542]]\n"
     ]
    }
   ],
   "source": [
    "intmat = np.random.randint(-4,5,(4,4))\n",
    "I4 = np.eye(4)\n",
    "upper4 = np.triu(np.random.randn(4,4))\n",
    "\n",
    "print(intmat)\n",
    "print(\"\\n\")\n",
    "print(intmat@upper4)"
   ]
  },
  {
   "cell_type": "code",
   "execution_count": 34,
   "metadata": {},
   "outputs": [
    {
     "name": "stdout",
     "output_type": "stream",
     "text": [
      "[[1 2 3 4 5]\n",
      " [2 1 2 3 4]\n",
      " [3 2 1 2 3]\n",
      " [4 3 2 1 2]\n",
      " [5 4 3 2 1]]\n"
     ]
    },
    {
     "data": {
      "image/png": "[encoded data removed]",
      "text/plain": [
       "<Figure size 432x288 with 1 Axes>"
      ]
     },
     "metadata": {
      "needs_background": "light"
     },
     "output_type": "display_data"
    }
   ],
   "source": [
    "from scipy.linalg import toeplitz\n",
    "\n",
    "toe = toeplitz(np.arange(1,6))\n",
    "print(toe)\n",
    "plt.imshow(toe)\n",
    "\n",
    "plt.show()"
   ]
  }
 ],
 "metadata": {
  "interpreter": {
   "hash": "dcecd293c5c4d531c7dfb1583ee5220d15a288f363029e32001c9eb594406bc4"
  },
  "kernelspec": {
   "display_name": "Python 3.9.7 ('base')",
   "language": "python",
   "name": "python3"
  },
  "language_info": {
   "codemirror_mode": {
    "name": "ipython",
    "version": 3
   },
   "file_extension": ".py",
   "mimetype": "text/x-python",
   "name": "python",
   "nbconvert_exporter": "python",
   "pygments_lexer": "ipython3",
   "version": "3.9.7"
  },
  "orig_nbformat": 4
 },
 "nbformat": 4,
 "nbformat_minor": 2
}
