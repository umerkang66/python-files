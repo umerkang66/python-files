{
 "cells": [
  {
   "cell_type": "markdown",
   "metadata": {},
   "source": [
    "## Quadratic-equation\n",
    "\n",
    "2nd Degree Polynomials that is equal to 0 is called quadratic-equation"
   ]
  },
  {
   "cell_type": "markdown",
   "metadata": {},
   "source": [
    "## Quadratic Formula\n",
    "\n",
    "To solve for the value of \"x\" in 2nd degree polynomial quadratic equation, we have quadratic formula\n",
    "\n",
    "$x = \\frac{-b \\pm \\sqrt{b^2 - 4ac}}{2a}$"
   ]
  },
  {
   "cell_type": "code",
   "execution_count": 52,
   "metadata": {},
   "outputs": [],
   "source": [
    "import numpy as np\n",
    "import numpy.lib.scimath as np_sci\n",
    "import matplotlib.pyplot as plt"
   ]
  },
  {
   "cell_type": "code",
   "execution_count": 19,
   "metadata": {},
   "outputs": [
    {
     "name": "stdout",
     "output_type": "stream",
     "text": [
      "-1.0 -2.5\n"
     ]
    }
   ],
   "source": [
    "a = 2\n",
    "b = 7\n",
    "c = 5\n",
    "\n",
    "quad_eq_p = (-b + np_sci.sqrt(b**2 - 4*a*c)) / (2*a)\n",
    "quad_eq_n = (-b - np_sci.sqrt(b**2 - 4*a*c)) / (2*a)\n",
    "print(quad_eq_p, quad_eq_n)"
   ]
  },
  {
   "cell_type": "code",
   "execution_count": 31,
   "metadata": {},
   "outputs": [
    {
     "name": "stdout",
     "output_type": "stream",
     "text": [
      "[-1.16666667 -1.16666667]\n"
     ]
    },
    {
     "name": "stderr",
     "output_type": "stream",
     "text": [
      "C:\\Users\\ugulz\\AppData\\Local\\Temp/ipykernel_13232/4286182402.py:6: ComplexWarning: Casting complex values to real discards the imaginary part\n",
      "  output[0] = quad_eq_p = (-b + np_sci.sqrt(b**2 - 4*a*c)) / (2*a)\n",
      "C:\\Users\\ugulz\\AppData\\Local\\Temp/ipykernel_13232/4286182402.py:7: ComplexWarning: Casting complex values to real discards the imaginary part\n",
      "  output[1] = quad_eq_n = (-b - np_sci.sqrt(b**2 - 4*a*c)) / (2*a)\n"
     ]
    }
   ],
   "source": [
    "# creating same output using function\n",
    "def quad_eq(a,b,c): \n",
    "    # in numpy arrays, imaginary values of complex numbers are discard, only real values will be showed\n",
    "    output = np.zeros(2)\n",
    "\n",
    "    output[0] = quad_eq_p = (-b + np_sci.sqrt(b**2 - 4*a*c)) / (2*a)\n",
    "    output[1] = quad_eq_n = (-b - np_sci.sqrt(b**2 - 4*a*c)) / (2*a)\n",
    "    return output\n",
    "\n",
    "\n",
    "print(quad_eq(3,7,5))"
   ]
  },
  {
   "cell_type": "markdown",
   "metadata": {},
   "source": [
    "## Exercise"
   ]
  },
  {
   "cell_type": "code",
   "execution_count": 57,
   "metadata": {},
   "outputs": [
    {
     "name": "stderr",
     "output_type": "stream",
     "text": [
      "C:\\Users\\ugulz\\AppData\\Local\\Temp/ipykernel_13232/4286182402.py:6: ComplexWarning: Casting complex values to real discards the imaginary part\n",
      "  output[0] = quad_eq_p = (-b + np_sci.sqrt(b**2 - 4*a*c)) / (2*a)\n",
      "C:\\Users\\ugulz\\AppData\\Local\\Temp/ipykernel_13232/4286182402.py:7: ComplexWarning: Casting complex values to real discards the imaginary part\n",
      "  output[1] = quad_eq_n = (-b - np_sci.sqrt(b**2 - 4*a*c)) / (2*a)\n"
     ]
    },
    {
     "data": {
      "image/png": "[encoded data removed]",
      "text/plain": [
       "<Figure size 432x288 with 2 Axes>"
      ]
     },
     "metadata": {
      "needs_background": "light"
     },
     "output_type": "display_data"
    }
   ],
   "source": [
    "a = 1\n",
    "b = range(-5, 6)\n",
    "c = range(-2, 11)\n",
    "\n",
    "matrix = np.zeros((len(b), len(c)))\n",
    "\n",
    "for bi in range(0, len(b)): \n",
    "    for ci in range(0, len(c)): \n",
    "        matrix[bi, ci] = quad_eq(a,b[bi],c[ci])[0]\n",
    "\n",
    "plt.imshow(matrix, extent=[c[0],c[-1] , b[0],b[-1]])\n",
    "plt.xlabel(\"c\")\n",
    "plt.ylabel(\"b\")\n",
    "plt.colorbar()\n",
    "plt.title(\"a = %s\" %str(a))\n",
    "plt.show()"
   ]
  }
 ],
 "metadata": {
  "interpreter": {
   "hash": "dcecd293c5c4d531c7dfb1583ee5220d15a288f363029e32001c9eb594406bc4"
  },
  "kernelspec": {
   "display_name": "Python 3.9.7 ('base')",
   "language": "python",
   "name": "python3"
  },
  "language_info": {
   "codemirror_mode": {
    "name": "ipython",
    "version": 3
   },
   "file_extension": ".py",
   "mimetype": "text/x-python",
   "name": "python",
   "nbconvert_exporter": "python",
   "pygments_lexer": "ipython3",
   "version": "3.9.7"
  },
  "orig_nbformat": 4
 },
 "nbformat": 4,
 "nbformat_minor": 2
}
