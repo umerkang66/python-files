{
 "cells": [
  {
   "cell_type": "markdown",
   "metadata": {},
   "source": [
    "## What is Roots of Polynomials\n",
    "\n",
    "Roots of Polynomials means, if polynomial is equal to 0, then what should the value of \"x\"\n",
    "\n",
    "The value of \"x\" can be more than 1 for the same polynomial"
   ]
  },
  {
   "cell_type": "markdown",
   "metadata": {},
   "source": [
    "## What is degree of polynomial\n",
    "\n",
    "Highest power of \"x\" in polynomial"
   ]
  },
  {
   "cell_type": "markdown",
   "metadata": {},
   "source": [
    "#### $N^{th}$ degree of polynomials has \"N\" number of roots"
   ]
  },
  {
   "cell_type": "code",
   "execution_count": 3,
   "metadata": {},
   "outputs": [],
   "source": [
    "import numpy as np\n",
    "import sympy as sym\n",
    "from IPython.display import display, Math"
   ]
  },
  {
   "cell_type": "code",
   "execution_count": 2,
   "metadata": {},
   "outputs": [
    {
     "data": {
      "text/plain": [
       "array([-1.        ,  0.33333333])"
      ]
     },
     "execution_count": 2,
     "metadata": {},
     "output_type": "execute_result"
    }
   ],
   "source": [
    "# 3x^2 + 2x - 1\n",
    "# in the last the power should be 0, then it should be increasing by 1, when it moves backwards\n",
    "# the order should be the same\n",
    "coefficients = [3, 2, -1]\n",
    "\n",
    "# Return the roots of a polynomial with coefficients\n",
    "roots = np.roots(coefficients)\n",
    "roots"
   ]
  },
  {
   "cell_type": "code",
   "execution_count": 8,
   "metadata": {},
   "outputs": [
    {
     "data": {
      "text/latex": [
       "$\\displaystyle \\text{At }x =-1, \\quad 3 x^{2} + 2 x - 1 = 0$"
      ],
      "text/plain": [
       "<IPython.core.display.Math object>"
      ]
     },
     "metadata": {},
     "output_type": "display_data"
    },
    {
     "data": {
      "text/latex": [
       "$\\displaystyle \\text{At }x =0.333333, \\quad 3 x^{2} + 2 x - 1 = -5.55112e-17$"
      ],
      "text/plain": [
       "<IPython.core.display.Math object>"
      ]
     },
     "metadata": {},
     "output_type": "display_data"
    }
   ],
   "source": [
    "x = sym.symbols(\"x\")\n",
    "pn = 3*x**2 + 2*x - 1\n",
    "\n",
    "for i in roots: \n",
    "    display(Math(\"\\\\text{At }x =%g, \\\\quad %s = %g\" %(i, sym.latex(pn), pn.subs(x, i))))\n"
   ]
  },
  {
   "cell_type": "markdown",
   "metadata": {},
   "source": [
    "## Exercise"
   ]
  },
  {
   "cell_type": "code",
   "execution_count": 26,
   "metadata": {},
   "outputs": [
    {
     "name": "stdout",
     "output_type": "stream",
     "text": [
      "A degree-0 polynomial has 0\n",
      "A degree-1 polynomial has 1\n",
      "A degree-2 polynomial has 2\n",
      "A degree-3 polynomial has 3\n",
      "A degree-4 polynomial has 4\n",
      "A degree-5 polynomial has 5\n",
      "A degree-6 polynomial has 6\n",
      "A degree-7 polynomial has 7\n",
      "A degree-8 polynomial has 8\n",
      "A degree-9 polynomial has 9\n"
     ]
    }
   ],
   "source": [
    "# The number of roots should be equal to the number of degree the polynomial is\n",
    "\n",
    "for degree in range(1, 11): \n",
    "    coefficients = np.arange(1, degree + 1)\n",
    "    roots = np.roots(coefficients)\n",
    "    print(f\"A degree-{degree - 1} polynomial has {len(roots)}\")\n"
   ]
  }
 ],
 "metadata": {
  "interpreter": {
   "hash": "dcecd293c5c4d531c7dfb1583ee5220d15a288f363029e32001c9eb594406bc4"
  },
  "kernelspec": {
   "display_name": "Python 3.9.7 ('base')",
   "language": "python",
   "name": "python3"
  },
  "language_info": {
   "codemirror_mode": {
    "name": "ipython",
    "version": 3
   },
   "file_extension": ".py",
   "mimetype": "text/x-python",
   "name": "python",
   "nbconvert_exporter": "python",
   "pygments_lexer": "ipython3",
   "version": "3.9.7"
  },
  "orig_nbformat": 4
 },
 "nbformat": 4,
 "nbformat_minor": 2
}
