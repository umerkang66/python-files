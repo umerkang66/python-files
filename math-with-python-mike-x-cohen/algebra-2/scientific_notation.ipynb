{
 "cells": [
  {
   "cell_type": "code",
   "execution_count": 6,
   "metadata": {},
   "outputs": [
    {
     "name": "stdout",
     "output_type": "stream",
     "text": [
      "2.384387e+14\n"
     ]
    }
   ],
   "source": [
    "x = 238438738578375\n",
    "\n",
    "# scientific notation\n",
    "print(\"{:,e}\".format(x))"
   ]
  },
  {
   "cell_type": "code",
   "execution_count": 5,
   "metadata": {},
   "outputs": [
    {
     "name": "stdout",
     "output_type": "stream",
     "text": [
      "238,438,738,578,375\n"
     ]
    }
   ],
   "source": [
    "# with commas\n",
    "print(\"{:,d}\".format(x))"
   ]
  },
  {
   "cell_type": "code",
   "execution_count": 10,
   "metadata": {},
   "outputs": [
    {
     "name": "stdout",
     "output_type": "stream",
     "text": [
      "2.384387e+14\n",
      "2.38e+14\n",
      "2.3844e+14\n"
     ]
    }
   ],
   "source": [
    "print(\"%e\" %x)\n",
    "print(\"%.2e\" %x)\n",
    "print(\"%.4e\" %x)"
   ]
  },
  {
   "cell_type": "code",
   "execution_count": 14,
   "metadata": {},
   "outputs": [
    {
     "name": "stdout",
     "output_type": "stream",
     "text": [
      "2.3844e+14\n"
     ]
    },
    {
     "data": {
      "text/plain": [
       "'14'"
      ]
     },
     "execution_count": 14,
     "metadata": {},
     "output_type": "execute_result"
    }
   ],
   "source": [
    "s = \"%.4e\" %x\n",
    "print(s)\n",
    "s[-2:]"
   ]
  },
  {
   "cell_type": "markdown",
   "metadata": {},
   "source": [
    "## Exercise\n",
    "\n",
    "Print the nearest order of magnitude of a given number"
   ]
  },
  {
   "cell_type": "code",
   "execution_count": 15,
   "metadata": {},
   "outputs": [],
   "source": [
    "import numpy as np\n",
    "from IPython.display import display, Math"
   ]
  },
  {
   "cell_type": "code",
   "execution_count": 46,
   "metadata": {},
   "outputs": [
    {
     "data": {
      "text/latex": [
       "$\\displaystyle -2342 \\text{ is } 3 \\text{ orders of magnitude, } \\approx -2 \\times 10^3$"
      ],
      "text/plain": [
       "<IPython.core.display.Math object>"
      ]
     },
     "metadata": {},
     "output_type": "display_data"
    }
   ],
   "source": [
    "num = -2342\n",
    "\n",
    "# this will tell how many zeroes should be present in the magnitude of that number\n",
    "order_of_magnitude = int(np.floor(np.log10(abs(num))))\n",
    "\n",
    "numstr = \"{:e}\".format(num)\n",
    "wheredot = numstr.find(\".\")\n",
    "\n",
    "firstnum = numstr[:wheredot]\n",
    "\n",
    "display(Math(\"%s \\\\text{ is } %s \\\\text{ orders of magnitude, } \\\\approx %s \\\\times 10^%s\" %(num, order_of_magnitude, firstnum, order_of_magnitude)))"
   ]
  }
 ],
 "metadata": {
  "interpreter": {
   "hash": "dcecd293c5c4d531c7dfb1583ee5220d15a288f363029e32001c9eb594406bc4"
  },
  "kernelspec": {
   "display_name": "Python 3.9.7 ('base')",
   "language": "python",
   "name": "python3"
  },
  "language_info": {
   "codemirror_mode": {
    "name": "ipython",
    "version": 3
   },
   "file_extension": ".py",
   "mimetype": "text/x-python",
   "name": "python",
   "nbconvert_exporter": "python",
   "pygments_lexer": "ipython3",
   "version": "3.9.7"
  },
  "orig_nbformat": 4
 },
 "nbformat": 4,
 "nbformat_minor": 2
}
