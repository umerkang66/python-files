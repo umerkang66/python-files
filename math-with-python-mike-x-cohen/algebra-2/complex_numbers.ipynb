{
 "cells": [
  {
   "cell_type": "markdown",
   "metadata": {},
   "source": [
    "## Addition and Subtraction of complex_numbers"
   ]
  },
  {
   "cell_type": "code",
   "execution_count": 16,
   "metadata": {},
   "outputs": [],
   "source": [
    "import numpy as np\n",
    "import sympy as sym\n",
    "from IPython.display import display, Math"
   ]
  },
  {
   "cell_type": "code",
   "execution_count": 9,
   "metadata": {},
   "outputs": [
    {
     "name": "stdout",
     "output_type": "stream",
     "text": [
      "1j\n",
      "nan\n",
      "1j\n",
      "I\n"
     ]
    },
    {
     "name": "stderr",
     "output_type": "stream",
     "text": [
      "C:\\Users\\ugulz\\AppData\\Local\\Temp/ipykernel_6024/2232479218.py:4: RuntimeWarning: invalid value encountered in sqrt\n",
      "  print(np.sqrt(-1))\n"
     ]
    }
   ],
   "source": [
    "print(1j)\n",
    "\n",
    "# this will return nan (not a number)\n",
    "print(np.sqrt(-1))\n",
    "# force numpy for complex numbers\n",
    "print(np.sqrt(-1, dtype=\"complex\"))\n",
    "# in sympy \"I\" used for imaginary numbers\n",
    "print(sym.I)\n"
   ]
  },
  {
   "cell_type": "code",
   "execution_count": 16,
   "metadata": {},
   "outputs": [
    {
     "name": "stdout",
     "output_type": "stream",
     "text": [
      "(4-5j) <class 'complex'>\n",
      "(4-5j) <class 'complex'>\n"
     ]
    }
   ],
   "source": [
    "real_part = 4\n",
    "imaginary_part = -5\n",
    "\n",
    "complex_1 = complex(real_part, imaginary_part)\n",
    "complex_2 = real_part + 1j*imaginary_part\n",
    "\n",
    "print(complex_1, type(complex_1))\n",
    "print(complex_2, type(complex_2))"
   ]
  },
  {
   "cell_type": "markdown",
   "metadata": {},
   "source": [
    "#### Addition of complex_numbers\n",
    "\n",
    "Real-part will be added by real-part, and imaginary part will be added by imaginary part, same with subtraction\n"
   ]
  },
  {
   "cell_type": "code",
   "execution_count": 18,
   "metadata": {},
   "outputs": [
    {
     "data": {
      "text/plain": [
       "(7+7j)"
      ]
     },
     "execution_count": 18,
     "metadata": {},
     "output_type": "execute_result"
    }
   ],
   "source": [
    "z1 = complex(4, 5)\n",
    "z2 = complex(3, 2)\n",
    "\n",
    "print(z1 + z2)"
   ]
  },
  {
   "cell_type": "markdown",
   "metadata": {},
   "source": [
    "#### Subtraction of complex_numbers"
   ]
  },
  {
   "cell_type": "code",
   "execution_count": 20,
   "metadata": {},
   "outputs": [
    {
     "name": "stdout",
     "output_type": "stream",
     "text": [
      "(1+3j)\n"
     ]
    }
   ],
   "source": [
    "z1 = complex(4, 5)\n",
    "z2 = complex(3, 2)\n",
    "\n",
    "print(z1 - z2)"
   ]
  },
  {
   "cell_type": "code",
   "execution_count": 21,
   "metadata": {},
   "outputs": [
    {
     "name": "stdout",
     "output_type": "stream",
     "text": [
      "4.0 5.0\n"
     ]
    }
   ],
   "source": [
    "# Extract real and imaginary parts from complex number\n",
    "\n",
    "z1 = complex(4, 5)\n",
    "real_part = np.real(z1)\n",
    "imaginary_part = np.imag(z1)\n",
    "\n",
    "print(real_part, imaginary_part)"
   ]
  },
  {
   "cell_type": "markdown",
   "metadata": {},
   "source": [
    "## Exercise"
   ]
  },
  {
   "cell_type": "code",
   "execution_count": 27,
   "metadata": {},
   "outputs": [
    {
     "name": "stdout",
     "output_type": "stream",
     "text": [
      "(7+10j) (7+10j)\n",
      "True\n"
     ]
    }
   ],
   "source": [
    "w = complex(2, 4)\n",
    "z = complex(5, 6)\n",
    "combined_w_z = w + z\n",
    "\n",
    "hybrid = complex(np.real(w) + np.real(z), np.imag(w) + np.imag(z))\n",
    "\n",
    "print(combined_w_z, hybrid)\n",
    "print(combined_w_z == hybrid)"
   ]
  },
  {
   "cell_type": "markdown",
   "metadata": {},
   "source": [
    "## Multiplication of complex_numbers"
   ]
  },
  {
   "cell_type": "code",
   "execution_count": 4,
   "metadata": {},
   "outputs": [
    {
     "data": {
      "text/latex": [
       "$\\displaystyle 34.0 + 22.0 i$"
      ],
      "text/plain": [
       "34.0 + 22.0*I"
      ]
     },
     "execution_count": 4,
     "metadata": {},
     "output_type": "execute_result"
    }
   ],
   "source": [
    "z1 = complex(4,5)\n",
    "z2 = complex(6,-2)\n",
    "\n",
    "ans = z1 * z2\n",
    "sympified_ans = sym.sympify(ans)\n",
    "\n",
    "sympified_ans"
   ]
  },
  {
   "cell_type": "markdown",
   "metadata": {},
   "source": [
    "## Complex Conjugate\n",
    "\n",
    "Conjugate of complex number is we flip sign of imaginary number, if it is positive, we turn it into negative, and vice versa"
   ]
  },
  {
   "cell_type": "code",
   "execution_count": 21,
   "metadata": {},
   "outputs": [
    {
     "name": "stdout",
     "output_type": "stream",
     "text": [
      "42\n",
      "41\n",
      "False\n"
     ]
    },
    {
     "data": {
      "text/latex": [
       "$\\displaystyle z \\times z^* \\neq a^2 + b^2$"
      ],
      "text/plain": [
       "<IPython.core.display.Math object>"
      ]
     },
     "metadata": {},
     "output_type": "display_data"
    }
   ],
   "source": [
    "square_of_5_and_5 = 4**2 + 5**2 + 1\n",
    "complex_num = complex(4,5)\n",
    "conjugate_num = np.conj(complex_num)\n",
    "\n",
    "ans = complex_num * conjugate_num\n",
    "ans_int = int(sym.sympify(ans))\n",
    "\n",
    "print(square_of_5_and_5)\n",
    "print(ans_int)\n",
    "print(ans_int == square_of_5_and_5)\n",
    "\n",
    "if ans_int == square_of_5_and_5: \n",
    "    display(Math(\"z \\\\times z^* = a^2 + b^2\"))\n",
    "else: \n",
    "    display(Math(\"z \\\\times z^* \\\\neq a^2 + b^2\"))"
   ]
  },
  {
   "cell_type": "code",
   "execution_count": 40,
   "metadata": {},
   "outputs": [
    {
     "data": {
      "text/latex": [
       "$\\displaystyle (a + i b) \\times (a + i b)^* = a^{2} + b^{2}$"
      ],
      "text/plain": [
       "<IPython.core.display.Math object>"
      ]
     },
     "metadata": {},
     "output_type": "display_data"
    }
   ],
   "source": [
    "# same exercise using sympy\n",
    "# tell sympy that these are real numbers\n",
    "a,b = sym.symbols(\"a,b\", real=True)\n",
    "\n",
    "complex_num = a + b*sym.I\n",
    "conjugate_num = sym.conjugate(complex_num)\n",
    "\n",
    "ans = sym.expand(complex_num * conjugate_num) # or sym.simplify\n",
    "\n",
    "display(Math(\"(%s) \\\\times (%s)^* = %s\" %(sym.latex(complex_num), sym.latex(complex_num), sym.latex(ans))))"
   ]
  }
 ],
 "metadata": {
  "interpreter": {
   "hash": "dcecd293c5c4d531c7dfb1583ee5220d15a288f363029e32001c9eb594406bc4"
  },
  "kernelspec": {
   "display_name": "Python 3.9.7 ('base')",
   "language": "python",
   "name": "python3"
  },
  "language_info": {
   "codemirror_mode": {
    "name": "ipython",
    "version": 3
   },
   "file_extension": ".py",
   "mimetype": "text/x-python",
   "name": "python",
   "nbconvert_exporter": "python",
   "pygments_lexer": "ipython3",
   "version": "3.9.7"
  },
  "orig_nbformat": 4
 },
 "nbformat": 4,
 "nbformat_minor": 2
}
