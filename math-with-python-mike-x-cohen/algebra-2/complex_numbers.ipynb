{
 "cells": [
  {
   "cell_type": "markdown",
   "metadata": {},
   "source": [
    "## Addition and Subtraction of complex_numbers"
   ]
  },
  {
   "cell_type": "code",
   "execution_count": 1,
   "metadata": {},
   "outputs": [],
   "source": [
    "import numpy as np\n",
    "import sympy as sym\n",
    "from IPython.display import display, Math"
   ]
  },
  {
   "cell_type": "code",
   "execution_count": 2,
   "metadata": {},
   "outputs": [
    {
     "name": "stdout",
     "output_type": "stream",
     "text": [
      "1j\n",
      "nan\n",
      "1j\n",
      "I\n"
     ]
    },
    {
     "name": "stderr",
     "output_type": "stream",
     "text": [
      "/tmp/ipykernel_95137/2862170815.py:4: RuntimeWarning: invalid value encountered in sqrt\n",
      "  print(np.sqrt(-1))\n"
     ]
    }
   ],
   "source": [
    "print(1j)\n",
    "\n",
    "# this will return nan (not a number)\n",
    "print(np.sqrt(-1))\n",
    "# force numpy for complex numbers\n",
    "print(np.sqrt(-1, dtype=\"complex\"))\n",
    "# in sympy \"I\" used for imaginary numbers\n",
    "print(sym.I)\n"
   ]
  },
  {
   "cell_type": "code",
   "execution_count": 3,
   "metadata": {},
   "outputs": [
    {
     "name": "stdout",
     "output_type": "stream",
     "text": [
      "(4-5j) <class 'complex'>\n",
      "(4-5j) <class 'complex'>\n"
     ]
    }
   ],
   "source": [
    "real_part = 4\n",
    "imaginary_part = -5\n",
    "\n",
    "complex_1 = complex(real_part, imaginary_part)\n",
    "complex_2 = real_part + 1j*imaginary_part\n",
    "\n",
    "print(complex_1, type(complex_1))\n",
    "print(complex_2, type(complex_2))"
   ]
  },
  {
   "cell_type": "markdown",
   "metadata": {},
   "source": [
    "#### Addition of complex_numbers\n",
    "\n",
    "Real-part will be added by real-part, and imaginary part will be added by imaginary part, same with subtraction\n"
   ]
  },
  {
   "cell_type": "code",
   "execution_count": 4,
   "metadata": {},
   "outputs": [
    {
     "name": "stdout",
     "output_type": "stream",
     "text": [
      "(7+7j)\n"
     ]
    }
   ],
   "source": [
    "z1 = complex(4, 5)\n",
    "z2 = complex(3, 2)\n",
    "\n",
    "print(z1 + z2)"
   ]
  },
  {
   "cell_type": "markdown",
   "metadata": {},
   "source": [
    "#### Subtraction of complex_numbers"
   ]
  },
  {
   "cell_type": "code",
   "execution_count": 5,
   "metadata": {},
   "outputs": [
    {
     "name": "stdout",
     "output_type": "stream",
     "text": [
      "(1+3j)\n"
     ]
    }
   ],
   "source": [
    "z1 = complex(4, 5)\n",
    "z2 = complex(3, 2)\n",
    "\n",
    "print(z1 - z2)"
   ]
  },
  {
   "cell_type": "code",
   "execution_count": 6,
   "metadata": {},
   "outputs": [
    {
     "name": "stdout",
     "output_type": "stream",
     "text": [
      "4.0 5.0\n"
     ]
    }
   ],
   "source": [
    "# Extract real and imaginary parts from complex number\n",
    "\n",
    "z1 = complex(4, 5)\n",
    "real_part = np.real(z1)\n",
    "imaginary_part = np.imag(z1)\n",
    "\n",
    "print(real_part, imaginary_part)"
   ]
  },
  {
   "cell_type": "markdown",
   "metadata": {},
   "source": [
    "## Exercise"
   ]
  },
  {
   "cell_type": "code",
   "execution_count": 7,
   "metadata": {},
   "outputs": [
    {
     "name": "stdout",
     "output_type": "stream",
     "text": [
      "(7+10j) (7+10j)\n",
      "True\n"
     ]
    }
   ],
   "source": [
    "w = complex(2, 4)\n",
    "z = complex(5, 6)\n",
    "combined_w_z = w + z\n",
    "\n",
    "hybrid = complex(np.real(w) + np.real(z), np.imag(w) + np.imag(z))\n",
    "\n",
    "print(combined_w_z, hybrid)\n",
    "print(combined_w_z == hybrid)"
   ]
  },
  {
   "cell_type": "markdown",
   "metadata": {},
   "source": [
    "## Multiplication of complex_numbers"
   ]
  },
  {
   "cell_type": "code",
   "execution_count": 8,
   "metadata": {},
   "outputs": [
    {
     "data": {
      "text/latex": [
       "$\\displaystyle 34.0 + 22.0 i$"
      ],
      "text/plain": [
       "34.0 + 22.0*I"
      ]
     },
     "execution_count": 8,
     "metadata": {},
     "output_type": "execute_result"
    }
   ],
   "source": [
    "z1 = complex(4,5)\n",
    "z2 = complex(6,-2)\n",
    "\n",
    "ans = z1 * z2\n",
    "sympified_ans = sym.sympify(ans)\n",
    "\n",
    "sympified_ans"
   ]
  },
  {
   "cell_type": "markdown",
   "metadata": {},
   "source": [
    "## Complex Conjugate\n",
    "\n",
    "Conjugate of complex number is we flip sign of imaginary number, if it is positive, we turn it into negative, and vice versa"
   ]
  },
  {
   "cell_type": "code",
   "execution_count": 9,
   "metadata": {},
   "outputs": [
    {
     "name": "stdout",
     "output_type": "stream",
     "text": [
      "42\n",
      "41\n",
      "False\n"
     ]
    },
    {
     "data": {
      "text/latex": [
       "$\\displaystyle z \\times z^* \\neq a^2 + b^2$"
      ],
      "text/plain": [
       "<IPython.core.display.Math object>"
      ]
     },
     "metadata": {},
     "output_type": "display_data"
    }
   ],
   "source": [
    "square_of_5_and_5 = 4**2 + 5**2 + 1\n",
    "complex_num = complex(4,5)\n",
    "conjugate_num = np.conj(complex_num)\n",
    "\n",
    "ans = complex_num * conjugate_num\n",
    "ans_int = int(sym.sympify(ans))\n",
    "\n",
    "print(square_of_5_and_5)\n",
    "print(ans_int)\n",
    "print(ans_int == square_of_5_and_5)\n",
    "\n",
    "if ans_int == square_of_5_and_5: \n",
    "    display(Math(\"z \\\\times z^* = a^2 + b^2\"))\n",
    "else: \n",
    "    display(Math(\"z \\\\times z^* \\\\neq a^2 + b^2\"))"
   ]
  },
  {
   "cell_type": "code",
   "execution_count": 10,
   "metadata": {},
   "outputs": [
    {
     "data": {
      "text/latex": [
       "$\\displaystyle (a + i b) \\times (a + i b)^* = a^{2} + b^{2}$"
      ],
      "text/plain": [
       "<IPython.core.display.Math object>"
      ]
     },
     "metadata": {},
     "output_type": "display_data"
    }
   ],
   "source": [
    "# same exercise using sympy\n",
    "# tell sympy that these are real numbers\n",
    "a,b = sym.symbols(\"a,b\", real=True)\n",
    "\n",
    "complex_num = a + b*sym.I\n",
    "conjugate_num = sym.conjugate(complex_num)\n",
    "\n",
    "ans = sym.expand(complex_num * conjugate_num) # or sym.simplify\n",
    "\n",
    "display(Math(\"(%s) \\\\times (%s)^* = %s\" %(sym.latex(complex_num), sym.latex(complex_num), sym.latex(ans))))"
   ]
  },
  {
   "cell_type": "markdown",
   "metadata": {},
   "source": [
    "## Division of complex_numbers"
   ]
  },
  {
   "cell_type": "code",
   "execution_count": 11,
   "metadata": {},
   "outputs": [
    {
     "data": {
      "text/latex": [
       "$\\displaystyle \\frac{(4+2j)}{2} = (2+1j)$"
      ],
      "text/plain": [
       "<IPython.core.display.Math object>"
      ]
     },
     "metadata": {},
     "output_type": "display_data"
    }
   ],
   "source": [
    "z = complex(4, 2)\n",
    "\n",
    "display(Math(\"\\\\frac{%s}{2} = %s\" %(z, z/2)))"
   ]
  },
  {
   "cell_type": "markdown",
   "metadata": {},
   "source": [
    "If complex number is in denominator, we need to convert the denominator to real number\n",
    "\n",
    "For that we have to multiply both numerator, and denominator with the Denominator"
   ]
  },
  {
   "cell_type": "code",
   "execution_count": 12,
   "metadata": {},
   "outputs": [
    {
     "data": {
      "text/latex": [
       "$\\displaystyle \\frac{(4+2j)}{(2-3j)} = \\frac{(4+2j)\\times (2+3j)}{(2-3j)\\times (2+3j)} = (0.15384615384615383+1.2307692307692308j)$"
      ],
      "text/plain": [
       "<IPython.core.display.Math object>"
      ]
     },
     "metadata": {},
     "output_type": "display_data"
    }
   ],
   "source": [
    "z1 = complex(4, 2)\n",
    "z2 = complex(2, -3)\n",
    "\n",
    "display(Math(\"\\\\frac{%s}{%s} = \\\\frac{%s\\\\times %s}{%s\\\\times %s} = %s\" %(z1, z2, z1, np.conj(z2), z2, np.conj(z2), z1/z2)))"
   ]
  },
  {
   "cell_type": "markdown",
   "metadata": {},
   "source": [
    "## Exercise"
   ]
  },
  {
   "cell_type": "code",
   "execution_count": 13,
   "metadata": {},
   "outputs": [
    {
     "data": {
      "text/plain": [
       "(1+0j)"
      ]
     },
     "execution_count": 13,
     "metadata": {},
     "output_type": "execute_result"
    }
   ],
   "source": [
    "z = complex(4, 2)\n",
    "w = complex(3, 5)\n",
    "\n",
    "equation = ((z - 1) * (z*w + w) / (w*z - w)) * (((w - 1) * (1 - w)) / ((-z)*w**2 - w**2 + 2*w*z + 2*w - z - 1))\n",
    "\n",
    "equation"
   ]
  },
  {
   "cell_type": "code",
   "execution_count": 14,
   "metadata": {},
   "outputs": [
    {
     "data": {
      "text/latex": [
       "$\\displaystyle 1.0$"
      ],
      "text/plain": [
       "1.00000000000000"
      ]
     },
     "execution_count": 14,
     "metadata": {},
     "output_type": "execute_result"
    }
   ],
   "source": [
    "# solving same exercise using sympify\n",
    "z,w = sym.symbols(\"z,w\")\n",
    "\n",
    "equation = ((z - 1) * (z*w + w) / (w*z - w)) * (((w - 1) * (1 - w)) / ((-z)*w**2 - w**2 + 2*w*z + 2*w - z - 1))\n",
    "\n",
    "z_complex = complex(4, 2)\n",
    "w_complex = complex(3, 5)\n",
    "\n",
    "complex_eq = equation.subs({z: z_complex, w: w_complex})\n",
    "\n",
    "sym.simplify(complex_eq)"
   ]
  },
  {
   "cell_type": "markdown",
   "metadata": {},
   "source": [
    "## Graphing complex_numbers"
   ]
  },
  {
   "cell_type": "markdown",
   "metadata": {},
   "source": [
    "Real Numbers can be plotted on x-axis, and imaginary numbers can be plotted on y-axis"
   ]
  },
  {
   "cell_type": "code",
   "execution_count": 15,
   "metadata": {},
   "outputs": [],
   "source": [
    "import numpy as np\n",
    "import matplotlib.pyplot as plt"
   ]
  },
  {
   "cell_type": "code",
   "execution_count": 16,
   "metadata": {},
   "outputs": [
    {
     "data": {
      "image/png": "[encoded data removed]",
      "text/plain": [
       "<Figure size 640x480 with 1 Axes>"
      ]
     },
     "metadata": {},
     "output_type": "display_data"
    }
   ],
   "source": [
    "z = complex(2, 3)\n",
    "\n",
    "# plotting the square at correct position\n",
    "plt.plot(np.real(z), np.imag(z), 'bs')\n",
    "# plotting the line at correct postition\n",
    "plt.plot([0, np.real(z)], [0, np.imag(z)], 'b')\n",
    "\n",
    "# adding thicker lines at 0 x-axis, and 0 y-axis\n",
    "plt.plot([0, 0], [-4, 4], 'k')\n",
    "plt.plot([-4, 4], [0, 0], 'k')\n",
    "\n",
    "plt.xlabel(\"real\")\n",
    "plt.ylabel(\"imaginary\")\n",
    "plt.axis([-4, 4, -4, 4])\n",
    "plt.grid()\n",
    "\n",
    "plt.show()"
   ]
  },
  {
   "cell_type": "markdown",
   "metadata": {},
   "source": [
    "## Exercise"
   ]
  },
  {
   "cell_type": "code",
   "execution_count": 17,
   "metadata": {},
   "outputs": [
    {
     "data": {
      "image/png": "[encoded data removed]",
      "text/plain": [
       "<Figure size 640x480 with 1 Axes>"
      ]
     },
     "metadata": {},
     "output_type": "display_data"
    }
   ],
   "source": [
    "# Graph of addition of these two complex numbers\n",
    "z1 = complex(-3, 1)\n",
    "z2 = complex(-1, 1)\n",
    "\n",
    "z3 = z1 + z2\n",
    "\n",
    "plt.plot([0, np.real(z1)], [0, np.imag(z1)], label=\"z1\")\n",
    "plt.plot([0, np.real(z2)], [0, np.imag(z2)], label=\"z2\")\n",
    "plt.plot([0, np.real(z3)], [0, np.imag(z3)], label=\"z1+z2\")\n",
    "\n",
    "# adding thicker lines at 0 x-axis, and 0 y-axis\n",
    "plt.plot([0, 0], [-5, 5], 'k')\n",
    "plt.plot([-5, 5], [0, 0], 'k')\n",
    "\n",
    "plt.grid()\n",
    "plt.legend()\n",
    "plt.axis(\"square\")\n",
    "plt.axis([-5, 5, -5, 5])\n",
    "plt.show()"
   ]
  },
  {
   "cell_type": "code",
   "execution_count": 18,
   "metadata": {},
   "outputs": [
    {
     "data": {
      "image/png": "[encoded data removed]",
      "text/plain": [
       "<Figure size 640x480 with 1 Axes>"
      ]
     },
     "metadata": {},
     "output_type": "display_data"
    }
   ],
   "source": [
    "# Graph of multiplication of these two complex numbers\n",
    "z1 = complex(-3, 1)\n",
    "z2 = complex(-1, 1)\n",
    "\n",
    "z3 = z1 * z2\n",
    "\n",
    "plt.plot([0, np.real(z1)], [0, np.imag(z1)], label=\"z1\")\n",
    "plt.plot([0, np.real(z2)], [0, np.imag(z2)], label=\"z2\")\n",
    "plt.plot([0, np.real(z3)], [0, np.imag(z3)], label=\"z1*z2\")\n",
    "\n",
    "# adding thicker lines at 0 x-axis, and 0 y-axis\n",
    "plt.plot([0, 0], [-5, 5], 'k')\n",
    "plt.plot([-5, 5], [0, 0], 'k')\n",
    "\n",
    "plt.grid()\n",
    "plt.legend()\n",
    "plt.axis(\"square\")\n",
    "plt.axis([-5, 5, -5, 5])\n",
    "plt.show()"
   ]
  }
 ],
 "metadata": {
  "interpreter": {
   "hash": "dcecd293c5c4d531c7dfb1583ee5220d15a288f363029e32001c9eb594406bc4"
  },
  "kernelspec": {
   "display_name": "Python 3.9.7 ('base')",
   "language": "python",
   "name": "python3"
  },
  "language_info": {
   "codemirror_mode": {
    "name": "ipython",
    "version": 3
   },
   "file_extension": ".py",
   "mimetype": "text/x-python",
   "name": "python",
   "nbconvert_exporter": "python",
   "pygments_lexer": "ipython3",
   "version": "3.11.5"
  },
  "orig_nbformat": 4
 },
 "nbformat": 4,
 "nbformat_minor": 2
}
