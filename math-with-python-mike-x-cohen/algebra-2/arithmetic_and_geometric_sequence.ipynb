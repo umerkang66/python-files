{
 "cells": [
  {
   "cell_type": "code",
   "execution_count": 2,
   "metadata": {},
   "outputs": [],
   "source": [
    "import numpy as np\n",
    "import matplotlib.pyplot as plt"
   ]
  },
  {
   "cell_type": "markdown",
   "metadata": {},
   "source": [
    "#### Arithmetic Sequence\n",
    "\n",
    "Formula $\\quad \\Rightarrow \\quad a_n = a_o + d(n-1)$\n",
    "\n",
    "where $a_o$ is starting value of \"a\""
   ]
  },
  {
   "cell_type": "code",
   "execution_count": 22,
   "metadata": {},
   "outputs": [
    {
     "name": "stdout",
     "output_type": "stream",
     "text": [
      "[ 2  5  8 11 14 17]\n"
     ]
    }
   ],
   "source": [
    "a = 2\n",
    "# if \"d\" is 3, the result numbers will be skipping in 3 (add 3 with previous number)\n",
    "d = 3\n",
    "max_n = 6\n",
    "\n",
    "# arithmetic sequence\n",
    "ari_seq = a + d*np.arange(0, max_n)\n",
    "print(ari_seq)"
   ]
  },
  {
   "cell_type": "markdown",
   "metadata": {},
   "source": [
    "#### Geometric Sequence\n",
    "\n",
    "Formula $\\quad \\Rightarrow \\quad g_n = g_or^{(n-1)}$\n",
    "\n",
    "where $g_o$ is starting value of \"g\""
   ]
  },
  {
   "cell_type": "code",
   "execution_count": 19,
   "metadata": {},
   "outputs": [
    {
     "name": "stdout",
     "output_type": "stream",
     "text": [
      "[  2   6  18  54 162 486]\n"
     ]
    }
   ],
   "source": [
    "a = 2\n",
    "# if \"d\" is 3, the result numbers will be skipping in multiples of 3 (multiply 3 with previous number)\n",
    "r = 3\n",
    "max_n = 6\n",
    "\n",
    "geo_seq = a * r**np.arange(0, max_n)\n",
    "print(geo_seq)"
   ]
  },
  {
   "cell_type": "markdown",
   "metadata": {},
   "source": [
    "#### Plotting both Arithmetic sequence, and geometric sequence"
   ]
  },
  {
   "cell_type": "code",
   "execution_count": 20,
   "metadata": {},
   "outputs": [
    {
     "data": {
      "image/png": "[encoded data removed]",
      "text/plain": [
       "<Figure size 432x288 with 1 Axes>"
      ]
     },
     "metadata": {
      "needs_background": "light"
     },
     "output_type": "display_data"
    }
   ],
   "source": [
    "plt.plot(ari_seq, \"bs\", label=\"arithmetic\")\n",
    "plt.plot(geo_seq, \"ro\", label=\"geometric\")\n",
    "\n",
    "plt.legend()\n",
    "\n",
    "plt.show()"
   ]
  },
  {
   "cell_type": "markdown",
   "metadata": {},
   "source": [
    "## Exercise"
   ]
  },
  {
   "cell_type": "code",
   "execution_count": 35,
   "metadata": {},
   "outputs": [
    {
     "name": "stdout",
     "output_type": "stream",
     "text": [
      "17 17 True\n",
      "486 486 True\n"
     ]
    }
   ],
   "source": [
    "# calculating sequences\n",
    "ari_seq = a + d*np.arange(0, max_n)\n",
    "geo_seq = a * r**np.arange(0, max_n)\n",
    "\n",
    "# not create range, but only get result for provided number \"n\" only\n",
    "\n",
    "# arithmetic\n",
    "a = 2\n",
    "n = 6\n",
    "d = 3\n",
    "arithmetic_direct = a + d * (n - 1)\n",
    "\n",
    "# geometric\n",
    "g = 2\n",
    "n = 6\n",
    "r = 3\n",
    "geometric_direct = g * r**(n-1)\n",
    "\n",
    "print(ari_seq[n-1],arithmetic_direct, ari_seq[n-1]==arithmetic_direct)\n",
    "print(geo_seq[n-1],geometric_direct, geo_seq[n-1]==geometric_direct)"
   ]
  }
 ],
 "metadata": {
  "interpreter": {
   "hash": "dcecd293c5c4d531c7dfb1583ee5220d15a288f363029e32001c9eb594406bc4"
  },
  "kernelspec": {
   "display_name": "Python 3.9.7 ('base')",
   "language": "python",
   "name": "python3"
  },
  "language_info": {
   "codemirror_mode": {
    "name": "ipython",
    "version": 3
   },
   "file_extension": ".py",
   "mimetype": "text/x-python",
   "name": "python",
   "nbconvert_exporter": "python",
   "pygments_lexer": "ipython3",
   "version": "3.9.7"
  },
  "orig_nbformat": 4
 },
 "nbformat": 4,
 "nbformat_minor": 2
}
