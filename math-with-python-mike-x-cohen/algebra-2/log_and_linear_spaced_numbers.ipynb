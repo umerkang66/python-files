{
 "cells": [
  {
   "cell_type": "code",
   "execution_count": 2,
   "metadata": {},
   "outputs": [],
   "source": [
    "import numpy as np\n",
    "import matplotlib.pyplot as plt"
   ]
  },
  {
   "cell_type": "code",
   "execution_count": 5,
   "metadata": {},
   "outputs": [
    {
     "data": {
      "text/plain": [
       "array([1.        , 1.11111111, 1.22222222, 1.33333333, 1.44444444,\n",
       "       1.55555556, 1.66666667, 1.77777778, 1.88888889, 2.        ])"
      ]
     },
     "execution_count": 5,
     "metadata": {},
     "output_type": "execute_result"
    }
   ],
   "source": [
    "# linearly spaced numbers\n",
    "np.linspace(1,2,10)"
   ]
  },
  {
   "cell_type": "code",
   "execution_count": 15,
   "metadata": {},
   "outputs": [
    {
     "name": "stdout",
     "output_type": "stream",
     "text": [
      "1.9952623149688795\n"
     ]
    },
    {
     "data": {
      "text/plain": [
       "array([1.        , 1.08005974, 1.16652904, 1.25992105, 1.36079   ,\n",
       "       1.46973449, 1.58740105, 1.71448797, 1.85174942, 2.        ])"
      ]
     },
     "execution_count": 15,
     "metadata": {},
     "output_type": "execute_result"
    }
   ],
   "source": [
    "a = np.log10(1)\n",
    "b = np.log10(2)\n",
    "\n",
    "# lower bound: 10^a\n",
    "# upper bound: 10^b\n",
    "# log spaced numbers\n",
    "np.logspace(a, b, 10)"
   ]
  },
  {
   "cell_type": "markdown",
   "metadata": {},
   "source": [
    "## Exercise"
   ]
  },
  {
   "cell_type": "code",
   "execution_count": 24,
   "metadata": {},
   "outputs": [
    {
     "data": {
      "image/png": "[encoded data removed]",
      "text/plain": [
       "<Figure size 432x288 with 1 Axes>"
      ]
     },
     "metadata": {
      "needs_background": "light"
     },
     "output_type": "display_data"
    }
   ],
   "source": [
    "# as \"a\" and \"b\" will be closer to each other, the two lines also will be closer to each other\n",
    "a = 2\n",
    "b = 100\n",
    "n = 50\n",
    "\n",
    "# linear functions are really good close approximation as two numbers get close to each other\n",
    "linear_numbers = np.linspace(a,b,n)\n",
    "logspaced_numbers = np.logspace(np.log10(a), np.log10(b), n)\n",
    "\n",
    "plt.plot(linear_numbers, linear_numbers, label=\"linear\")\n",
    "plt.plot(linear_numbers, logspaced_numbers, label=\"log\")\n",
    "\n",
    "plt.legend()\n",
    "plt.axis(\"square\")\n",
    "\n",
    "plt.show()"
   ]
  }
 ],
 "metadata": {
  "interpreter": {
   "hash": "dcecd293c5c4d531c7dfb1583ee5220d15a288f363029e32001c9eb594406bc4"
  },
  "kernelspec": {
   "display_name": "Python 3.9.7 ('base')",
   "language": "python",
   "name": "python3"
  },
  "language_info": {
   "codemirror_mode": {
    "name": "ipython",
    "version": 3
   },
   "file_extension": ".py",
   "mimetype": "text/x-python",
   "name": "python",
   "nbconvert_exporter": "python",
   "pygments_lexer": "ipython3",
   "version": "3.9.7"
  },
  "orig_nbformat": 4
 },
 "nbformat": 4,
 "nbformat_minor": 2
}
