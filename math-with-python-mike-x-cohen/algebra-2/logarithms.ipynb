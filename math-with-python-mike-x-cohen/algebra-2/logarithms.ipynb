{
 "cells": [
  {
   "cell_type": "code",
   "execution_count": 2,
   "metadata": {},
   "outputs": [],
   "source": [
    "import numpy as np\n",
    "from IPython.display import display, Math"
   ]
  },
  {
   "cell_type": "markdown",
   "metadata": {},
   "source": [
    "## Log Multiplication\n",
    "\n",
    "$\\log(a \\times b) = \\log(a) + \\log(b)$"
   ]
  },
  {
   "cell_type": "code",
   "execution_count": 37,
   "metadata": {},
   "outputs": [
    {
     "data": {
      "text/latex": [
       "$\\displaystyle \\log(3 \\times 4) = 2.48491$"
      ],
      "text/plain": [
       "<IPython.core.display.Math object>"
      ]
     },
     "metadata": {},
     "output_type": "display_data"
    },
    {
     "data": {
      "text/latex": [
       "$\\displaystyle \\log(3) \\times \\log(4) = 1.523$"
      ],
      "text/plain": [
       "<IPython.core.display.Math object>"
      ]
     },
     "metadata": {},
     "output_type": "display_data"
    },
    {
     "data": {
      "text/latex": [
       "$\\displaystyle \\log(3) + \\log(4) = 2.48491$"
      ],
      "text/plain": [
       "<IPython.core.display.Math object>"
      ]
     },
     "metadata": {},
     "output_type": "display_data"
    },
    {
     "name": "stdout",
     "output_type": "stream",
     "text": [
      "----- Comparisions -----\n"
     ]
    },
    {
     "data": {
      "text/latex": [
       "$\\displaystyle \\log(3 \\times 4) \\neq \\log(3) \\times \\log(4) \\quad \\Longrightarrow \\quad 2.48491 \\neq 1.523$"
      ],
      "text/plain": [
       "<IPython.core.display.Math object>"
      ]
     },
     "metadata": {},
     "output_type": "display_data"
    },
    {
     "data": {
      "text/latex": [
       "$\\displaystyle \\log(3 \\times 4) = \\log(3) + \\log(4) \\quad \\Longrightarrow \\quad 2.48491 = 2.48491$"
      ],
      "text/plain": [
       "<IPython.core.display.Math object>"
      ]
     },
     "metadata": {},
     "output_type": "display_data"
    }
   ],
   "source": [
    "a = 3\n",
    "b = 4\n",
    "\n",
    "res1 = np.log(a*b)\n",
    "# wrong result\n",
    "res2 = np.log(a) * np.log(b)\n",
    "# right result\n",
    "res3 = np.log(a) + np.log(b)\n",
    "\n",
    "# RESULTS\n",
    "display(Math(\"\\\\log(%g \\\\times %g) = %g\" %(a,b,res1)))\n",
    "display(Math(\"\\\\log(%g) \\\\times \\\\log(%g) = %g\" %(a,b,res2)))\n",
    "display(Math(\"\\\\log(%g) + \\\\log(%g) = %g\" %(a,b,res3)))\n",
    "\n",
    "print(\"----- Comparisions -----\")\n",
    "\n",
    "display(Math(\"\\\\log(%g \\\\times %g) \\\\neq \\\\log(%g) \\\\times \\\\log(%g) \\\\quad \\\\Longrightarrow \\\\quad %g \\\\neq %g\" %(a,b,a,b, res1, res2)))\n",
    "\n",
    "display(Math(\"\\\\log(%g \\\\times %g) = \\\\log(%g) + \\\\log(%g) \\\\quad \\\\Longrightarrow \\\\quad %g = %g\" %(a,b,a,b, res1, res3)))\n"
   ]
  },
  {
   "cell_type": "markdown",
   "metadata": {},
   "source": [
    "## Log division\n",
    "\n",
    "$\\log \\left(\\frac{a}{b} \\right) = \\log(a) - \\log(b)$"
   ]
  },
  {
   "cell_type": "code",
   "execution_count": 41,
   "metadata": {},
   "outputs": [
    {
     "data": {
      "text/latex": [
       "$\\displaystyle \\log \\left( \\frac{3}{4} \\right) = -0.287682$"
      ],
      "text/plain": [
       "<IPython.core.display.Math object>"
      ]
     },
     "metadata": {},
     "output_type": "display_data"
    },
    {
     "data": {
      "text/latex": [
       "$\\displaystyle \\frac{\\log(3)}{\\log(4)} = 0.792481$"
      ],
      "text/plain": [
       "<IPython.core.display.Math object>"
      ]
     },
     "metadata": {},
     "output_type": "display_data"
    },
    {
     "data": {
      "text/latex": [
       "$\\displaystyle \\log(3) - \\log(4) = -0.287682$"
      ],
      "text/plain": [
       "<IPython.core.display.Math object>"
      ]
     },
     "metadata": {},
     "output_type": "display_data"
    },
    {
     "name": "stdout",
     "output_type": "stream",
     "text": [
      "----- Comparisions -----\n"
     ]
    },
    {
     "data": {
      "text/latex": [
       "$\\displaystyle \\log {\\left( \\frac{3}{4} \\right)} \\neq \\frac{\\log(3)}{\\log(4)} \\quad \\Longrightarrow \\quad -0.287682 \\neq 0.792481$"
      ],
      "text/plain": [
       "<IPython.core.display.Math object>"
      ]
     },
     "metadata": {},
     "output_type": "display_data"
    },
    {
     "data": {
      "text/latex": [
       "$\\displaystyle \\log {\\left( \\frac{3}{4} \\right)} = \\log(3) - \\log(4) \\quad \\Longrightarrow \\quad -0.287682 = -0.287682$"
      ],
      "text/plain": [
       "<IPython.core.display.Math object>"
      ]
     },
     "metadata": {},
     "output_type": "display_data"
    }
   ],
   "source": [
    "a = 3\n",
    "b = 4\n",
    "\n",
    "res1 = np.log(a/b)\n",
    "# wrong result\n",
    "res2 = np.log(a) / np.log(b)\n",
    "# right result\n",
    "res3 = np.log(a) - np.log(b)\n",
    "\n",
    "# RESULTS\n",
    "display(Math(\"\\\\log \\\\left( \\\\frac{%g}{%g} \\\\right) = %g\" %(a,b,res1)))\n",
    "display(Math(\"\\\\frac{\\\\log(%g)}{\\\\log(%g)} = %g\" %(a,b,res2)))\n",
    "display(Math(\"\\\\log(%g) - \\\\log(%g) = %g\" %(a,b,res3)))\n",
    "\n",
    "print(\"----- Comparisions -----\")\n",
    "\n",
    "display(Math(\"\\\\log {\\\\left( \\\\frac{%g}{%g} \\\\right)} \\\\neq \\\\frac{\\\\log(%g)}{\\\\log(%g)} \\\\quad \\\\Longrightarrow \\\\quad %g \\\\neq %g\" %(a,b,a,b, res1, res2)))\n",
    "\n",
    "display(Math(\"\\\\log {\\\\left( \\\\frac{%g}{%g} \\\\right)} = \\\\log(%g) - \\\\log(%g) \\\\quad \\\\Longrightarrow \\\\quad %g = %g\" %(a,b,a,b, res1, res3)))\n"
   ]
  },
  {
   "cell_type": "markdown",
   "metadata": {},
   "source": [
    "## Log of value that has exponential value\n",
    "\n",
    "$\\log (a^b) = b \\; \\log(a)$"
   ]
  },
  {
   "cell_type": "code",
   "execution_count": 65,
   "metadata": {},
   "outputs": [
    {
     "data": {
      "text/latex": [
       "$\\displaystyle \\log (2^4) = 2.77259$"
      ],
      "text/plain": [
       "<IPython.core.display.Math object>"
      ]
     },
     "metadata": {},
     "output_type": "display_data"
    },
    {
     "data": {
      "text/latex": [
       "$\\displaystyle \\log (2^{\\log(4)}) = 0.601641$"
      ],
      "text/plain": [
       "<IPython.core.display.Math object>"
      ]
     },
     "metadata": {},
     "output_type": "display_data"
    },
    {
     "data": {
      "text/latex": [
       "$\\displaystyle 4 \\; \\log(2) = 2.77259$"
      ],
      "text/plain": [
       "<IPython.core.display.Math object>"
      ]
     },
     "metadata": {},
     "output_type": "display_data"
    },
    {
     "name": "stdout",
     "output_type": "stream",
     "text": [
      "----- Comparisions -----\n"
     ]
    },
    {
     "data": {
      "text/latex": [
       "$\\displaystyle \\log (2^4) \\neq \\log (2)^ {\\log(4)} \\quad \\Longrightarrow \\quad 2.77259 \\neq 0.601641$"
      ],
      "text/plain": [
       "<IPython.core.display.Math object>"
      ]
     },
     "metadata": {},
     "output_type": "display_data"
    },
    {
     "data": {
      "text/latex": [
       "$\\displaystyle \\log (2^4) = 4 \\; \\log(2) \\quad \\Longrightarrow \\quad 2.77259 = 2.77259$"
      ],
      "text/plain": [
       "<IPython.core.display.Math object>"
      ]
     },
     "metadata": {},
     "output_type": "display_data"
    }
   ],
   "source": [
    "a = 2\n",
    "b = 4\n",
    "\n",
    "res1 = np.log(a**b)\n",
    "# wrong result\n",
    "res2 = np.log(a) ** np.log(b)\n",
    "# right result\n",
    "res3 = b * np.log(a)\n",
    "\n",
    "# RESULTS\n",
    "display(Math(\"\\\\log (%g^%g) = %g\" %(a,b,res1)))\n",
    "display(Math(\"\\\\log (%g^{\\\\log(%g)}) = %g\" %(a,b,res2)))\n",
    "display(Math(\"%g \\\\; \\\\log(%g) = %g\" %(b,a,res3)))\n",
    "\n",
    "print(\"----- Comparisions -----\")\n",
    "\n",
    "display(Math(\"\\\\log (%g^%g) \\\\neq \\\\log (%g)^ {\\\\log(%g)} \\\\quad \\\\Longrightarrow \\\\quad %g \\\\neq %g\" %(a,b,a,b, res1, res2)))\n",
    "\n",
    "display(Math(\"\\\\log (%g^%g) = %g \\\\; \\\\log(%g) \\\\quad \\\\Longrightarrow \\\\quad %g = %g\" %(a,b,b,a, res1, res3)))"
   ]
  }
 ],
 "metadata": {
  "interpreter": {
   "hash": "dcecd293c5c4d531c7dfb1583ee5220d15a288f363029e32001c9eb594406bc4"
  },
  "kernelspec": {
   "display_name": "Python 3.9.7 ('base')",
   "language": "python",
   "name": "python3"
  },
  "language_info": {
   "codemirror_mode": {
    "name": "ipython",
    "version": 3
   },
   "file_extension": ".py",
   "mimetype": "text/x-python",
   "name": "python",
   "nbconvert_exporter": "python",
   "pygments_lexer": "ipython3",
   "version": "3.9.7"
  },
  "orig_nbformat": 4
 },
 "nbformat": 4,
 "nbformat_minor": 2
}
