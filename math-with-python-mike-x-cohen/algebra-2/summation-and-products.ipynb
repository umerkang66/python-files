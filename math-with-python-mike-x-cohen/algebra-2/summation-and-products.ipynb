{
 "cells": [
  {
   "cell_type": "code",
   "execution_count": 8,
   "metadata": {},
   "outputs": [],
   "source": [
    "import numpy as np\n",
    "import matplotlib.pyplot as plt"
   ]
  },
  {
   "cell_type": "code",
   "execution_count": 7,
   "metadata": {},
   "outputs": [
    {
     "data": {
      "text/plain": [
       "array([ 1,  4,  8,  9, 15], dtype=int32)"
      ]
     },
     "execution_count": 7,
     "metadata": {},
     "output_type": "execute_result"
    }
   ],
   "source": [
    "nums = [1, 3, 4, 1, 6]\n",
    "\n",
    "# cumulative sum\n",
    "# all the sums till that number\n",
    "np.cumsum(nums)"
   ]
  },
  {
   "cell_type": "code",
   "execution_count": 15,
   "metadata": {},
   "outputs": [
    {
     "data": {
      "image/png": "[encoded data removed]",
      "text/plain": [
       "<Figure size 432x288 with 1 Axes>"
      ]
     },
     "metadata": {
      "needs_background": "light"
     },
     "output_type": "display_data"
    }
   ],
   "source": [
    "plt.plot(nums, 'rs-')\n",
    "plt.plot(np.cumsum(nums), 'bs-')\n",
    "\n",
    "plt.legend([\"Set\", \"Cumulative Sum\"])\n",
    "plt.show()"
   ]
  },
  {
   "cell_type": "markdown",
   "metadata": {},
   "source": [
    "## Exercises"
   ]
  },
  {
   "cell_type": "markdown",
   "metadata": {},
   "source": [
    "#### Exercise 1\n",
    "Check whether (sum of a) / (sum of a^2) is equal to (1) / (sum of a)"
   ]
  },
  {
   "cell_type": "code",
   "execution_count": 27,
   "metadata": {},
   "outputs": [
    {
     "name": "stdout",
     "output_type": "stream",
     "text": [
      "Option 1 = 0.2727272727272727\n",
      "Option 1 = 0.06666666666666667\n",
      "They are same: False\n"
     ]
    }
   ],
   "source": [
    "a = [1, 2, 3, 4, 5]\n",
    "b = [num**2 for num in a]\n",
    "\n",
    "sum_of_a = sum(a)\n",
    "sum_of_b = sum(b)\n",
    "\n",
    "ans_1 = sum_of_a / sum_of_b\n",
    "ans_2 = 1 / sum_of_a\n",
    "\n",
    "print(\"Option 1 = %s\" %ans_1)\n",
    "print(\"Option 1 = %s\" %ans_2)\n",
    "print(f\"They are same: {ans_1 == ans_2}\")\n"
   ]
  },
  {
   "cell_type": "markdown",
   "metadata": {},
   "source": [
    "#### Exercise 2\n",
    "Check whether (prod of a) / (prod of a^2) is equal to (1) / (prod of a)"
   ]
  },
  {
   "cell_type": "code",
   "execution_count": 29,
   "metadata": {},
   "outputs": [
    {
     "name": "stdout",
     "output_type": "stream",
     "text": [
      "Option 1 = 0.008333333333333333\n",
      "Option 1 = 0.008333333333333333\n",
      "They are same: True\n"
     ]
    }
   ],
   "source": [
    "a = [1, 2, 3, 4, 5]\n",
    "b = [num**2 for num in a]\n",
    "\n",
    "prod_of_a = np.prod(a)\n",
    "prod_of_b = np.prod(b)\n",
    "\n",
    "ans_1 = prod_of_a / prod_of_b\n",
    "ans_2 = 1 / prod_of_a\n",
    "\n",
    "print(\"Option 1 = %s\" %ans_1)\n",
    "print(\"Option 1 = %s\" %ans_2)\n",
    "print(f\"They are same: {ans_1 == ans_2}\")\n"
   ]
  }
 ],
 "metadata": {
  "interpreter": {
   "hash": "dcecd293c5c4d531c7dfb1583ee5220d15a288f363029e32001c9eb594406bc4"
  },
  "kernelspec": {
   "display_name": "Python 3.9.7 ('base')",
   "language": "python",
   "name": "python3"
  },
  "language_info": {
   "codemirror_mode": {
    "name": "ipython",
    "version": 3
   },
   "file_extension": ".py",
   "mimetype": "text/x-python",
   "name": "python",
   "nbconvert_exporter": "python",
   "pygments_lexer": "ipython3",
   "version": "3.9.7"
  },
  "orig_nbformat": 4
 },
 "nbformat": 4,
 "nbformat_minor": 2
}
