{
 "cells": [
  {
   "cell_type": "code",
   "execution_count": 5,
   "id": "fa72969e",
   "metadata": {},
   "outputs": [],
   "source": [
    "from IPython.display import display, Math"
   ]
  },
  {
   "cell_type": "code",
   "execution_count": 8,
   "id": "1dce4c83",
   "metadata": {},
   "outputs": [
    {
     "data": {
      "text/latex": [
       "$\\displaystyle 4 + 3 = 7$"
      ],
      "text/plain": [
       "<IPython.core.display.Math object>"
      ]
     },
     "metadata": {},
     "output_type": "display_data"
    }
   ],
   "source": [
    "display(Math(\"4 + 3 = %g\" %(4 + 3)))"
   ]
  },
  {
   "cell_type": "code",
   "execution_count": 20,
   "id": "9251c769",
   "metadata": {},
   "outputs": [
    {
     "data": {
      "text/latex": [
       "$\\displaystyle \\sigma = \\mu \\times \\sqrt{5x + 3z - 17\\mu}$"
      ],
      "text/plain": [
       "<IPython.core.display.Math object>"
      ]
     },
     "metadata": {},
     "output_type": "display_data"
    },
    {
     "data": {
      "text/latex": [
       "$\\displaystyle \\sqrt{x}\\sqrt{y}$"
      ],
      "text/plain": [
       "<IPython.core.display.Math object>"
      ]
     },
     "metadata": {},
     "output_type": "display_data"
    }
   ],
   "source": [
    "display(Math(\"\\\\sigma = \\\\mu \\\\times \\\\sqrt{5x + 3z - 17\\\\mu}\"))\n",
    "display(Math(\"\\\\sqrt{x}\\\\sqrt{y}\"))"
   ]
  },
  {
   "cell_type": "code",
   "execution_count": 23,
   "id": "b2fc8ea6",
   "metadata": {},
   "outputs": [
    {
     "data": {
      "text/latex": [
       "$\\displaystyle x_{mm} + y^{nk}$"
      ],
      "text/plain": [
       "<IPython.core.display.Math object>"
      ]
     },
     "metadata": {},
     "output_type": "display_data"
    },
    {
     "data": {
      "text/latex": [
       "$\\displaystyle \\text{The answer to this equation is }\\frac{1+x}{2v-s^{t+4r}}$"
      ],
      "text/plain": [
       "<IPython.core.display.Math object>"
      ]
     },
     "metadata": {},
     "output_type": "display_data"
    }
   ],
   "source": [
    "# subscripts\n",
    "display(Math(\"x_{mm} + y^{nk}\"))\n",
    "display(Math(\"\\\\text{The answer to this equation is }\\\\frac{1+x}{2v-s^{t+4r}}\"))"
   ]
  },
  {
   "cell_type": "markdown",
   "id": "bc04d274",
   "metadata": {},
   "source": [
    "### We can also write latex code in markdown\n",
    "#### We don't have to use the double backslash but only one\n",
    "\n",
    "$$\\text{The answer to this equation is }\\frac{1+x}{2v-s^{t+4r}}$$"
   ]
  },
  {
   "cell_type": "markdown",
   "id": "ae0cf472",
   "metadata": {},
   "source": [
    "## Exercises"
   ]
  },
  {
   "cell_type": "code",
   "execution_count": 36,
   "id": "f95f4379",
   "metadata": {},
   "outputs": [
    {
     "data": {
      "text/latex": [
       "$\\displaystyle 4x + 5y - 8z = 17$"
      ],
      "text/plain": [
       "<IPython.core.display.Math object>"
      ]
     },
     "metadata": {},
     "output_type": "display_data"
    },
    {
     "data": {
      "text/latex": [
       "$\\displaystyle \\sin(2\\pi ft + \\theta)$"
      ],
      "text/plain": [
       "<IPython.core.display.Math object>"
      ]
     },
     "metadata": {},
     "output_type": "display_data"
    },
    {
     "data": {
      "text/latex": [
       "$\\displaystyle e = mc^2$"
      ],
      "text/plain": [
       "<IPython.core.display.Math object>"
      ]
     },
     "metadata": {},
     "output_type": "display_data"
    },
    {
     "data": {
      "text/latex": [
       "$\\displaystyle \\frac{4 + 5x^2}{(1 + x)(1 - x)}$"
      ],
      "text/plain": [
       "<IPython.core.display.Math object>"
      ]
     },
     "metadata": {},
     "output_type": "display_data"
    }
   ],
   "source": [
    "display(Math(\"4x + 5y - 8z = 17\")) # 1)\n",
    "display(Math(\"\\\\sin(2\\\\pi ft + \\\\theta)\")) # 2)\n",
    "display(Math(\"e = mc^2\")) # 3)\n",
    "display(Math(\"\\\\frac{4 + 5x^2}{(1 + x)(1 - x)}\")) # 4)"
   ]
  }
 ],
 "metadata": {
  "kernelspec": {
   "display_name": "Python 3 (ipykernel)",
   "language": "python",
   "name": "python3"
  },
  "language_info": {
   "codemirror_mode": {
    "name": "ipython",
    "version": 3
   },
   "file_extension": ".py",
   "mimetype": "text/x-python",
   "name": "python",
   "nbconvert_exporter": "python",
   "pygments_lexer": "ipython3",
   "version": "3.9.7"
  }
 },
 "nbformat": 4,
 "nbformat_minor": 5
}
