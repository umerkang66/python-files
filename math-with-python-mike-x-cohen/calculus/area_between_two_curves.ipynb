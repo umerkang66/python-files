{
 "cells": [
  {
   "cell_type": "code",
   "execution_count": 7,
   "metadata": {},
   "outputs": [],
   "source": [
    "import sympy as sym\n",
    "import numpy as np\n",
    "import matplotlib.pyplot as plt\n",
    "from IPython.display import display, Math"
   ]
  },
  {
   "cell_type": "code",
   "execution_count": 13,
   "metadata": {},
   "outputs": [
    {
     "data": {
      "image/png": "[encoded data removed]",
      "text/plain": [
       "<Figure size 432x288 with 1 Axes>"
      ]
     },
     "metadata": {
      "needs_background": "light"
     },
     "output_type": "display_data"
    }
   ],
   "source": [
    "x = sym.symbols(\"x\")\n",
    "\n",
    "sym_f = x**2\n",
    "sym_g = x\n",
    "\n",
    "f = sym.lambdify(x,sym_f)\n",
    "g = sym.lambdify(x,sym_g)\n",
    "\n",
    "x_range = np.linspace(-2,2,55)\n",
    "\n",
    "plt.plot(x_range,f(x_range))\n",
    "plt.plot(x_range,g(x_range), 'r')\n",
    "\n",
    "plt.axis([-.25,1.25,-.5,1.5])\n",
    "plt.legend([\"$f(x) = %s$\" %sym.latex(sym_f), \"$g(x) = %s$\" %sym.latex(sym_g)])\n",
    "plt.show()"
   ]
  },
  {
   "cell_type": "markdown",
   "metadata": {},
   "source": [
    "### Computing the area between two functions\n",
    "\n",
    "The area between two functions is given by the formula $A = \\int^{b}_{a} [f(x) - g(x)] dx$\n",
    "\n",
    "In our example, $f(x) = x^2 \\text{  and  } g(x) = x$\n",
    "\n",
    "Therefore, $A = \\int^{b}_{a} (x - x^2) dx$\n",
    "\n",
    "We will compute the area between the two crossing paths, that is, where the two functions are equal. This is given by the two solutions to the equation\n",
    "\n",
    "The two solutions are $x = 0$ and $x = 1$. This gives us the definite integral of \n",
    "\n",
    "$$A = \\int^{1}_{0} (x - x^2) dx$$\n",
    "\n",
    "The final answer will be given in the code below"
   ]
  },
  {
   "cell_type": "code",
   "execution_count": 24,
   "metadata": {},
   "outputs": [
    {
     "data": {
      "text/latex": [
       "$\\displaystyle f(x) \\text{ and } g(x) \\text{ intersect at }x=0 \\text{ and } 1$"
      ],
      "text/plain": [
       "<IPython.core.display.Math object>"
      ]
     },
     "metadata": {},
     "output_type": "display_data"
    },
    {
     "data": {
      "text/latex": [
       "$\\displaystyle \\text{The area between these functions is } \\frac{1}{6}$"
      ],
      "text/plain": [
       "<IPython.core.display.Math object>"
      ]
     },
     "metadata": {},
     "output_type": "display_data"
    }
   ],
   "source": [
    "fg_intersect = sym.solve(sym_f - sym_g)\n",
    "\n",
    "display(Math(\"f(x) \\\\text{ and } g(x) \\\\text{ intersect at }x=%g \\\\text{ and } %g\" %(fg_intersect[0],fg_intersect[1])))\n",
    "\n",
    "# compute the area\n",
    "A = sym.integrate(sym_g-sym_f,(x,fg_intersect[0],fg_intersect[1]))\n",
    "\n",
    "display(Math(\"\\\\text{The area between these functions is } %s\" %sym.latex(A)))"
   ]
  }
 ],
 "metadata": {
  "interpreter": {
   "hash": "dcecd293c5c4d531c7dfb1583ee5220d15a288f363029e32001c9eb594406bc4"
  },
  "kernelspec": {
   "display_name": "Python 3.9.7 ('base')",
   "language": "python",
   "name": "python3"
  },
  "language_info": {
   "codemirror_mode": {
    "name": "ipython",
    "version": 3
   },
   "file_extension": ".py",
   "mimetype": "text/x-python",
   "name": "python",
   "nbconvert_exporter": "python",
   "pygments_lexer": "ipython3",
   "version": "3.9.7"
  },
  "orig_nbformat": 4
 },
 "nbformat": 4,
 "nbformat_minor": 2
}
