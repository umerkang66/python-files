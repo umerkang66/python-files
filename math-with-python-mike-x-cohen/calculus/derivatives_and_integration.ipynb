{
 "cells": [
  {
   "cell_type": "markdown",
   "metadata": {},
   "source": [
    "## Derivative and Integral are opposite of each other\n",
    "\n",
    "The derivative of the function, and then the Integral \n",
    "over the derivative of the function, gives the original function back itself\n",
    "\n",
    "$\\int f(x)' dx = f(x)$"
   ]
  },
  {
   "cell_type": "code",
   "execution_count": 2,
   "metadata": {},
   "outputs": [],
   "source": [
    "import sympy as sym\n",
    "from IPython.display import display, Math"
   ]
  },
  {
   "cell_type": "code",
   "execution_count": 25,
   "metadata": {},
   "outputs": [
    {
     "data": {
      "text/latex": [
       "$\\displaystyle f(x) = 2 x^{3} + \\sin{\\left(x \\right)}$"
      ],
      "text/plain": [
       "<IPython.core.display.Math object>"
      ]
     },
     "metadata": {},
     "output_type": "display_data"
    },
    {
     "data": {
      "text/latex": [
       "$\\displaystyle f' = 6 x^{2} + \\cos{\\left(x \\right)}$"
      ],
      "text/plain": [
       "<IPython.core.display.Math object>"
      ]
     },
     "metadata": {},
     "output_type": "display_data"
    },
    {
     "data": {
      "text/latex": [
       "$\\displaystyle \\int (f') dx = 2 x^{3} + \\sin{\\left(x \\right)}$"
      ],
      "text/plain": [
       "<IPython.core.display.Math object>"
      ]
     },
     "metadata": {},
     "output_type": "display_data"
    },
    {
     "data": {
      "text/latex": [
       "$\\displaystyle 2 x^{3} + \\sin{\\left(x \\right)} = 2 x^{3} + \\sin{\\left(x \\right)} \\Rightarrow \\text{True}$"
      ],
      "text/plain": [
       "<IPython.core.display.Math object>"
      ]
     },
     "metadata": {},
     "output_type": "display_data"
    }
   ],
   "source": [
    "x = sym.symbols(\"x\")\n",
    "f = 2*x**3 + sym.sin(x)\n",
    "\n",
    "# take derivative\n",
    "df = sym.diff(f)\n",
    "# take the integral\n",
    "idf = sym.integrate(df)\n",
    "\n",
    "display(Math(\"f(x) = %s\" %sym.latex(f)))\n",
    "display(Math(\"f' = %s\" %sym.latex(df)))\n",
    "display(Math(\"\\\\int (f') dx = %s\" %sym.latex(idf)))\n",
    "\n",
    "display(Math(\"%s = %s \\\\Rightarrow \\\\text{%s}\" %(sym.latex(f),sym.latex(idf),f==idf)))"
   ]
  }
 ],
 "metadata": {
  "interpreter": {
   "hash": "dcecd293c5c4d531c7dfb1583ee5220d15a288f363029e32001c9eb594406bc4"
  },
  "kernelspec": {
   "display_name": "Python 3.9.7 ('base')",
   "language": "python",
   "name": "python3"
  },
  "language_info": {
   "codemirror_mode": {
    "name": "ipython",
    "version": 3
   },
   "file_extension": ".py",
   "mimetype": "text/x-python",
   "name": "python",
   "nbconvert_exporter": "python",
   "pygments_lexer": "ipython3",
   "version": "3.9.7"
  },
  "orig_nbformat": 4
 },
 "nbformat": 4,
 "nbformat_minor": 2
}
