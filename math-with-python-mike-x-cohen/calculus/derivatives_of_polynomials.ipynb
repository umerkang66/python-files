{
 "cells": [
  {
   "cell_type": "code",
   "execution_count": 3,
   "metadata": {},
   "outputs": [],
   "source": [
    "import sympy as sym\n",
    "from IPython.display import display, Math"
   ]
  },
  {
   "cell_type": "markdown",
   "metadata": {},
   "source": [
    "## Derivative of a function\n",
    "\n",
    "Derivative of the function means, how much the function is being changed over time, so constants that doesn't change, have derivative of 0.\n",
    "\n",
    "Multiply the power to the variable, then decrease the power by 1.\n",
    "\n",
    "$\\frac{d}{dx} x^2 = 2x^1$\n",
    "\n",
    "$\\frac{d}{dx} x^3 = 3x^2$\n",
    "\n",
    "$\\frac{d}{dx} 3x^3 = 9x^2$"
   ]
  },
  {
   "cell_type": "code",
   "execution_count": 4,
   "metadata": {},
   "outputs": [],
   "source": [
    "x = sym.symbols(\"x\")\n",
    "fx = x**4 + x**3\n",
    "\n",
    "# sympy func to compute the derivative\n",
    "dfx = sym.diff(fx)"
   ]
  },
  {
   "cell_type": "code",
   "execution_count": 5,
   "metadata": {},
   "outputs": [
    {
     "data": {
      "text/latex": [
       "$\\displaystyle f(x) = x^{4} + x^{3}, \\quad \\frac{df}{dx} = 4 x^{3} + 3 x^{2}$"
      ],
      "text/plain": [
       "<IPython.core.display.Math object>"
      ]
     },
     "metadata": {},
     "output_type": "display_data"
    },
    {
     "data": {
      "text/latex": [
       "$\\displaystyle f(x) = x^{4} + x^{3}, \\quad f' = 4 x^{3} + 3 x^{2}$"
      ],
      "text/plain": [
       "<IPython.core.display.Math object>"
      ]
     },
     "metadata": {},
     "output_type": "display_data"
    },
    {
     "data": {
      "text/latex": [
       "$\\displaystyle f(x) = x^{4} + x^{3}, \\quad \\dot{f} = 4 x^{3} + 3 x^{2}$"
      ],
      "text/plain": [
       "<IPython.core.display.Math object>"
      ]
     },
     "metadata": {},
     "output_type": "display_data"
    }
   ],
   "source": [
    "# Leibniz notation\n",
    "display(Math(\"f(x) = %s, \\\\quad \\\\frac{df}{dx} = %s\" %(sym.latex(fx), sym.latex(dfx))))\n",
    "\n",
    "# Logrange notation\n",
    "display(Math(\"f(x) = %s, \\\\quad f' = %s\" %(sym.latex(fx), sym.latex(dfx))))\n",
    "\n",
    "# Newton notation\n",
    "display(Math(\"f(x) = %s, \\\\quad \\\\dot{f} = %s\" %(sym.latex(fx), sym.latex(dfx))))"
   ]
  },
  {
   "cell_type": "markdown",
   "metadata": {},
   "source": [
    "## Plotting the functions, and their derivatives"
   ]
  },
  {
   "cell_type": "code",
   "execution_count": 6,
   "metadata": {},
   "outputs": [],
   "source": [
    "import sympy.plotting.plot as symplot"
   ]
  },
  {
   "cell_type": "code",
   "execution_count": 7,
   "metadata": {},
   "outputs": [
    {
     "data": {
      "image/png": "[encoded data removed]",
      "text/plain": [
       "<Figure size 432x288 with 1 Axes>"
      ]
     },
     "metadata": {
      "needs_background": "light"
     },
     "output_type": "display_data"
    }
   ],
   "source": [
    "fx = 3 - x**3\n",
    "\n",
    "p = symplot(fx,(x,-3,5), show=False)\n",
    "# add another plot\n",
    "p.extend(symplot(sym.diff(fx), show=False))\n",
    "\n",
    "p[1].line_color = 'r'\n",
    "p[0].label = \"$f(x) = %s$\" %sym.latex(fx)\n",
    "p[1].label = \"$f(x) = %s$\" %sym.latex(sym.diff(fx))\n",
    "\n",
    "p.legend = True\n",
    "p.ylim = [-10,10]\n",
    "p.xlim = [-3,3]\n",
    "p.show()"
   ]
  },
  {
   "cell_type": "markdown",
   "metadata": {},
   "source": [
    "## Summation Rule\n",
    "\n",
    "$(f+g)' = f' + g'$\n",
    "\n",
    "## Product Rule\n",
    "\n",
    "$(f \\times g)' \\neq f' \\times g'$\n",
    "\n",
    "$(f \\times g)' = f' \\times g + g \\times f'$\n"
   ]
  },
  {
   "cell_type": "code",
   "execution_count": 9,
   "metadata": {},
   "outputs": [
    {
     "data": {
      "text/latex": [
       "$\\displaystyle (f+g)' = f' + g' \\quad \\Rightarrow \\quad \\text{True}$"
      ],
      "text/plain": [
       "<IPython.core.display.Math object>"
      ]
     },
     "metadata": {},
     "output_type": "display_data"
    },
    {
     "name": "stdout",
     "output_type": "stream",
     "text": [
      "Without applying the product rule\n"
     ]
    },
    {
     "data": {
      "text/latex": [
       "$\\displaystyle (f \\times g)' \\neq f' \\times g' \\quad \\Rightarrow \\quad \\text{False}$"
      ],
      "text/plain": [
       "<IPython.core.display.Math object>"
      ]
     },
     "metadata": {},
     "output_type": "display_data"
    },
    {
     "name": "stdout",
     "output_type": "stream",
     "text": [
      "Applying the product rule\n"
     ]
    },
    {
     "data": {
      "text/latex": [
       "$\\displaystyle (f \\times g)' = f' \\times g + g \\times f' \\quad \\Rightarrow \\quad \\text{True}$"
      ],
      "text/plain": [
       "<IPython.core.display.Math object>"
      ]
     },
     "metadata": {},
     "output_type": "display_data"
    }
   ],
   "source": [
    "x = sym.symbols(\"x\")\n",
    "\n",
    "fx = 3 + 2*x - 5*x**2 + 7*x**4\n",
    "gx = 4*x**2 + x**5\n",
    "\n",
    "# Summation rule\n",
    "ans1 = sym.diff(fx + gx) == sym.diff(fx) + sym.diff(gx)\n",
    "# Product rule # 1\n",
    "ans2 = sym.diff(fx * gx) == sym.diff(fx) * sym.diff(gx)\n",
    "# Product rule # 2\n",
    "ans3 = sym.diff(fx * gx) == sym.diff(fx) * gx + sym.diff(gx) * fx\n",
    "\n",
    "display(Math(\"(f+g)' = f' + g' \\\\quad \\\\Rightarrow \\\\quad \\\\text{%s}\" %ans1))\n",
    "\n",
    "print(\"Without applying the product rule\")\n",
    "display(Math(\"(f \\\\times g)' \\\\neq f' \\\\times g' \\\\quad \\\\Rightarrow \\\\quad \\\\text{%s}\" %ans2))\n",
    "\n",
    "print(\"Applying the product rule\")\n",
    "display(Math(\"(f \\\\times g)' = f' \\\\times g + g \\\\times f' \\\\quad \\\\Rightarrow \\\\quad \\\\text{%s}\" %ans3))"
   ]
  }
 ],
 "metadata": {
  "interpreter": {
   "hash": "dcecd293c5c4d531c7dfb1583ee5220d15a288f363029e32001c9eb594406bc4"
  },
  "kernelspec": {
   "display_name": "Python 3.9.7 ('base')",
   "language": "python",
   "name": "python3"
  },
  "language_info": {
   "codemirror_mode": {
    "name": "ipython",
    "version": 3
   },
   "file_extension": ".py",
   "mimetype": "text/x-python",
   "name": "python",
   "nbconvert_exporter": "python",
   "pygments_lexer": "ipython3",
   "version": "3.9.7"
  },
  "orig_nbformat": 4
 },
 "nbformat": 4,
 "nbformat_minor": 2
}
