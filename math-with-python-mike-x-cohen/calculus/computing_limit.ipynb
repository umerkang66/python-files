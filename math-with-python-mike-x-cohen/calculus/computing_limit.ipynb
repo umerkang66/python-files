{
 "cells": [
  {
   "cell_type": "code",
   "execution_count": 1,
   "metadata": {},
   "outputs": [],
   "source": [
    "import sympy as sym\n",
    "import matplotlib.pyplot as plt\n",
    "import numpy as np\n",
    "from IPython.display import display, Math"
   ]
  },
  {
   "cell_type": "markdown",
   "metadata": {},
   "source": [
    "## Limits Notation\n",
    "\n",
    "what will be the value of function, when x reaches a\n",
    "\n",
    "$\\lim_{x \\to a} f(x) \\Rightarrow \\quad \\lim_{x \\to 4} \\frac{x^2}{2} \\Rightarrow \\quad 8$"
   ]
  },
  {
   "cell_type": "code",
   "execution_count": 49,
   "metadata": {},
   "outputs": [
    {
     "data": {
      "text/latex": [
       "$\\displaystyle \\lim_{x\\to 1.5} x^{3} = 3.375$"
      ],
      "text/plain": [
       "<IPython.core.display.Math object>"
      ]
     },
     "metadata": {},
     "output_type": "display_data"
    }
   ],
   "source": [
    "x = sym.symbols('x')\n",
    "fx = x**3\n",
    "\n",
    "lim_point = 1.5\n",
    "lim = sym.limit(fx,x,lim_point)\n",
    "\n",
    "display(Math(\"\\\\lim_{x\\\\to %g} %s = %g\" %(lim_point,sym.latex(fx), lim)))"
   ]
  },
  {
   "cell_type": "code",
   "execution_count": 54,
   "metadata": {},
   "outputs": [
    {
     "name": "stdout",
     "output_type": "stream",
     "text": [
      "3.37500000000000 3.375 True\n"
     ]
    },
    {
     "data": {
      "image/png": "[encoded data removed]",
      "text/plain": [
       "<Figure size 432x288 with 1 Axes>"
      ]
     },
     "metadata": {
      "needs_background": "light"
     },
     "output_type": "display_data"
    }
   ],
   "source": [
    "# \"fxx\" is a function, that will allows to replace the x value\n",
    "fxx = sym.lambdify(x,fx) # x**3\n",
    "x_range = np.linspace(-5,5,200)\n",
    "\n",
    "plt.plot(x_range, fxx(x_range))\n",
    "# lim_point in and its function value in plot\n",
    "plt.plot(lim_point, fxx(lim_point), \"ro\")\n",
    "\n",
    "print(lim,fxx(lim_point),lim == fxx(lim_point))\n",
    "plt.show()"
   ]
  },
  {
   "cell_type": "code",
   "execution_count": 30,
   "metadata": {},
   "outputs": [
    {
     "data": {
      "text/latex": [
       "$\\displaystyle \\lim_{x\\to 2^-} \\frac{x^{2}}{x - 2} = inf$"
      ],
      "text/plain": [
       "<IPython.core.display.Math object>"
      ]
     },
     "metadata": {},
     "output_type": "display_data"
    },
    {
     "data": {
      "image/png": "[encoded data removed]",
      "text/plain": [
       "<Figure size 432x288 with 1 Axes>"
      ]
     },
     "metadata": {
      "needs_background": "light"
     },
     "output_type": "display_data"
    }
   ],
   "source": [
    "fx = (x**2)/(x-2)\n",
    "fxx = sym.lambdify(x,fx)\n",
    "x_range = np.linspace(1,3,102)\n",
    "\n",
    "lim_point = 2\n",
    "lim_neg = sym.limit(fx,x,lim_point, dir=\"-\")\n",
    "lim_pos = sym.limit(fx,x,lim_point, dir=\"-\")\n",
    "\n",
    "display(Math(\"\\\\lim_{x\\\\to %g^-} %s = %g\" %(lim_point,sym.latex(fx), lim)))\n",
    "\n",
    "plt.plot(x_range, fxx(x_range), 'b')\n",
    "\n",
    "plt.show()"
   ]
  },
  {
   "cell_type": "markdown",
   "metadata": {},
   "source": [
    "## Exercise"
   ]
  },
  {
   "cell_type": "markdown",
   "metadata": {},
   "source": [
    "### Prove that \n",
    "\n",
    "$\\frac{\\lim_{x\\to a} f(x)}{\\lim_{x\\to a} g(x)} = \\lim_{x\\to a} \\frac{f(x)}{g(x)} \\Longrightarrow \\text{True}$\n",
    "\n",
    "where\n",
    "\n",
    "$f(x) = e^{-x} \\sqrt{x+1}$\n",
    "\n",
    "$g(x) = \\cos(x + \\sin(x))$\n",
    "\n",
    "now the equation becomes if limit --> 5\n",
    "\n",
    "$\\frac{\\lim_{x\\to 5} e^{-x} \\sqrt{x+1}}{\\lim_{x\\to 5} \\cos(x + \\sin(x))} = \\lim_{x\\to 5} \\frac{e^{-x} \\sqrt{x+1}}{\\cos(x + \\sin(x))} \\Longrightarrow \\text{True}$"
   ]
  },
  {
   "cell_type": "code",
   "execution_count": 104,
   "metadata": {},
   "outputs": [
    {
     "data": {
      "text/latex": [
       "$\\displaystyle \\frac{\\lim_{x \\to 5} f(x)}{\\lim_{x \\to 5} g(x)} = \\frac{0.0165045}{-0.622015} = -0.026534$"
      ],
      "text/plain": [
       "<IPython.core.display.Math object>"
      ]
     },
     "metadata": {},
     "output_type": "display_data"
    },
    {
     "data": {
      "text/latex": [
       "$\\displaystyle \\lim_{x \\to 5} \\frac{f(x)}{g(x)} = -0.026534$"
      ],
      "text/plain": [
       "<IPython.core.display.Math object>"
      ]
     },
     "metadata": {},
     "output_type": "display_data"
    }
   ],
   "source": [
    "x = sym.symbols(\"x\")\n",
    "\n",
    "fx = sym.exp(-x)*sym.sqrt(x+1)\n",
    "gx = sym.cos(x + sym.sin(x))\n",
    "lim_point = 5\n",
    "\n",
    "# separate limits, then dividing them\n",
    "lim_fx = sym.limit(fx,x,lim_point)\n",
    "lim_gx = sym.limit(gx,x,lim_point)\n",
    "\n",
    "# first dividing them, then finding limits\n",
    "lim_fx_gx = sym.limit(fx/gx, x, lim_point)\n",
    "\n",
    "ans = lim_fx / lim_gx == lim_fx_gx\n",
    "\n",
    "display(Math(\"\\\\frac{\\\\lim_{x \\\\to %g} f(x)}{\\\\lim_{x \\\\to %g} g(x)} = \\\\frac{%g}{%g} = %g\" %(lim_point,lim_point,lim_fx,lim_gx, lim_fx/lim_gx)))\n",
    "\n",
    "display(Math(\"\\\\lim_{x \\\\to %g} \\\\frac{f(x)}{g(x)} = %g\" %(lim_point, lim_fx_gx)))"
   ]
  },
  {
   "cell_type": "code",
   "execution_count": 92,
   "metadata": {},
   "outputs": [
    {
     "data": {
      "text/plain": [
       "[]"
      ]
     },
     "execution_count": 92,
     "metadata": {},
     "output_type": "execute_result"
    },
    {
     "data": {
      "image/png": "[encoded data removed]",
      "text/plain": [
       "<Figure size 432x288 with 1 Axes>"
      ]
     },
     "metadata": {
      "needs_background": "light"
     },
     "output_type": "display_data"
    }
   ],
   "source": [
    "# Plotting\n",
    "x = sym.symbols(\"x\")\n",
    "x_range = np.linspace(0,10,100)\n",
    "\n",
    "fx = sym.exp(-x)*sym.sqrt(x+1)\n",
    "gx = sym.cos(x + sym.sin(x))\n",
    "\n",
    "fxx = sym.lambdify(x, fx)\n",
    "gxx = sym.lambdify(x, gx)\n",
    "\n",
    "plt.plot(x_range,fxx(x_range), label=\"f(x)\")\n",
    "plt.plot(x_range,gxx(x_range), label=\"g(x)\")\n",
    "\n",
    "plt.legend()\n",
    "plt.plot()"
   ]
  }
 ],
 "metadata": {
  "interpreter": {
   "hash": "dcecd293c5c4d531c7dfb1583ee5220d15a288f363029e32001c9eb594406bc4"
  },
  "kernelspec": {
   "display_name": "Python 3.9.7 ('base')",
   "language": "python",
   "name": "python3"
  },
  "language_info": {
   "codemirror_mode": {
    "name": "ipython",
    "version": 3
   },
   "file_extension": ".py",
   "mimetype": "text/x-python",
   "name": "python",
   "nbconvert_exporter": "python",
   "pygments_lexer": "ipython3",
   "version": "3.9.7"
  },
  "orig_nbformat": 4
 },
 "nbformat": 4,
 "nbformat_minor": 2
}
