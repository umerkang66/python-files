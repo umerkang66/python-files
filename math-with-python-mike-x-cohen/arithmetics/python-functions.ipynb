{
 "cells": [
  {
   "cell_type": "markdown",
   "id": "3dcad04a",
   "metadata": {},
   "source": [
    "## Exercises"
   ]
  },
  {
   "cell_type": "code",
   "execution_count": 1,
   "id": "1baecdc9",
   "metadata": {},
   "outputs": [],
   "source": [
    "from IPython.display import display, Math"
   ]
  },
  {
   "cell_type": "code",
   "execution_count": 5,
   "id": "f91a0b12",
   "metadata": {},
   "outputs": [],
   "source": [
    "def powers(x, y): \n",
    "    display(Math(\"%g^%g = %g\" %(x, y, x**y)))\n",
    "\n",
    "\n",
    "def division(x, y): \n",
    "    display(Math(\"\\\\frac{%g}{%g} = %g\" %(x, y, x / y)))\n",
    "    \n",
    "\n",
    "def main_function(): \n",
    "    x = int(input(\"Input x:\"))\n",
    "    y = int(input(\"Input y:\"))\n",
    "    display(Math(\"\\\\text{Press '1' to compute }%g^%g\\\\text{ or press '2' to compute }\\\\frac{%g}{%g}\" %(x,y,x,y)))\n",
    "    switch = input(\" \")\n",
    "    \n",
    "    if switch == \"1\": \n",
    "        powers(x, y)\n",
    "    elif switch == \"2\": \n",
    "        division(x, y)\n",
    "    else: \n",
    "        print(\"invalid choice\")\n",
    "    "
   ]
  },
  {
   "cell_type": "code",
   "execution_count": 7,
   "id": "13c9c8dd",
   "metadata": {},
   "outputs": [
    {
     "name": "stdout",
     "output_type": "stream",
     "text": [
      "Input x:45\n",
      "Input y:2\n"
     ]
    },
    {
     "data": {
      "text/latex": [
       "$\\displaystyle \\text{Press '1' to compute }45^2\\text{ or press '2' to compute }\\frac{45}{2}$"
      ],
      "text/plain": [
       "<IPython.core.display.Math object>"
      ]
     },
     "metadata": {},
     "output_type": "display_data"
    },
    {
     "name": "stdout",
     "output_type": "stream",
     "text": [
      " 2\n"
     ]
    },
    {
     "data": {
      "text/latex": [
       "$\\displaystyle \\frac{45}{2} = 22.5$"
      ],
      "text/plain": [
       "<IPython.core.display.Math object>"
      ]
     },
     "metadata": {},
     "output_type": "display_data"
    }
   ],
   "source": [
    "main_function()"
   ]
  }
 ],
 "metadata": {
  "kernelspec": {
   "display_name": "Python 3 (ipykernel)",
   "language": "python",
   "name": "python3"
  },
  "language_info": {
   "codemirror_mode": {
    "name": "ipython",
    "version": 3
   },
   "file_extension": ".py",
   "mimetype": "text/x-python",
   "name": "python",
   "nbconvert_exporter": "python",
   "pygments_lexer": "ipython3",
   "version": "3.9.7"
  }
 },
 "nbformat": 4,
 "nbformat_minor": 5
}
