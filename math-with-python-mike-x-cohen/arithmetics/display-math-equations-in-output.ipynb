{
 "cells": [
  {
   "cell_type": "markdown",
   "id": "e5e9f6b6",
   "metadata": {},
   "source": [
    "## Displaying equations in output using Math"
   ]
  },
  {
   "cell_type": "code",
   "execution_count": 4,
   "id": "612bccf8",
   "metadata": {},
   "outputs": [],
   "source": [
    "from IPython.display import display, Math"
   ]
  },
  {
   "cell_type": "code",
   "execution_count": 5,
   "id": "50ea4b71",
   "metadata": {},
   "outputs": [
    {
     "data": {
      "text/plain": [
       "'4 + 3 = 7'"
      ]
     },
     "metadata": {},
     "output_type": "display_data"
    }
   ],
   "source": [
    "display(\"4 + 3 = \" + str(4 + 3))"
   ]
  },
  {
   "cell_type": "code",
   "execution_count": 6,
   "id": "6c660424",
   "metadata": {},
   "outputs": [
    {
     "data": {
      "text/latex": [
       "$\\displaystyle 4 + 3 = 7$"
      ],
      "text/plain": [
       "<IPython.core.display.Math object>"
      ]
     },
     "metadata": {},
     "output_type": "display_data"
    }
   ],
   "source": [
    "display(Math('4 + 3 = 7'))"
   ]
  },
  {
   "cell_type": "code",
   "execution_count": 7,
   "id": "77bc0d34",
   "metadata": {},
   "outputs": [
    {
     "data": {
      "text/latex": [
       "$\\displaystyle 4 + 3 = 7$"
      ],
      "text/plain": [
       "<IPython.core.display.Math object>"
      ]
     },
     "metadata": {},
     "output_type": "display_data"
    }
   ],
   "source": [
    "display(Math(\"4 + 3 = \" + str(4 + 3)))"
   ]
  },
  {
   "cell_type": "markdown",
   "id": "7dcf272d",
   "metadata": {},
   "source": [
    "## Add dynamic Values "
   ]
  },
  {
   "cell_type": "code",
   "execution_count": 8,
   "id": "8ec6c3e0",
   "metadata": {},
   "outputs": [
    {
     "data": {
      "text/latex": [
       "$\\displaystyle 4 + 5 = 9$"
      ],
      "text/plain": [
       "<IPython.core.display.Math object>"
      ]
     },
     "metadata": {},
     "output_type": "display_data"
    }
   ],
   "source": [
    "x = 4\n",
    "y = 5\n",
    "\n",
    "display(Math(str(x) + \" + \" + str(y) + \" = \" + str(x + y)))\n"
   ]
  },
  {
   "cell_type": "code",
   "execution_count": 9,
   "id": "69d8c868",
   "metadata": {},
   "outputs": [
    {
     "data": {
      "text/latex": [
       "$\\displaystyle 4+5 = 9$"
      ],
      "text/plain": [
       "<IPython.core.display.Math object>"
      ]
     },
     "metadata": {},
     "output_type": "display_data"
    }
   ],
   "source": [
    "display(Math( \"%g+%g = %g\" %(x,y,x+5) ))"
   ]
  },
  {
   "cell_type": "markdown",
   "id": "e7927490",
   "metadata": {},
   "source": [
    "## Display Fractions"
   ]
  },
  {
   "cell_type": "code",
   "execution_count": 10,
   "id": "5d1967ac",
   "metadata": {},
   "outputs": [
    {
     "data": {
      "text/latex": [
       "$\\displaystyle 4 / 5 = 0.8$"
      ],
      "text/plain": [
       "<IPython.core.display.Math object>"
      ]
     },
     "metadata": {},
     "output_type": "display_data"
    }
   ],
   "source": [
    "display(Math(\"4 / 5 = \" + str(4 / 5)))"
   ]
  },
  {
   "cell_type": "markdown",
   "id": "543abafd",
   "metadata": {},
   "source": [
    "#### Real Life Fractions"
   ]
  },
  {
   "cell_type": "code",
   "execution_count": 11,
   "id": "6d0420cb",
   "metadata": {},
   "outputs": [
    {
     "data": {
      "text/latex": [
       "$\\displaystyle \\frac{4}{5} = 0.8$"
      ],
      "text/plain": [
       "<IPython.core.display.Math object>"
      ]
     },
     "metadata": {},
     "output_type": "display_data"
    }
   ],
   "source": [
    "display(Math( \"\\\\frac{4}{5}\" + \" = \" + str(4 / 5) ))"
   ]
  },
  {
   "cell_type": "code",
   "execution_count": 12,
   "id": "9efe601f",
   "metadata": {},
   "outputs": [
    {
     "data": {
      "text/latex": [
       "$\\displaystyle 3.4 \\times 17 = 57.8$"
      ],
      "text/plain": [
       "<IPython.core.display.Math object>"
      ]
     },
     "metadata": {},
     "output_type": "display_data"
    }
   ],
   "source": [
    "x = 3.4\n",
    "y = 17\n",
    "\n",
    "display(Math( \"%g \\\\times %g = %g\" %(x,y,x*y) ))"
   ]
  },
  {
   "cell_type": "markdown",
   "id": "4fac44b8",
   "metadata": {},
   "source": [
    "## Exercises"
   ]
  },
  {
   "cell_type": "code",
   "execution_count": 13,
   "id": "6a6ed318",
   "metadata": {},
   "outputs": [
    {
     "data": {
      "text/latex": [
       "$\\displaystyle 3x(4 + y) = 42$"
      ],
      "text/plain": [
       "<IPython.core.display.Math object>"
      ]
     },
     "metadata": {},
     "output_type": "display_data"
    }
   ],
   "source": [
    "x = 7\n",
    "y = -2\n",
    "z = 5\n",
    "ans = 3*x*(4 + y)\n",
    "\n",
    "display(Math( \"3x(4 + y) = %g\" %ans ))"
   ]
  },
  {
   "cell_type": "code",
   "execution_count": 14,
   "id": "56ce52f3",
   "metadata": {},
   "outputs": [
    {
     "data": {
      "text/latex": [
       "$\\displaystyle -y - \\frac{x + 3}{z} = 0$"
      ],
      "text/plain": [
       "<IPython.core.display.Math object>"
      ]
     },
     "metadata": {},
     "output_type": "display_data"
    }
   ],
   "source": [
    "ans = -1 * y - ((x + 3) / z)\n",
    "\n",
    "display(Math( \"-y - \\\\frac{x + 3}{z} = %g\" %ans))"
   ]
  }
 ],
 "metadata": {
  "kernelspec": {
   "display_name": "Python 3 (ipykernel)",
   "language": "python",
   "name": "python3"
  },
  "language_info": {
   "codemirror_mode": {
    "name": "ipython",
    "version": 3
   },
   "file_extension": ".py",
   "mimetype": "text/x-python",
   "name": "python",
   "nbconvert_exporter": "python",
   "pygments_lexer": "ipython3",
   "version": "3.9.7"
  }
 },
 "nbformat": 4,
 "nbformat_minor": 5
}
