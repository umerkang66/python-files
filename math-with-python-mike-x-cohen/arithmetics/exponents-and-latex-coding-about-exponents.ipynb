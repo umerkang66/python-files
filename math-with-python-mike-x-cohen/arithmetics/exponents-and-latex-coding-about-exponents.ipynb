{
 "cells": [
  {
   "cell_type": "markdown",
   "id": "1a90005c",
   "metadata": {},
   "source": [
    "## Exponents"
   ]
  },
  {
   "cell_type": "code",
   "execution_count": 2,
   "id": "76a35e6e",
   "metadata": {},
   "outputs": [
    {
     "data": {
      "text/plain": [
       "729"
      ]
     },
     "execution_count": 2,
     "metadata": {},
     "output_type": "execute_result"
    }
   ],
   "source": [
    "3 ** 6"
   ]
  },
  {
   "cell_type": "code",
   "execution_count": 3,
   "id": "1693d3db",
   "metadata": {},
   "outputs": [
    {
     "data": {
      "text/plain": [
       "729"
      ]
     },
     "execution_count": 3,
     "metadata": {},
     "output_type": "execute_result"
    }
   ],
   "source": [
    "3**2 * 3**4"
   ]
  },
  {
   "cell_type": "code",
   "execution_count": 4,
   "id": "6d8fe390",
   "metadata": {},
   "outputs": [
    {
     "data": {
      "text/plain": [
       "729"
      ]
     },
     "execution_count": 4,
     "metadata": {},
     "output_type": "execute_result"
    }
   ],
   "source": [
    "# here exponential powers are added\n",
    "3**(2 + 4)"
   ]
  },
  {
   "cell_type": "code",
   "execution_count": 6,
   "id": "e0772319",
   "metadata": {},
   "outputs": [
    {
     "data": {
      "text/plain": [
       "2.0"
      ]
     },
     "execution_count": 6,
     "metadata": {},
     "output_type": "execute_result"
    }
   ],
   "source": [
    "4**(1/2)"
   ]
  },
  {
   "cell_type": "markdown",
   "id": "4145e760",
   "metadata": {},
   "source": [
    "## Exponential math equations, using latex coding"
   ]
  },
  {
   "cell_type": "code",
   "execution_count": 9,
   "id": "994896ee",
   "metadata": {},
   "outputs": [],
   "source": [
    "# import display, and math for other cells to use\n",
    "from IPython.display import display, Math"
   ]
  },
  {
   "cell_type": "code",
   "execution_count": 16,
   "id": "c0ce51ec",
   "metadata": {},
   "outputs": [
    {
     "data": {
      "text/latex": [
       "$\\displaystyle 3^2 \\times 3^4 = 729$"
      ],
      "text/plain": [
       "<IPython.core.display.Math object>"
      ]
     },
     "metadata": {},
     "output_type": "display_data"
    }
   ],
   "source": [
    "# we do use CARET SYMBOL (^) in latec\n",
    "display(Math(\"3^2 \\\\times 3^4 = %g\" %(3**2 * 3**4)))"
   ]
  },
  {
   "cell_type": "code",
   "execution_count": 21,
   "id": "479a6a8f",
   "metadata": {},
   "outputs": [
    {
     "data": {
      "text/latex": [
       "$\\displaystyle 3^{2+4} = 729$"
      ],
      "text/plain": [
       "<IPython.core.display.Math object>"
      ]
     },
     "metadata": {},
     "output_type": "display_data"
    }
   ],
   "source": [
    "# adding multiple values in exponent by using \"{}\"\n",
    "display(Math(\"3^{2+4} = %g\" %(3**(2 + 4))))"
   ]
  },
  {
   "cell_type": "markdown",
   "id": "d45c03b5",
   "metadata": {},
   "source": [
    "## Exercises"
   ]
  },
  {
   "cell_type": "code",
   "execution_count": 22,
   "id": "a03505fd",
   "metadata": {},
   "outputs": [],
   "source": [
    "# these variables will be used in later cells\n",
    "x = 5\n",
    "y = 5.1"
   ]
  },
  {
   "cell_type": "markdown",
   "id": "48069b0a",
   "metadata": {},
   "source": [
    "#### 1)"
   ]
  },
  {
   "cell_type": "code",
   "execution_count": 37,
   "id": "ec54de7a",
   "metadata": {},
   "outputs": [
    {
     "data": {
      "text/latex": [
       "$\\displaystyle x^{3 / 4} \\times 4^y = 3933.09$"
      ],
      "text/plain": [
       "<IPython.core.display.Math object>"
      ]
     },
     "metadata": {},
     "output_type": "display_data"
    }
   ],
   "source": [
    "ans = x ** (3 / 4) * 4**y\n",
    "# if we want to add actual fraction instead of \"3 / 4\", we have to use \"||frac{}{}\"\n",
    "display(Math(\"x^{3 / 4} \\\\times 4^y = %g\" %ans))"
   ]
  },
  {
   "cell_type": "markdown",
   "id": "c85c3986",
   "metadata": {},
   "source": [
    "#### 2)"
   ]
  },
  {
   "cell_type": "code",
   "execution_count": 38,
   "id": "dddd449c",
   "metadata": {},
   "outputs": [
    {
     "data": {
      "text/latex": [
       "$\\displaystyle \\frac{3^3}{x^y} = 0.00735558$"
      ],
      "text/plain": [
       "<IPython.core.display.Math object>"
      ]
     },
     "metadata": {},
     "output_type": "display_data"
    }
   ],
   "source": [
    "ans = (3**3) / (x**y)\n",
    "display(Math(\"\\\\frac{3^3}{x^y} = %g\" %ans))"
   ]
  },
  {
   "cell_type": "markdown",
   "id": "a87646a6",
   "metadata": {},
   "source": [
    "#### 3)"
   ]
  },
  {
   "cell_type": "code",
   "execution_count": 36,
   "id": "adf71eb5",
   "metadata": {},
   "outputs": [
    {
     "data": {
      "text/latex": [
       "$\\displaystyle 10^{x - 4} = 10$"
      ],
      "text/plain": [
       "<IPython.core.display.Math object>"
      ]
     },
     "metadata": {},
     "output_type": "display_data"
    }
   ],
   "source": [
    "# \"x\" here is 5, so x - 4 becomes 1, 10 raise to power 1 is 10\n",
    "ans = 10 ** (x - 4)\n",
    "display(Math(\"10^{x - 4} = %g\" %ans))"
   ]
  }
 ],
 "metadata": {
  "kernelspec": {
   "display_name": "Python 3 (ipykernel)",
   "language": "python",
   "name": "python3"
  },
  "language_info": {
   "codemirror_mode": {
    "name": "ipython",
    "version": 3
   },
   "file_extension": ".py",
   "mimetype": "text/x-python",
   "name": "python",
   "nbconvert_exporter": "python",
   "pygments_lexer": "ipython3",
   "version": "3.9.7"
  }
 },
 "nbformat": 4,
 "nbformat_minor": 5
}
