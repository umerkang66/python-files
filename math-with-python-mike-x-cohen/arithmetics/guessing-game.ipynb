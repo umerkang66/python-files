{
 "cells": [
  {
   "cell_type": "code",
   "execution_count": 2,
   "id": "3b8cfa96",
   "metadata": {},
   "outputs": [],
   "source": [
    "from random import randint"
   ]
  },
  {
   "cell_type": "code",
   "execution_count": 27,
   "id": "14fc7778",
   "metadata": {},
   "outputs": [
    {
     "name": "stdout",
     "output_type": "stream",
     "text": [
      "Guess between 1, and 100\n",
      " 50\n",
      "Guess Higher\n",
      " 70\n",
      "Guess Higher\n",
      " 90\n",
      "Guess Higher\n",
      " 99\n",
      "Guess Lower\n",
      " 96\n",
      "🚀🚀🚀 Correct Answer\n"
     ]
    }
   ],
   "source": [
    "def guessing_game(randum_num): \n",
    "    print(\"Guess between 1, and 100\")\n",
    "    while True: \n",
    "        guess = int(input(\" \"))\n",
    "        if guess == randum_num: \n",
    "            print(\"🚀🚀🚀 Correct Answer\")\n",
    "            break\n",
    "        elif guess > randum_num: \n",
    "            print(\"Guess Lower\")\n",
    "        else: \n",
    "            print(\"Guess Higher\")\n",
    "\n",
    "\n",
    "random_number = randint(1, 100)\n",
    "guessing_game(random_number)"
   ]
  }
 ],
 "metadata": {
  "kernelspec": {
   "display_name": "Python 3 (ipykernel)",
   "language": "python",
   "name": "python3"
  },
  "language_info": {
   "codemirror_mode": {
    "name": "ipython",
    "version": 3
   },
   "file_extension": ".py",
   "mimetype": "text/x-python",
   "name": "python",
   "nbconvert_exporter": "python",
   "pygments_lexer": "ipython3",
   "version": "3.9.7"
  }
 },
 "nbformat": 4,
 "nbformat_minor": 5
}
