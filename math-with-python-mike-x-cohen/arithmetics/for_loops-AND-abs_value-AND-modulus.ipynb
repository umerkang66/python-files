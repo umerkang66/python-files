{
 "cells": [
  {
   "cell_type": "markdown",
   "id": "f470825c",
   "metadata": {},
   "source": [
    "## For Loop"
   ]
  },
  {
   "cell_type": "code",
   "execution_count": 82,
   "id": "418bedc8",
   "metadata": {},
   "outputs": [],
   "source": [
    "from IPython.display import display, Math"
   ]
  },
  {
   "cell_type": "code",
   "execution_count": 90,
   "id": "bdb47c3b",
   "metadata": {},
   "outputs": [
    {
     "data": {
      "text/latex": [
       "$\\displaystyle 1^{-1}= 1$"
      ],
      "text/plain": [
       "<IPython.core.display.Math object>"
      ]
     },
     "metadata": {},
     "output_type": "display_data"
    },
    {
     "data": {
      "text/latex": [
       "$\\displaystyle 1^{-2}= 1$"
      ],
      "text/plain": [
       "<IPython.core.display.Math object>"
      ]
     },
     "metadata": {},
     "output_type": "display_data"
    },
    {
     "data": {
      "text/latex": [
       "$\\displaystyle 1^{-3}= 1$"
      ],
      "text/plain": [
       "<IPython.core.display.Math object>"
      ]
     },
     "metadata": {},
     "output_type": "display_data"
    },
    {
     "data": {
      "text/latex": [
       "$\\displaystyle 1^{-4}= 1$"
      ],
      "text/plain": [
       "<IPython.core.display.Math object>"
      ]
     },
     "metadata": {},
     "output_type": "display_data"
    },
    {
     "data": {
      "text/latex": [
       "$\\displaystyle 2^{-1}= 0.5$"
      ],
      "text/plain": [
       "<IPython.core.display.Math object>"
      ]
     },
     "metadata": {},
     "output_type": "display_data"
    },
    {
     "data": {
      "text/latex": [
       "$\\displaystyle 2^{-2}= 0.25$"
      ],
      "text/plain": [
       "<IPython.core.display.Math object>"
      ]
     },
     "metadata": {},
     "output_type": "display_data"
    },
    {
     "data": {
      "text/latex": [
       "$\\displaystyle 2^{-3}= 0.125$"
      ],
      "text/plain": [
       "<IPython.core.display.Math object>"
      ]
     },
     "metadata": {},
     "output_type": "display_data"
    },
    {
     "data": {
      "text/latex": [
       "$\\displaystyle 2^{-4}= 0.0625$"
      ],
      "text/plain": [
       "<IPython.core.display.Math object>"
      ]
     },
     "metadata": {},
     "output_type": "display_data"
    },
    {
     "data": {
      "text/latex": [
       "$\\displaystyle 3^{-1}= 0.333333$"
      ],
      "text/plain": [
       "<IPython.core.display.Math object>"
      ]
     },
     "metadata": {},
     "output_type": "display_data"
    },
    {
     "data": {
      "text/latex": [
       "$\\displaystyle 3^{-2}= 0.111111$"
      ],
      "text/plain": [
       "<IPython.core.display.Math object>"
      ]
     },
     "metadata": {},
     "output_type": "display_data"
    },
    {
     "data": {
      "text/latex": [
       "$\\displaystyle 3^{-3}= 0.037037$"
      ],
      "text/plain": [
       "<IPython.core.display.Math object>"
      ]
     },
     "metadata": {},
     "output_type": "display_data"
    },
    {
     "data": {
      "text/latex": [
       "$\\displaystyle 3^{-4}= 0.0123457$"
      ],
      "text/plain": [
       "<IPython.core.display.Math object>"
      ]
     },
     "metadata": {},
     "output_type": "display_data"
    }
   ],
   "source": [
    "for i in range(0, 4): \n",
    "    for j in range(0, 5): \n",
    "        # zero divide by zero gives an error\n",
    "        if i > 0 and j > 0:\n",
    "            # display will automatically print it\n",
    "            display(Math(\"%g^{-%g}= %g\" %(i,j,i ** -j)))\n"
   ]
  },
  {
   "cell_type": "markdown",
   "id": "2d6d90f1",
   "metadata": {},
   "source": [
    "## Math Absolute Value\n",
    "Absolute value is the distance of the number to the origin of the number line.\n",
    "#### e.g. \n",
    "1) -5 is 5 units away from the origin (0) of number line, so its absolute value is 5\n",
    "2) 2 is 2 units away from the origin (0) of number line, so its absolute value is 2"
   ]
  },
  {
   "cell_type": "code",
   "execution_count": 88,
   "id": "c43bb945",
   "metadata": {},
   "outputs": [
    {
     "data": {
      "text/latex": [
       "$\\displaystyle |-4.3| = 4.3$"
      ],
      "text/plain": [
       "<IPython.core.display.Math object>"
      ]
     },
     "metadata": {},
     "output_type": "display_data"
    }
   ],
   "source": [
    "val = -4.3\n",
    "abs_val = abs(val)\n",
    "\n",
    "# in latex the value for absolute is |x|\n",
    "display(Math(\"|%g| = %g\" %(val, abs_val)))"
   ]
  },
  {
   "cell_type": "markdown",
   "id": "0df46f1c",
   "metadata": {},
   "source": [
    "### Exercises\n",
    "Print the absolute values of integers in list that are less than -5, and greater than 2\n",
    "Integers that are between -5 and 2, print something like {{integer}} was not tested"
   ]
  },
  {
   "cell_type": "code",
   "execution_count": 106,
   "id": "29a2a8cc",
   "metadata": {},
   "outputs": [
    {
     "name": "stdout",
     "output_type": "stream",
     "text": [
      "-4 was not tested\n",
      "Absolute value of 6 is 6\n",
      "-1 was not tested\n",
      "Absolute value of 43 is 43\n",
      "Absolute value of -18 is 18\n",
      "2 was not tested\n",
      "0 was not tested\n"
     ]
    }
   ],
   "source": [
    "num_list = [-4, 6, -1, 43, -18, 2, 0]\n",
    "\n",
    "for i in num_list: \n",
    "    if i < -5 or i > 2: \n",
    "        print(\"Absolute value of %g is %g\" %(i, abs(i)))\n",
    "    else: \n",
    "        print(\"%g was not tested\" %(i))"
   ]
  },
  {
   "cell_type": "markdown",
   "id": "70f3b04c",
   "metadata": {},
   "source": [
    "## Modulus Operator"
   ]
  },
  {
   "cell_type": "code",
   "execution_count": 118,
   "id": "f5ab11b0",
   "metadata": {},
   "outputs": [
    {
     "name": "stdout",
     "output_type": "stream",
     "text": [
      "132386 goes into 2.34344e+07, 177 times with a remainder of 2054.\n"
     ]
    }
   ],
   "source": [
    "a = 23434376\n",
    "b = 132386\n",
    "\n",
    "division = int(a/b)\n",
    "remainder = a%b\n",
    "\n",
    "print(\"%g goes into %g, %g times with a remainder of %g.\" %(b, a, division, remainder))"
   ]
  },
  {
   "cell_type": "markdown",
   "id": "22f16906",
   "metadata": {},
   "source": [
    "### Exercise\n",
    "From -5 to 5, print that integer is even or odd"
   ]
  },
  {
   "cell_type": "code",
   "execution_count": 138,
   "id": "32802aef",
   "metadata": {},
   "outputs": [
    {
     "name": "stdout",
     "output_type": "stream",
     "text": [
      "-5 is an odd  number\n",
      "-4 is an even number\n",
      "-3 is an odd  number\n",
      "-2 is an even number\n",
      "-1 is an odd  number\n",
      " 0 is an even number\n",
      " 1 is an odd  number\n",
      " 2 is an even number\n",
      " 3 is an odd  number\n",
      " 4 is an even number\n",
      " 5 is an odd  number\n"
     ]
    }
   ],
   "source": [
    "def get_even_or_odd(num): \n",
    "    return \"even\" if num % 2 == 0 else \"odd\"\n",
    "\n",
    "\n",
    "def get_first_char(num, check_for_even_odd):\n",
    "    if check_for_even_odd: \n",
    "        return \"\" if num % 2 == 0 else \" \"\n",
    "    return \"\" if num < 0 else \" \"\n",
    "    \n",
    "    \n",
    "for i in range(-5, 6): \n",
    "    print(\"%s%g is an %s %snumber\" %(get_first_char(i, False), i, get_even_or_odd(i), get_first_char(i, True)))"
   ]
  }
 ],
 "metadata": {
  "kernelspec": {
   "display_name": "Python 3 (ipykernel)",
   "language": "python",
   "name": "python3"
  },
  "language_info": {
   "codemirror_mode": {
    "name": "ipython",
    "version": 3
   },
   "file_extension": ".py",
   "mimetype": "text/x-python",
   "name": "python",
   "nbconvert_exporter": "python",
   "pygments_lexer": "ipython3",
   "version": "3.9.7"
  }
 },
 "nbformat": 4,
 "nbformat_minor": 5
}
