{
 "cells": [
  {
   "cell_type": "code",
   "execution_count": 8,
   "metadata": {},
   "outputs": [],
   "source": [
    "import matplotlib.pyplot as plt\n",
    "import numpy as np\n",
    "from IPython.display import display, Math"
   ]
  },
  {
   "cell_type": "markdown",
   "metadata": {},
   "source": [
    "Find integer solutions to $x^1+y^2=z^3$"
   ]
  },
  {
   "cell_type": "code",
   "execution_count": 5,
   "metadata": {},
   "outputs": [
    {
     "data": {
      "image/png": "[encoded data removed]",
      "text/plain": [
       "<Figure size 864x432 with 4 Axes>"
      ]
     },
     "metadata": {
      "needs_background": "light"
     },
     "output_type": "display_data"
    }
   ],
   "source": [
    "ints = np.arange(1,101)\n",
    "\n",
    "z = np.zeros((len(ints),len(ints)))\n",
    "\n",
    "# run the simulation\n",
    "for x in ints:\n",
    "    for y in ints:\n",
    "        z[x-1,y-1] = (x + y**2)**(1/3)\n",
    "        \n",
    "\n",
    "# check for integers\n",
    "zInts = z%1 == 0\n",
    "\n",
    "# now visualize\n",
    "fig,ax = plt.subplots(1,2,figsize=(12,6))\n",
    "fig.tight_layout(pad=5)\n",
    "\n",
    "# show the resulting z-values\n",
    "h = ax[0].imshow(z)\n",
    "fig.colorbar(h,ax=ax[0],fraction=.045)\n",
    "ax[0].set_xlabel('y')\n",
    "ax[0].set_ylabel('x')\n",
    "ax[0].set_title('$z=\\sqrt[3]{x^1+y^2}$',fontsize=16)\n",
    "\n",
    "# show the boolean integer map\n",
    "h = ax[1].imshow(zInts,vmin=0,vmax=1)\n",
    "fig.colorbar(h,ax=ax[1],fraction=.045)\n",
    "ax[1].set_xlabel('y')\n",
    "ax[1].set_ylabel('x')\n",
    "ax[1].set_title('Whether $z$ is int',fontsize=18)\n",
    "\n",
    "plt.show()"
   ]
  },
  {
   "cell_type": "code",
   "execution_count": 11,
   "metadata": {},
   "outputs": [
    {
     "data": {
      "text/latex": [
       "$\\displaystyle 3^3 = 2 + 5^2$"
      ],
      "text/plain": [
       "<IPython.core.display.Math object>"
      ]
     },
     "metadata": {},
     "output_type": "display_data"
    },
    {
     "data": {
      "text/latex": [
       "$\\displaystyle 2^3 = 4 + 2^2$"
      ],
      "text/plain": [
       "<IPython.core.display.Math object>"
      ]
     },
     "metadata": {},
     "output_type": "display_data"
    },
    {
     "data": {
      "text/latex": [
       "$\\displaystyle 5^3 = 4 + 11^2$"
      ],
      "text/plain": [
       "<IPython.core.display.Math object>"
      ]
     },
     "metadata": {},
     "output_type": "display_data"
    },
    {
     "data": {
      "text/latex": [
       "$\\displaystyle 2^3 = 7 + 1^2$"
      ],
      "text/plain": [
       "<IPython.core.display.Math object>"
      ]
     },
     "metadata": {},
     "output_type": "display_data"
    },
    {
     "data": {
      "text/latex": [
       "$\\displaystyle 3^3 = 11 + 4^2$"
      ],
      "text/plain": [
       "<IPython.core.display.Math object>"
      ]
     },
     "metadata": {},
     "output_type": "display_data"
    },
    {
     "data": {
      "text/latex": [
       "$\\displaystyle 3^3 = 18 + 3^2$"
      ],
      "text/plain": [
       "<IPython.core.display.Math object>"
      ]
     },
     "metadata": {},
     "output_type": "display_data"
    },
    {
     "data": {
      "text/latex": [
       "$\\displaystyle 3^3 = 23 + 2^2$"
      ],
      "text/plain": [
       "<IPython.core.display.Math object>"
      ]
     },
     "metadata": {},
     "output_type": "display_data"
    },
    {
     "data": {
      "text/latex": [
       "$\\displaystyle 5^3 = 25 + 10^2$"
      ],
      "text/plain": [
       "<IPython.core.display.Math object>"
      ]
     },
     "metadata": {},
     "output_type": "display_data"
    },
    {
     "data": {
      "text/latex": [
       "$\\displaystyle 3^3 = 26 + 1^2$"
      ],
      "text/plain": [
       "<IPython.core.display.Math object>"
      ]
     },
     "metadata": {},
     "output_type": "display_data"
    },
    {
     "data": {
      "text/latex": [
       "$\\displaystyle 5^3 = 44 + 9^2$"
      ],
      "text/plain": [
       "<IPython.core.display.Math object>"
      ]
     },
     "metadata": {},
     "output_type": "display_data"
    },
    {
     "data": {
      "text/latex": [
       "$\\displaystyle 5^3 = 61 + 8^2$"
      ],
      "text/plain": [
       "<IPython.core.display.Math object>"
      ]
     },
     "metadata": {},
     "output_type": "display_data"
    },
    {
     "data": {
      "text/latex": [
       "$\\displaystyle 5^3 = 76 + 7^2$"
      ],
      "text/plain": [
       "<IPython.core.display.Math object>"
      ]
     },
     "metadata": {},
     "output_type": "display_data"
    },
    {
     "data": {
      "text/latex": [
       "$\\displaystyle 5^3 = 89 + 6^2$"
      ],
      "text/plain": [
       "<IPython.core.display.Math object>"
      ]
     },
     "metadata": {},
     "output_type": "display_data"
    },
    {
     "data": {
      "text/latex": [
       "$\\displaystyle 5^3 = 100 + 5^2$"
      ],
      "text/plain": [
       "<IPython.core.display.Math object>"
      ]
     },
     "metadata": {},
     "output_type": "display_data"
    }
   ],
   "source": [
    "# print out those triplets\n",
    "\n",
    "# run the simulation\n",
    "for x in ints:\n",
    "    for y in ints:\n",
    "        z = (x**1 + y**2)**(1/3)\n",
    "        \n",
    "        # check for integers\n",
    "        if z%1 == 0:\n",
    "            display(Math('%i^3 = %i + %i^2' %(z,x,y)))"
   ]
  },
  {
   "cell_type": "markdown",
   "metadata": {},
   "source": [
    "Compute and plot the following two sequences:\n",
    "\n",
    "$\\large\n",
    "s_1 = \\frac{-1^a}{\\ln(\\frac{1}{e^a})}\\\\\n",
    "\\large\n",
    "s_2 = \\frac{\\sqrt{a}}{\\left(\\frac{-\\pi}{2}\\right)^a}$\n",
    "\n",
    "for $a \\in \\mathbb{Z}$"
   ]
  },
  {
   "cell_type": "code",
   "execution_count": 13,
   "metadata": {},
   "outputs": [
    {
     "data": {
      "image/png": "[encoded data removed]",
      "text/plain": [
       "<Figure size 720x288 with 2 Axes>"
      ]
     },
     "metadata": {
      "needs_background": "light"
     },
     "output_type": "display_data"
    }
   ],
   "source": [
    "a = np.arange(1,21)\n",
    "\n",
    "s1 = np.zeros(len(a))\n",
    "s2 = np.zeros(len(a))\n",
    "\n",
    "for a in a:\n",
    "    s1[a-1] = (-1)**a / np.log(1/np.exp(a))\n",
    "    s2[a-1] = np.sqrt(a) / (-np.pi/2)**a\n",
    "\n",
    "\n",
    "fig,ax = plt.subplots(1,2,figsize=(10,4))\n",
    "ax[0].plot(s1)\n",
    "ax[0].set_title('Sequence $s_1$')\n",
    "\n",
    "ax[1].plot(s2)\n",
    "ax[1].set_title('Sequence $s_2$')\n",
    "\n",
    "plt.show()"
   ]
  }
 ],
 "metadata": {
  "interpreter": {
   "hash": "e5c6a46a1473a2409ca8ff254ed396d3eda3290bc5701d6964bbc7b0690191bf"
  },
  "kernelspec": {
   "display_name": "Python 3.9.7 ('base')",
   "language": "python",
   "name": "python3"
  },
  "language_info": {
   "codemirror_mode": {
    "name": "ipython",
    "version": 3
   },
   "file_extension": ".py",
   "mimetype": "text/x-python",
   "name": "python",
   "nbconvert_exporter": "python",
   "pygments_lexer": "ipython3",
   "version": "3.9.7"
  }
 },
 "nbformat": 4,
 "nbformat_minor": 2
}
