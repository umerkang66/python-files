{
 "cells": [
  {
   "cell_type": "markdown",
   "metadata": {},
   "source": [
    "## Perfect Numbers\n",
    "\n",
    "A positive integer that equals the sum of its positive integers divisors (excluding the number itself)\n",
    "\n",
    "$$6 = 1 + 2 + 3$$\n",
    "$$8 \\neq 1 + 2 + 4$$\n",
    "$$28 = 1 + 2 + 4 + 7 + 14$$\n"
   ]
  },
  {
   "cell_type": "markdown",
   "metadata": {},
   "source": [
    "## Algorithm to find whether a number is perfect or not"
   ]
  },
  {
   "cell_type": "code",
   "execution_count": 11,
   "metadata": {},
   "outputs": [],
   "source": [
    "def is_perfect_number(number):\n",
    "    divisors = []\n",
    "    for d in range(1,number):\n",
    "        # check number/d is int\n",
    "        if number%d == 0:\n",
    "            # it is \"integer\", store d\n",
    "            divisors.append(d)\n",
    "    return number == sum(divisors)"
   ]
  },
  {
   "cell_type": "code",
   "execution_count": 15,
   "metadata": {},
   "outputs": [
    {
     "name": "stdout",
     "output_type": "stream",
     "text": [
      "[6, 28, 496, 8128]\n"
     ]
    }
   ],
   "source": [
    "perfect_nums = []\n",
    "for i in range(2,10001):\n",
    "    if is_perfect_number(i):\n",
    "        perfect_nums.append(i)\n",
    "\n",
    "print(perfect_nums)"
   ]
  },
  {
   "cell_type": "markdown",
   "metadata": {},
   "source": [
    "## Exercise\n",
    "\n",
    "Rewrite the above \"is_perfect_number\" function in a single line using list comprehensions"
   ]
  },
  {
   "cell_type": "code",
   "execution_count": 26,
   "metadata": {},
   "outputs": [],
   "source": [
    "def is_perfect_number_short(number):\n",
    "    return number == sum([divider for divider in range(1,number) if number%divider == 0])"
   ]
  },
  {
   "cell_type": "code",
   "execution_count": 27,
   "metadata": {},
   "outputs": [
    {
     "name": "stdout",
     "output_type": "stream",
     "text": [
      "[6, 28, 496, 8128]\n"
     ]
    }
   ],
   "source": [
    "perfect_nums = []\n",
    "for i in range(2,10001):\n",
    "    if is_perfect_number_short(i):\n",
    "        perfect_nums.append(i)\n",
    "\n",
    "print(perfect_nums)"
   ]
  }
 ],
 "metadata": {
  "interpreter": {
   "hash": "e5c6a46a1473a2409ca8ff254ed396d3eda3290bc5701d6964bbc7b0690191bf"
  },
  "kernelspec": {
   "display_name": "Python 3.9.7 ('base')",
   "language": "python",
   "name": "python3"
  },
  "language_info": {
   "codemirror_mode": {
    "name": "ipython",
    "version": 3
   },
   "file_extension": ".py",
   "mimetype": "text/x-python",
   "name": "python",
   "nbconvert_exporter": "python",
   "pygments_lexer": "ipython3",
   "version": "3.9.7"
  },
  "orig_nbformat": 4
 },
 "nbformat": 4,
 "nbformat_minor": 2
}
