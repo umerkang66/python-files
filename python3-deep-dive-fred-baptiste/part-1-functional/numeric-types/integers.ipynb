{
 "cells": [
  {
   "cell_type": "markdown",
   "metadata": {},
   "source": [
    "# Converting binary to base 10 numbers\n",
    "\n",
    "Base 2 number (10011) is base 10 number:\n",
    "\n",
    "$$\\frac{*}{2^7} \\frac{*}{2^6} \\frac{*}{2^5} \\frac{1}{2^4} \\frac{0}{2^3} \\frac{0}{2^2} \\frac{1}{2^1} \\frac{1}{2^0}$$\n",
    "\n",
    "$$\\downarrow$$\n",
    "\n",
    "$$128\\space 64\\space 32\\space 16\\space \\space 8\\space \\space 4\\space \\space 2\\space \\space 1$$\n",
    "\n",
    "$$\\downarrow$$\n",
    "\n",
    "$(1 \\times 16) + (0 \\times 8) + (0 \\times 4) + (1 \\times 2) + (1 \\times 1) = 16+2+1=19$\n",
    "\n",
    "$$(10011)_2 = (19)_{10}$$"
   ]
  }
 ],
 "metadata": {
  "kernelspec": {
   "display_name": "Python 3.10.4 64-bit",
   "language": "python",
   "name": "python3"
  },
  "language_info": {
   "name": "python",
   "version": "3.10.4"
  },
  "orig_nbformat": 4,
  "vscode": {
   "interpreter": {
    "hash": "5d3975c71a655d371087b19f10aeeebe527167ec5f974dcf5571f7031960edcc"
   }
  }
 },
 "nbformat": 4,
 "nbformat_minor": 2
}
