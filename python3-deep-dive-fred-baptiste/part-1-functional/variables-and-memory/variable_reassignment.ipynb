{
 "cells": [
  {
   "cell_type": "markdown",
   "metadata": {},
   "source": [
    "# Variable Reassignment\n",
    "\n",
    "When new object is assigned to variable, that object is not changed, but new object in memory is created, and the variable now points to the new object, new reference point."
   ]
  },
  {
   "cell_type": "code",
   "execution_count": 7,
   "metadata": {},
   "outputs": [
    {
     "name": "stdout",
     "output_type": "stream",
     "text": [
      "<class 'int'>\n",
      "<class 'int'>\n",
      "<class 'int'>\n",
      "0x2dd72080210 0x2dd720802b0 0x2dd720802d0\n"
     ]
    }
   ],
   "source": [
    "a = 10\n",
    "memory_address_1 = hex(id(a))\n",
    "print(type(a))\n",
    "\n",
    "a = 15\n",
    "memory_address_2 = hex(id(a))\n",
    "print(type(a))\n",
    "\n",
    "a = a + 1\n",
    "memory_address_3 = hex(id(a))\n",
    "print(type(a))\n",
    "\n",
    "# memory address has been changed every time\n",
    "print(memory_address_1,memory_address_2,memory_address_3)"
   ]
  },
  {
   "cell_type": "code",
   "execution_count": 10,
   "metadata": {},
   "outputs": [
    {
     "name": "stdout",
     "output_type": "stream",
     "text": [
      "0x2dd72080210 0x2dd72080210\n"
     ]
    }
   ],
   "source": [
    "a = 10\n",
    "b = 10\n",
    "\n",
    "# a, and b are both pointing to the same obj\n",
    "print(hex(id(a)), hex(id(b)))"
   ]
  }
 ],
 "metadata": {
  "interpreter": {
   "hash": "5d3975c71a655d371087b19f10aeeebe527167ec5f974dcf5571f7031960edcc"
  },
  "kernelspec": {
   "display_name": "Python 3.10.4 64-bit",
   "language": "python",
   "name": "python3"
  },
  "language_info": {
   "codemirror_mode": {
    "name": "ipython",
    "version": 3
   },
   "file_extension": ".py",
   "mimetype": "text/x-python",
   "name": "python",
   "nbconvert_exporter": "python",
   "pygments_lexer": "ipython3",
   "version": "3.10.4"
  },
  "orig_nbformat": 4
 },
 "nbformat": 4,
 "nbformat_minor": 2
}
