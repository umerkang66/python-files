{
 "cells": [
  {
   "cell_type": "code",
   "execution_count": 1,
   "metadata": {},
   "outputs": [
    {
     "name": "stdout",
     "output_type": "stream",
     "text": [
      "10\n",
      "2378707370512\n",
      "0x229d6020210\n"
     ]
    }
   ],
   "source": [
    "my_var = 10\n",
    "print(my_var)\n",
    "\n",
    "memory_address = id(my_var)\n",
    "print(memory_address)\n",
    "\n",
    "hexadecimal_address = hex(memory_address)\n",
    "print(hexadecimal_address)"
   ]
  },
  {
   "cell_type": "code",
   "execution_count": 2,
   "metadata": {},
   "outputs": [
    {
     "name": "stdout",
     "output_type": "stream",
     "text": [
      "Hello\n",
      "2378789881392\n",
      "0x229daed0630\n"
     ]
    }
   ],
   "source": [
    "greetings = \"Hello\"\n",
    "print(greetings)\n",
    "\n",
    "memory_address = id(greetings)\n",
    "print(memory_address)\n",
    "\n",
    "hexadecimal_address = hex(memory_address)\n",
    "print(hexadecimal_address)"
   ]
  }
 ],
 "metadata": {
  "interpreter": {
   "hash": "5d3975c71a655d371087b19f10aeeebe527167ec5f974dcf5571f7031960edcc"
  },
  "kernelspec": {
   "display_name": "Python 3.10.4 64-bit",
   "language": "python",
   "name": "python3"
  },
  "language_info": {
   "codemirror_mode": {
    "name": "ipython",
    "version": 3
   },
   "file_extension": ".py",
   "mimetype": "text/x-python",
   "name": "python",
   "nbconvert_exporter": "python",
   "pygments_lexer": "ipython3",
   "version": "3.10.4"
  },
  "orig_nbformat": 4
 },
 "nbformat": 4,
 "nbformat_minor": 2
}
