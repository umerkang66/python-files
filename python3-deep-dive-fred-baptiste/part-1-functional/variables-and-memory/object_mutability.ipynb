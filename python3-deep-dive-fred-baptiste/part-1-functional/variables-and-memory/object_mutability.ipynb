{
 "cells": [
  {
   "cell_type": "markdown",
   "metadata": {},
   "source": [
    "## Object Mutability\n",
    "An object whose internal state can be changed is called mutable.\n",
    "And those whose internal state cannot change are called immutable.\n",
    "\n",
    "#### Immutables objects\n",
    "- all numbers (int, float, booleans, etc)\n",
    "- strings\n",
    "- tuples\n",
    "- frozen sets\n",
    "- user-defined classes (can be both)\n",
    "\n",
    "#### Mutable objects\n",
    "- lists\n",
    "- sets\n",
    "- dictionaries\n",
    "- user-defined classes (can be both)"
   ]
  },
  {
   "cell_type": "code",
   "execution_count": 2,
   "metadata": {},
   "outputs": [
    {
     "name": "stdout",
     "output_type": "stream",
     "text": [
      "([1, 2], [3, 4])\n",
      "([1, 2, 5], [3, 4, 5])\n"
     ]
    }
   ],
   "source": [
    "# if tuples have lists, that lists can mutate, but tuple cannot\n",
    "a = [1,2]\n",
    "b = [3,4]\n",
    "t = (a,b)\n",
    "print(t)\n",
    "\n",
    "# tuple that is printed here, and after, both are same, they have same memory address\n",
    "\n",
    "a.append(5)\n",
    "b.append(5)\n",
    "print(t)"
   ]
  },
  {
   "cell_type": "code",
   "execution_count": 9,
   "metadata": {},
   "outputs": [],
   "source": [
    "my_list = [1,2,3]\n",
    "id_1 = id(my_list)"
   ]
  },
  {
   "cell_type": "code",
   "execution_count": 10,
   "metadata": {},
   "outputs": [
    {
     "name": "stdout",
     "output_type": "stream",
     "text": [
      "True\n"
     ]
    }
   ],
   "source": [
    "my_list.append(4)\n",
    "id_2 = id(my_list)\n",
    "\n",
    "# both ids should be same\n",
    "print(id_1==id_2)"
   ]
  },
  {
   "cell_type": "markdown",
   "metadata": {},
   "source": [
    "If tuples, lists, dictionaries, are same (their content is same), if they are pointed by different variables, they will not be in same memory.\n",
    "\n",
    "But numbers and strings do."
   ]
  },
  {
   "cell_type": "code",
   "execution_count": 45,
   "metadata": {},
   "outputs": [
    {
     "name": "stdout",
     "output_type": "stream",
     "text": [
      "True\n",
      "True\n"
     ]
    }
   ],
   "source": [
    "a = 10\n",
    "b = 10\n",
    "c = 'a'\n",
    "d = 'a'\n",
    "\n",
    "id_1 = id(a)\n",
    "id_2 = id(b)\n",
    "id_3 = id(c)\n",
    "id_4 = id(d)\n",
    "\n",
    "print(id_1 == id_2)\n",
    "print(id_3 == id_4)"
   ]
  },
  {
   "cell_type": "code",
   "execution_count": 42,
   "metadata": {},
   "outputs": [
    {
     "name": "stdout",
     "output_type": "stream",
     "text": [
      "False\n"
     ]
    }
   ],
   "source": [
    "t1 = (1,2,3)\n",
    "t2 = (1,2,3)\n",
    "\n",
    "id_1 = id(t1)\n",
    "id_2 = id(t2)\n",
    "\n",
    "print(id_1==id_2)"
   ]
  },
  {
   "cell_type": "code",
   "execution_count": 43,
   "metadata": {},
   "outputs": [
    {
     "name": "stdout",
     "output_type": "stream",
     "text": [
      "False\n"
     ]
    }
   ],
   "source": [
    "t1 = [1,2,3]\n",
    "t2 = [1,2,3]\n",
    "\n",
    "id_1 = id(t1)\n",
    "id_2 = id(t2)\n",
    "\n",
    "print(id_1==id_2)"
   ]
  }
 ],
 "metadata": {
  "interpreter": {
   "hash": "5d3975c71a655d371087b19f10aeeebe527167ec5f974dcf5571f7031960edcc"
  },
  "kernelspec": {
   "display_name": "Python 3.10.4 64-bit",
   "language": "python",
   "name": "python3"
  },
  "language_info": {
   "codemirror_mode": {
    "name": "ipython",
    "version": 3
   },
   "file_extension": ".py",
   "mimetype": "text/x-python",
   "name": "python",
   "nbconvert_exporter": "python",
   "pygments_lexer": "ipython3",
   "version": "3.10.4"
  },
  "orig_nbformat": 4
 },
 "nbformat": 4,
 "nbformat_minor": 2
}
