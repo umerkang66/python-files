{
 "cells": [
  {
   "cell_type": "markdown",
   "metadata": {},
   "source": [
    "# Peephole\n",
    "\n",
    "Variety of optimizations that can occur at compile time.\n",
    "\n",
    "- Simplify the constant expressions (if can).\n",
    "\n",
    "- Calculated value is stored if length < 20 (tuples, strings). If length is > 20 the original value is stored (not calculated value).\n",
    "\n",
    "- Membership tests: Mutable (if constant) are replaced by Immutables (like constant list is replace by tuple) and (sets are converted to frozen sets).\n",
    "\n",
    "- Set membership is much faster than list or tuple membership (sets are basically like dictionaries).\n"
   ]
  },
  {
   "cell_type": "code",
   "execution_count": 1,
   "metadata": {},
   "outputs": [
    {
     "data": {
      "text/plain": [
       "(None,\n",
       " 1440,\n",
       " (1, 2, 1, 2, 1, 2, 1, 2, 1, 2),\n",
       " 'abcabcabc',\n",
       " 'ababababababababababab',\n",
       " 'the quick brown fox',\n",
       " 5,\n",
       " 'a',\n",
       " 'b',\n",
       " 3)"
      ]
     },
     "execution_count": 1,
     "metadata": {},
     "output_type": "execute_result"
    }
   ],
   "source": [
    "def my_func():\n",
    "    # will precalculate\n",
    "    a = 24 * 60\n",
    "    # will precalculate\n",
    "    b = (1, 2) * 5\n",
    "    # will precalculate\n",
    "    c = 'abc' * 3\n",
    "    # will precalculate\n",
    "    d = 'ab' * 11\n",
    "    # will not precalculate\n",
    "    e = 'the quick brown fox' + 5\n",
    "    # will not precalculate\n",
    "    f = ['a', 'b'] * 3\n",
    "\n",
    "\n",
    "my_func.__code__.co_consts"
   ]
  },
  {
   "cell_type": "code",
   "execution_count": 2,
   "metadata": {},
   "outputs": [
    {
     "data": {
      "text/plain": [
       "(None, (1, 2, 3))"
      ]
     },
     "execution_count": 2,
     "metadata": {},
     "output_type": "execute_result"
    }
   ],
   "source": [
    "def my_func(e):\n",
    "    # here this list is constant, it becomes tuple\n",
    "    if e in [1,2,3]:\n",
    "        pass\n",
    "\n",
    "\n",
    "my_func.__code__.co_consts"
   ]
  },
  {
   "cell_type": "code",
   "execution_count": 3,
   "metadata": {},
   "outputs": [
    {
     "data": {
      "text/plain": [
       "(None,)"
      ]
     },
     "execution_count": 3,
     "metadata": {},
     "output_type": "execute_result"
    }
   ],
   "source": [
    "my_list = [1,2,3]\n",
    "\n",
    "\n",
    "def my_func(e):\n",
    "    # here this list is variable (not constant)\n",
    "    # it doesn't process membership tests\n",
    "    if e in my_list:\n",
    "        pass\n",
    "\n",
    "\n",
    "my_func.__code__.co_consts"
   ]
  },
  {
   "cell_type": "code",
   "execution_count": 4,
   "metadata": {},
   "outputs": [
    {
     "data": {
      "text/plain": [
       "(None, frozenset({1, 2, 3}))"
      ]
     },
     "execution_count": 4,
     "metadata": {},
     "output_type": "execute_result"
    }
   ],
   "source": [
    "def my_func(e):\n",
    "    # here this set is constant, it becomes frozenset\n",
    "    if e in {1,2,3}:\n",
    "        pass\n",
    "\n",
    "\n",
    "my_func.__code__.co_consts"
   ]
  },
  {
   "cell_type": "code",
   "execution_count": 5,
   "metadata": {},
   "outputs": [],
   "source": [
    "import string\n",
    "import time"
   ]
  },
  {
   "cell_type": "code",
   "execution_count": 6,
   "metadata": {},
   "outputs": [
    {
     "data": {
      "text/plain": [
       "'abcdefghijklmnopqrstuvwxyzABCDEFGHIJKLMNOPQRSTUVWXYZ'"
      ]
     },
     "execution_count": 6,
     "metadata": {},
     "output_type": "execute_result"
    }
   ],
   "source": [
    "string.ascii_letters"
   ]
  },
  {
   "cell_type": "code",
   "execution_count": 7,
   "metadata": {},
   "outputs": [],
   "source": [
    "char_list = list(string.ascii_letters)\n",
    "char_tuple = tuple(string.ascii_letters)\n",
    "# set doesn't have repeating characters\n",
    "char_set = set(string.ascii_letters)"
   ]
  },
  {
   "cell_type": "code",
   "execution_count": 8,
   "metadata": {},
   "outputs": [],
   "source": [
    "# container can be set, list or \n",
    "def membership_test(n, container):\n",
    "    for i in range(n):\n",
    "        if 'z' in container:\n",
    "            pass"
   ]
  },
  {
   "cell_type": "code",
   "execution_count": 9,
   "metadata": {},
   "outputs": [
    {
     "name": "stdout",
     "output_type": "stream",
     "text": [
      "list: 5.382593635993544\n",
      "list: 4.3865326270024525\n",
      "list: 0.40322946399101056\n"
     ]
    }
   ],
   "source": [
    "start = time.perf_counter()\n",
    "membership_test(10000000, char_list)\n",
    "print('list:', time.perf_counter() - start)\n",
    "\n",
    "start = time.perf_counter()\n",
    "membership_test(10000000, char_tuple)\n",
    "print('list:', time.perf_counter() - start)\n",
    "\n",
    "# set look is much faster, it is like dictionaries\n",
    "start = time.perf_counter()\n",
    "membership_test(10000000, char_set)\n",
    "print('list:', time.perf_counter() - start)"
   ]
  }
 ],
 "metadata": {
  "interpreter": {
   "hash": "5d3975c71a655d371087b19f10aeeebe527167ec5f974dcf5571f7031960edcc"
  },
  "kernelspec": {
   "display_name": "Python 3.10.4 64-bit",
   "language": "python",
   "name": "python3"
  },
  "language_info": {
   "codemirror_mode": {
    "name": "ipython",
    "version": 3
   },
   "file_extension": ".py",
   "mimetype": "text/x-python",
   "name": "python",
   "nbconvert_exporter": "python",
   "pygments_lexer": "ipython3",
   "version": "3.11.5"
  },
  "orig_nbformat": 4
 },
 "nbformat": 4,
 "nbformat_minor": 2
}
