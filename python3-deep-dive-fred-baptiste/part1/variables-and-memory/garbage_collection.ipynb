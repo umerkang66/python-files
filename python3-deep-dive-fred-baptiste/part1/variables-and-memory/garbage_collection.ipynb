{
 "cells": [
  {
   "cell_type": "code",
   "execution_count": 51,
   "metadata": {},
   "outputs": [],
   "source": [
    "import ctypes\n",
    "import gc"
   ]
  },
  {
   "cell_type": "code",
   "execution_count": 52,
   "metadata": {},
   "outputs": [],
   "source": [
    "def ref_count(address: int) -> int:\n",
    "    return ctypes.c_long.from_address(address).value"
   ]
  },
  {
   "cell_type": "code",
   "execution_count": 53,
   "metadata": {},
   "outputs": [],
   "source": [
    "def object_by_id(object_id: int):\n",
    "    for obj in gc.get_objects():\n",
    "        # every object in garbage collected\n",
    "        if id(obj) == object_id:\n",
    "            return \"Object exists\"\n",
    "    return \"Not found\""
   ]
  },
  {
   "cell_type": "code",
   "execution_count": 54,
   "metadata": {},
   "outputs": [],
   "source": [
    "# create a circular reference, property of A points to B and, property of b points to a\n",
    "class A:\n",
    "    def __init__(self):\n",
    "        # pass instance of A to B\n",
    "        self.b = B(self)\n",
    "        print(\"A: self: {0}, b: {1}\".format(hex(id(self)), hex(id(self.b))))\n",
    "\n",
    "\n",
    "class B:\n",
    "    def __init__(self, a):\n",
    "        self.a = a\n",
    "        print(\"B: self: {0}, a: {1}\".format(hex(id(self)), hex(id(self.a))))"
   ]
  },
  {
   "cell_type": "code",
   "execution_count": 55,
   "metadata": {},
   "outputs": [],
   "source": [
    "# disable the garbage collected, because otherwise, it is going to clean up the circular references\n",
    "gc.disable()"
   ]
  },
  {
   "cell_type": "code",
   "execution_count": 56,
   "metadata": {},
   "outputs": [
    {
     "name": "stdout",
     "output_type": "stream",
     "text": [
      "B: self: 0x2051cb59bd0, a: 0x2051dc6a9e0\n",
      "A: self: 0x2051dc6a9e0, b: 0x2051cb59bd0\n"
     ]
    }
   ],
   "source": [
    "my_var = A()"
   ]
  },
  {
   "cell_type": "code",
   "execution_count": 57,
   "metadata": {},
   "outputs": [
    {
     "name": "stdout",
     "output_type": "stream",
     "text": [
      "var A: 0x2051dc6a9e0\n",
      "var A.b.a: 0x2051dc6a9e0\n",
      "var A.b: 0x2051cb59bd0\n"
     ]
    }
   ],
   "source": [
    "print('var A:', hex(id(my_var)))\n",
    "print('var A.b.a:', hex(id(my_var.b.a)))\n",
    "\n",
    "print('var A.b:', hex(id(my_var.b)))"
   ]
  },
  {
   "cell_type": "code",
   "execution_count": 58,
   "metadata": {},
   "outputs": [],
   "source": [
    "a_id = id(my_var)\n",
    "b_id = id(my_var.b)"
   ]
  },
  {
   "cell_type": "code",
   "execution_count": 59,
   "metadata": {},
   "outputs": [
    {
     "name": "stdout",
     "output_type": "stream",
     "text": [
      "2\n",
      "1\n"
     ]
    }
   ],
   "source": [
    "print(ref_count(a_id))\n",
    "print(ref_count(b_id))"
   ]
  },
  {
   "cell_type": "code",
   "execution_count": 60,
   "metadata": {},
   "outputs": [
    {
     "name": "stdout",
     "output_type": "stream",
     "text": [
      "Object exists\n",
      "Object exists\n"
     ]
    }
   ],
   "source": [
    "print(object_by_id(a_id))\n",
    "print(object_by_id(b_id))"
   ]
  },
  {
   "cell_type": "code",
   "execution_count": 61,
   "metadata": {},
   "outputs": [],
   "source": [
    "my_var = None"
   ]
  },
  {
   "cell_type": "code",
   "execution_count": 62,
   "metadata": {},
   "outputs": [
    {
     "name": "stdout",
     "output_type": "stream",
     "text": [
      "1\n",
      "1\n"
     ]
    }
   ],
   "source": [
    "# we got rid of the my_var but because there was a cyclic reference both objects are not destroyed, because garbage collection is turned off\n",
    "print(ref_count(a_id))\n",
    "print(ref_count(b_id))"
   ]
  },
  {
   "cell_type": "code",
   "execution_count": 63,
   "metadata": {},
   "outputs": [
    {
     "name": "stdout",
     "output_type": "stream",
     "text": [
      "Object exists\n",
      "Object exists\n"
     ]
    }
   ],
   "source": [
    "# proof that objects still exists\n",
    "print(object_by_id(a_id))\n",
    "print(object_by_id(b_id))"
   ]
  },
  {
   "cell_type": "code",
   "execution_count": 69,
   "metadata": {},
   "outputs": [
    {
     "data": {
      "text/plain": [
       "0"
      ]
     },
     "execution_count": 69,
     "metadata": {},
     "output_type": "execute_result"
    }
   ],
   "source": [
    "# manually run the garbage collection\n",
    "gc.collect()"
   ]
  },
  {
   "cell_type": "code",
   "execution_count": 70,
   "metadata": {},
   "outputs": [
    {
     "name": "stdout",
     "output_type": "stream",
     "text": [
      "Not found\n",
      "Not found\n"
     ]
    }
   ],
   "source": [
    "# objects have been deleted\n",
    "print(object_by_id(a_id))\n",
    "print(object_by_id(b_id))"
   ]
  },
  {
   "cell_type": "code",
   "execution_count": 76,
   "metadata": {},
   "outputs": [
    {
     "name": "stdout",
     "output_type": "stream",
     "text": [
      "2\n",
      "1\n"
     ]
    }
   ],
   "source": [
    "# now these memory address are available for other objects, now this is the memory address of some other place, that can have many memory references\n",
    "print(ref_count(a_id))\n",
    "print(ref_count(b_id))"
   ]
  }
 ],
 "metadata": {
  "interpreter": {
   "hash": "5d3975c71a655d371087b19f10aeeebe527167ec5f974dcf5571f7031960edcc"
  },
  "kernelspec": {
   "display_name": "Python 3.10.4 64-bit",
   "language": "python",
   "name": "python3"
  },
  "language_info": {
   "codemirror_mode": {
    "name": "ipython",
    "version": 3
   },
   "file_extension": ".py",
   "mimetype": "text/x-python",
   "name": "python",
   "nbconvert_exporter": "python",
   "pygments_lexer": "ipython3",
   "version": "3.10.4"
  },
  "orig_nbformat": 4
 },
 "nbformat": 4,
 "nbformat_minor": 2
}
