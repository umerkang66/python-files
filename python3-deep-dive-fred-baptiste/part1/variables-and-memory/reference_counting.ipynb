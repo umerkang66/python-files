{
 "cells": [
  {
   "cell_type": "markdown",
   "metadata": {},
   "source": [
    "## Reference counting\n",
    "\n",
    "Python memory manager does automatically for us.\n",
    "\n",
    "If multiple variables points to the same object, the reference count increases by one.\n",
    "\n",
    "If new object is assigned to one of the variables, reference count decreases by one.\n",
    "\n",
    "And new object is created in memory that this newly assigned variable points to.\n",
    "\n",
    "If reference count becomes zero, the object falls away, and that memory address is now available for some other thing (anything)."
   ]
  },
  {
   "cell_type": "code",
   "execution_count": 28,
   "metadata": {},
   "outputs": [],
   "source": [
    "from sys import getrefcount\n",
    "import ctypes"
   ]
  },
  {
   "cell_type": "code",
   "execution_count": 26,
   "metadata": {},
   "outputs": [
    {
     "name": "stdout",
     "output_type": "stream",
     "text": [
      "Ref count in memory: 3\n",
      "[1, 2, 3]\n",
      "[1, 2, 3]\n",
      "True\n",
      "True\n",
      "\n",
      "Variable is assigned new list.\n",
      "\n",
      "[4, 5, 6]\n",
      "[1, 2, 3]\n",
      "False\n",
      "False\n"
     ]
    }
   ],
   "source": [
    "variable = [1,2,3]\n",
    "other_var = variable\n",
    "# as variable is passed in function as argument, that parameter now points to the same memory address of first variable, so ref count increases by one \n",
    "print('Ref count in memory:', getrefcount(variable))\n",
    "\n",
    "print(variable)\n",
    "print(other_var)\n",
    "\n",
    "print(id(variable) == id(other_var))\n",
    "print(hex(id(variable)) == hex(id(other_var)))\n",
    "\n",
    "variable = [4,5,6]\n",
    "print('\\nVariable is assigned new list.\\n')\n",
    "\n",
    "print(variable)\n",
    "print(other_var)\n",
    "\n",
    "print(id(variable) == id(other_var))\n",
    "print(hex(id(variable)) == hex(id(other_var)))"
   ]
  },
  {
   "cell_type": "code",
   "execution_count": 39,
   "metadata": {},
   "outputs": [],
   "source": [
    "def ref_count(address:int) -> int:\n",
    "    return ctypes.c_long.from_address(address).value"
   ]
  },
  {
   "cell_type": "code",
   "execution_count": 40,
   "metadata": {},
   "outputs": [
    {
     "name": "stdout",
     "output_type": "stream",
     "text": [
      "Ref count of variable: 2\n",
      "Ref count of other_var: 2\n",
      "[1, 2, 3]\n",
      "[1, 2, 3]\n",
      "True\n",
      "True\n",
      "\n",
      "Variable is assigned new list.\n",
      "\n",
      "Ref count of variable: 1\n",
      "Ref count of other_var: 1\n",
      "[4, 5, 6]\n",
      "[1, 2, 3]\n",
      "False\n",
      "False\n"
     ]
    }
   ],
   "source": [
    "variable = [1,2,3]\n",
    "other_var = variable\n",
    "print('Ref count of variable:', ref_count(id(variable)))\n",
    "print('Ref count of other_var:', ref_count(id(other_var)))\n",
    "\n",
    "print(variable)\n",
    "print(other_var)\n",
    "\n",
    "print(id(variable) == id(other_var))\n",
    "print(hex(id(variable)) == hex(id(other_var)))\n",
    "\n",
    "variable = [4,5,6]\n",
    "print('\\nVariable is assigned new list.\\n')\n",
    "print('Ref count of variable:', ref_count(id(variable)))\n",
    "print('Ref count of other_var:', ref_count(id(other_var)))\n",
    "\n",
    "print(variable)\n",
    "print(other_var)\n",
    "\n",
    "print(id(variable) == id(other_var))\n",
    "print(hex(id(variable)) == hex(id(other_var)))"
   ]
  }
 ],
 "metadata": {
  "interpreter": {
   "hash": "5d3975c71a655d371087b19f10aeeebe527167ec5f974dcf5571f7031960edcc"
  },
  "kernelspec": {
   "display_name": "Python 3.10.4 64-bit",
   "language": "python",
   "name": "python3"
  },
  "language_info": {
   "codemirror_mode": {
    "name": "ipython",
    "version": 3
   },
   "file_extension": ".py",
   "mimetype": "text/x-python",
   "name": "python",
   "nbconvert_exporter": "python",
   "pygments_lexer": "ipython3",
   "version": "3.10.4"
  },
  "orig_nbformat": 4
 },
 "nbformat": 4,
 "nbformat_minor": 2
}
