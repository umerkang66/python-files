{
 "cells": [
  {
   "cell_type": "markdown",
   "metadata": {},
   "source": [
    "## Function arguments, and Mutability\n",
    "\n",
    "When we pass the argument in functions, the parameters of the function points to the same object in memory.\n",
    "\n",
    "It can mutate the objects if object is immutable."
   ]
  },
  {
   "cell_type": "code",
   "execution_count": 3,
   "metadata": {},
   "outputs": [],
   "source": [
    "def process_str(s):\n",
    "    print('Initial s #:', id(s))\n",
    "    s = s + ' world'\n",
    "    print('Final s #:', id(s))"
   ]
  },
  {
   "cell_type": "code",
   "execution_count": 7,
   "metadata": {},
   "outputs": [
    {
     "name": "stdout",
     "output_type": "stream",
     "text": [
      "my_var #: 2198485225776\n",
      "Initial s #: 2198485225776\n",
      "Final s #: 2198489265008\n",
      "my_var #: 2198485225776\n"
     ]
    }
   ],
   "source": [
    "my_var = \"hello\"\n",
    "print('my_var #:', id(my_var))\n",
    "\n",
    "# my_var and initial memory address should be the same\n",
    "process_str(my_var)\n",
    "print('my_var #:', id(my_var))"
   ]
  },
  {
   "cell_type": "code",
   "execution_count": 8,
   "metadata": {},
   "outputs": [],
   "source": [
    "def process_list(lst):\n",
    "    # modify the provided object\n",
    "    print('Initial list #:', id(lst))\n",
    "    lst.append(40)\n",
    "    print('Final s #:', id(lst))"
   ]
  },
  {
   "cell_type": "code",
   "execution_count": 16,
   "metadata": {},
   "outputs": [
    {
     "name": "stdout",
     "output_type": "stream",
     "text": [
      "my_list #: 2198517670272\n",
      "Initial list #: 2198517670272\n",
      "Final s #: 2198517670272\n",
      "my_list #: 2198517670272\n"
     ]
    }
   ],
   "source": [
    "my_list = [1,2,3]\n",
    "print('my_list #:', id(my_list))\n",
    "\n",
    "# every memory address should be the same\n",
    "process_list(my_list)\n",
    "print('my_list #:', id(my_list))"
   ]
  },
  {
   "cell_type": "code",
   "execution_count": 14,
   "metadata": {},
   "outputs": [],
   "source": [
    "def modify_tuple(t):\n",
    "    # cannot modify the tuple, but can modify a mutable object inside a tuple\n",
    "    print('Initial list #:', id(t))\n",
    "    t[0].append(40)\n",
    "    print('Final s #:', id(t))"
   ]
  },
  {
   "cell_type": "code",
   "execution_count": 22,
   "metadata": {},
   "outputs": [
    {
     "name": "stdout",
     "output_type": "stream",
     "text": [
      "my_tuple #: 2198518293312\n",
      "Initial list #: 2198518293312\n",
      "Final s #: 2198518293312\n",
      "my_tuple #: 2198518293312\n",
      "([1, 2, 40], 'a')\n"
     ]
    }
   ],
   "source": [
    "my_tuple = ([1,2],'a')\n",
    "print('my_tuple #:', id(my_tuple))\n",
    "\n",
    "# every memory address should be the same\n",
    "modify_tuple(my_tuple)\n",
    "print('my_tuple #:', id(my_tuple))\n",
    "print(my_tuple)"
   ]
  }
 ],
 "metadata": {
  "interpreter": {
   "hash": "5d3975c71a655d371087b19f10aeeebe527167ec5f974dcf5571f7031960edcc"
  },
  "kernelspec": {
   "display_name": "Python 3.10.4 64-bit",
   "language": "python",
   "name": "python3"
  },
  "language_info": {
   "codemirror_mode": {
    "name": "ipython",
    "version": 3
   },
   "file_extension": ".py",
   "mimetype": "text/x-python",
   "name": "python",
   "nbconvert_exporter": "python",
   "pygments_lexer": "ipython3",
   "version": "3.10.4"
  },
  "orig_nbformat": 4
 },
 "nbformat": 4,
 "nbformat_minor": 2
}
