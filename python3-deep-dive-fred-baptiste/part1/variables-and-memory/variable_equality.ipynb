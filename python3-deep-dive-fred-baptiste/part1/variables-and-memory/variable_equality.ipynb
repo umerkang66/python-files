{
 "cells": [
  {
   "cell_type": "markdown",
   "metadata": {},
   "source": [
    "## Variable equality\n",
    "Variable equality can be done by comparing the memory address if two objects are on the same memory.\n",
    "\n",
    "Other equality can be done by comparing the Object State (data)."
   ]
  },
  {
   "cell_type": "code",
   "execution_count": 18,
   "metadata": {},
   "outputs": [
    {
     "name": "stdout",
     "output_type": "stream",
     "text": [
      "True\n",
      "True True\n",
      "False\n"
     ]
    }
   ],
   "source": [
    "# comparing memory addresses by using \"is\", or \"is not\"\n",
    "a = 500\n",
    "b = a\n",
    "c = 500\n",
    "\n",
    "print(b is a)\n",
    "print(c is not a, c is not b)\n",
    "\n",
    "a = [1,2,5]\n",
    "b = [1,2,5]\n",
    "print(a is b)"
   ]
  },
  {
   "cell_type": "code",
   "execution_count": 17,
   "metadata": {},
   "outputs": [
    {
     "name": "stdout",
     "output_type": "stream",
     "text": [
      "True\n",
      "True\n"
     ]
    }
   ],
   "source": [
    "# comparing the object state by using \"==\" or \"!=\"\n",
    "a = 500\n",
    "b = 500\n",
    "print(a == b)\n",
    "\n",
    "a = [1, 2, 5]\n",
    "b = [1, 2, 5]\n",
    "print(a == b)"
   ]
  },
  {
   "cell_type": "code",
   "execution_count": 19,
   "metadata": {},
   "outputs": [
    {
     "name": "stdout",
     "output_type": "stream",
     "text": [
      "a is b True\n",
      "a == b True\n"
     ]
    }
   ],
   "source": [
    "a = 10\n",
    "b = 10\n",
    "print(\"a is b\", a is b)\n",
    "print(\"a == b\", a == b)"
   ]
  },
  {
   "cell_type": "code",
   "execution_count": 21,
   "metadata": {},
   "outputs": [
    {
     "name": "stdout",
     "output_type": "stream",
     "text": [
      "a is b False\n",
      "a == b True\n"
     ]
    }
   ],
   "source": [
    "a = 10\n",
    "# complex number\n",
    "b = 10 + 0j\n",
    "print(\"a is b\", a is b)\n",
    "print(\"a == b\", a == b)"
   ]
  },
  {
   "cell_type": "markdown",
   "metadata": {},
   "source": [
    "## None\n",
    "\n",
    "It is an object, that has the same memory address.\n",
    "\n",
    "Whenever we set some variable to None, it points to that same None object in memory."
   ]
  },
  {
   "cell_type": "code",
   "execution_count": 23,
   "metadata": {},
   "outputs": [
    {
     "name": "stdout",
     "output_type": "stream",
     "text": [
      "140727373428728\n",
      "<class 'NoneType'>\n"
     ]
    }
   ],
   "source": [
    "print(id(None))\n",
    "print(type(None))"
   ]
  },
  {
   "cell_type": "code",
   "execution_count": 30,
   "metadata": {},
   "outputs": [
    {
     "name": "stdout",
     "output_type": "stream",
     "text": [
      "True\n",
      "True\n",
      "True True True\n"
     ]
    }
   ],
   "source": [
    "a = None\n",
    "b = None\n",
    "c = None\n",
    "\n",
    "# all of them pointing to same obj in memory\n",
    "print(id(a) == id(b) == id(c))\n",
    "print(a is b is c)\n",
    "print(a is None, b is None, c is None)"
   ]
  }
 ],
 "metadata": {
  "interpreter": {
   "hash": "5d3975c71a655d371087b19f10aeeebe527167ec5f974dcf5571f7031960edcc"
  },
  "kernelspec": {
   "display_name": "Python 3.10.4 64-bit",
   "language": "python",
   "name": "python3"
  },
  "language_info": {
   "codemirror_mode": {
    "name": "ipython",
    "version": 3
   },
   "file_extension": ".py",
   "mimetype": "text/x-python",
   "name": "python",
   "nbconvert_exporter": "python",
   "pygments_lexer": "ipython3",
   "version": "3.10.4"
  },
  "orig_nbformat": 4
 },
 "nbformat": 4,
 "nbformat_minor": 2
}
