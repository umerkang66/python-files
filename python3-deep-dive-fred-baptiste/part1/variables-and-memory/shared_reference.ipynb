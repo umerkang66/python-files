{
 "cells": [
  {
   "cell_type": "markdown",
   "metadata": {},
   "source": [
    "## Shared Reference\n",
    "\n",
    "Two variables pointing to the same object, have shared reference.\n",
    "\n",
    "For numbers and strings, if value of object is same, and two different variables are created, python will not create two objects, but it will use the same obj.\n",
    "\n",
    "It is perfectly safe t do that, because both numbers and strings are immutable.\n",
    "\n",
    "For mutable objects, python will never create shared references."
   ]
  },
  {
   "cell_type": "code",
   "execution_count": 11,
   "metadata": {},
   "outputs": [
    {
     "name": "stdout",
     "output_type": "stream",
     "text": [
      "Memory addresses -->\n",
      "     Before: 0x25a2060e9f0 --> Same\n",
      "     Before: 0x25a2060e9f0 --> Same\n",
      "     After: 0x25a20a002b0 --> Different\n",
      "     After: 0x25a2060e9f0 --> Same\n"
     ]
    }
   ],
   "source": [
    "# immutable objects\n",
    "a = \"hello\"\n",
    "b = a\n",
    "\n",
    "# memory address are same\n",
    "print(\"Memory addresses -->\")\n",
    "print('     Before:', hex(id(a)), '--> Same')\n",
    "print('     Before:', hex(id(b)), '--> Same')\n",
    "\n",
    "a += \" world\"\n",
    "\n",
    "# memory address are not same\n",
    "print('     After:', hex(id(a)), '--> Different')\n",
    "print('     After:', hex(id(b)), '--> Same')"
   ]
  },
  {
   "cell_type": "code",
   "execution_count": 10,
   "metadata": {},
   "outputs": [
    {
     "name": "stdout",
     "output_type": "stream",
     "text": [
      "Memory addresses -->\n",
      "     Before: 0x25a208f5480 --> Same\n",
      "     Before: 0x25a208f5480 --> Same\n",
      "     After: 0x25a208f5480 --> Same\n",
      "     After: 0x25a208f5480 --> Same\n"
     ]
    }
   ],
   "source": [
    "# immutable objects\n",
    "a = [1,2,3]\n",
    "b = a\n",
    "\n",
    "print(\"Memory addresses -->\")\n",
    "print('     Before:', hex(id(a)), '--> Same')\n",
    "print('     Before:', hex(id(b)), '--> Same')\n",
    "\n",
    "a.append(40)\n",
    "\n",
    "# memory address are not same\n",
    "print('     After:', hex(id(a)), '--> Same')\n",
    "print('     After:', hex(id(b)), '--> Same')"
   ]
  },
  {
   "cell_type": "markdown",
   "metadata": {},
   "source": [
    "#### Re-usage of memory address. \n",
    "If object is same immutable like numbers, strings (IMP! not tuples). Sometimes it does, and sometimes it doesn't (see the below examples)."
   ]
  },
  {
   "cell_type": "code",
   "execution_count": 20,
   "metadata": {},
   "outputs": [
    {
     "name": "stdout",
     "output_type": "stream",
     "text": [
      "0x25a1bb46a50 0x25a1bb46a50 --> Same\n",
      "0x25a209ed310 0x25a209ed5d0 --> Different\n"
     ]
    }
   ],
   "source": [
    "a = 10\n",
    "b = 10\n",
    "print(hex(id(a)), hex(id(b)), '--> Same')\n",
    "\n",
    "a = 500\n",
    "b = 500\n",
    "print(hex(id(a)), hex(id(b)), '--> Different')"
   ]
  }
 ],
 "metadata": {
  "interpreter": {
   "hash": "e5c6a46a1473a2409ca8ff254ed396d3eda3290bc5701d6964bbc7b0690191bf"
  },
  "kernelspec": {
   "display_name": "Python 3.9.7 ('base')",
   "language": "python",
   "name": "python3"
  },
  "language_info": {
   "codemirror_mode": {
    "name": "ipython",
    "version": 3
   },
   "file_extension": ".py",
   "mimetype": "text/x-python",
   "name": "python",
   "nbconvert_exporter": "python",
   "pygments_lexer": "ipython3",
   "version": "3.9.7"
  },
  "orig_nbformat": 4
 },
 "nbformat": 4,
 "nbformat_minor": 2
}
