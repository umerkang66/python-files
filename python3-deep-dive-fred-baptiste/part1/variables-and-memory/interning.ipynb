{
 "cells": [
  {
   "cell_type": "markdown",
   "metadata": {},
   "source": [
    "# Interning: Integers\n",
    "\n",
    "Reusing objects on demand.\n",
    "\n",
    "1. At startup, Python (CPython), pre-loads (caches) a global list of integers in the range [-5, 256].\n",
    "2. This number was selected, because these numbers show very often.\n",
    "\n",
    "### Integer obj caching\n",
    "\n",
    "1. Objects ranging from -5 to 256 are singleton objects. Singleton objects are classes that can only be initiated once. Whenever we re-initiate it, the original one comes back.\n",
    "2. That's why when integer is created one of these values, the original object is returned. If value is not one of these, every time new obj is created.\n",
    "3. Any time an integer is referenced in that range, Python will use the cached version of that object.\n",
    "4. Same thing happen with strings, only a small number of letters cached objects are created."
   ]
  },
  {
   "cell_type": "code",
   "execution_count": 27,
   "metadata": {},
   "outputs": [
    {
     "name": "stdout",
     "output_type": "stream",
     "text": [
      "2227600139824 --> Not same\n",
      "2227600137168 --> Not same\n",
      "2227522307056 --> same\n",
      "2227522307056 --> same\n"
     ]
    }
   ],
   "source": [
    "a = 500\n",
    "b = 500\n",
    "print(id(a), '--> Not same')\n",
    "print(id(b), '--> Not same')\n",
    "\n",
    "a = 25\n",
    "b = 25\n",
    "print(id(a), '--> same')\n",
    "print(id(b), '--> same')"
   ]
  },
  {
   "cell_type": "markdown",
   "metadata": {},
   "source": [
    "# Interning: Strings\n",
    "\n",
    "As the python code is compiled, IDENTIFIERS are interned (imp!).\n",
    "\n",
    "Identifiers are:\n",
    "- variable names\n",
    "- function names\n",
    "- class names\n",
    "- etc.\n",
    "\n",
    "Some strings are also interned by python, not all strings are interned:\n",
    "- string literal that look like identifiers (e.g. 'hello_world').\n",
    "- although if it starts with a digit, even though that is not a valid identifier, it may still get interned.\n",
    "\n",
    "<p style=\"text-align: center;\">But don't count on it</p>\n",
    "\n",
    "### Why python do interning?\n",
    "It's all about (speed and, possibly, memory) optimization.\n",
    "\n",
    "Python, both internally, and in the code you write, deals with lots and lots of dictionaries type lookups, on string keys, which means a lot of string equality testing (for variable accessing in the codes further down).\n",
    "\n",
    "If we have two strings that have same value, if we know that first one is being interned, then both are pointing to the same memory address.\n",
    "\n",
    "### Force strings to be interned\n",
    "Not all the strings are automatically interned by python, but we can force it using ```sys.intern()```.\n",
    "\n",
    "```\n",
    "import sys\n",
    "\n",
    "a = sys.intern('the quick brown fox')\n",
    "b = sys.intern('the quick brown fox')\n",
    "```\n",
    "now this is fast\n",
    "```\n",
    "a is b -> True\n",
    "```\n",
    "now this is slow\n",
    "```\n",
    "a == b -> True\n",
    "```\n",
    "\n",
    "Both values should be created by ```sys.intern()```, otherwise, they will be different objects in memory."
   ]
  },
  {
   "cell_type": "code",
   "execution_count": 38,
   "metadata": {},
   "outputs": [
    {
     "name": "stdout",
     "output_type": "stream",
     "text": [
      "2227596448368 2227596448368\n",
      "True True\n"
     ]
    }
   ],
   "source": [
    "# it looks like an identifier (variable_names), it will be interned\n",
    "a = 'hello'\n",
    "b = 'hello'\n",
    "\n",
    "print(id(a), id(b))\n",
    "print(a == b, a is b)"
   ]
  },
  {
   "cell_type": "code",
   "execution_count": 39,
   "metadata": {},
   "outputs": [
    {
     "name": "stdout",
     "output_type": "stream",
     "text": [
      "2227601034032 2227601034416\n",
      "True False\n"
     ]
    }
   ],
   "source": [
    "# there is a space it doesn't looks like an identifier (variable_names), it will not be interned\n",
    "a = 'hello world'\n",
    "b = 'hello world'\n",
    "\n",
    "print(id(a), id(b))\n",
    "print(a == b, a is b)"
   ]
  },
  {
   "cell_type": "code",
   "execution_count": 41,
   "metadata": {},
   "outputs": [
    {
     "data": {
      "text/plain": [
       "True"
      ]
     },
     "execution_count": 41,
     "metadata": {},
     "output_type": "execute_result"
    }
   ],
   "source": [
    "# this looks like an identifier (variable_names)\n",
    "a = \"_this_is_a_long_string_that_could_be_used_as_an_identifier\"\n",
    "b = \"_this_is_a_long_string_that_could_be_used_as_an_identifier\"\n",
    "\n",
    "a is b"
   ]
  },
  {
   "cell_type": "code",
   "execution_count": 68,
   "metadata": {},
   "outputs": [],
   "source": [
    "from sys import intern\n",
    "import time"
   ]
  },
  {
   "cell_type": "code",
   "execution_count": 57,
   "metadata": {},
   "outputs": [
    {
     "name": "stdout",
     "output_type": "stream",
     "text": [
      "2227600560752 2227600560752 --> Same memory address\n",
      "True --> Compare by memory address\n",
      "True --> Compare by values (data)\n",
      "\n",
      "2227600560752 2227601192560 --> Different memory address\n",
      "False --> Compare by memory address\n",
      "True --> Compare by values (data)\n"
     ]
    }
   ],
   "source": [
    "a = intern('hello world')\n",
    "b = intern('hello world')\n",
    "c = 'hello world'\n",
    "\n",
    "print(id(a), id(b), '--> Same memory address')\n",
    "print(a is b, '--> Compare by memory address')\n",
    "print(a == b, '--> Compare by values (data)')\n",
    "\n",
    "print()\n",
    "\n",
    "print(id(a), id(c), '--> Different memory address')\n",
    "print(a is c, '--> Compare by memory address')\n",
    "print(a == c, '--> Compare by values (data)')"
   ]
  },
  {
   "cell_type": "code",
   "execution_count": 74,
   "metadata": {},
   "outputs": [],
   "source": [
    "def compare_using_equals(n):\n",
    "    # string repeated 200 times\n",
    "    a = 'a long string that is not interned' * 200\n",
    "    b = 'a long string that is not interned' * 200\n",
    "    for i in range(n):\n",
    "        if a == b:\n",
    "            pass"
   ]
  },
  {
   "cell_type": "code",
   "execution_count": 73,
   "metadata": {},
   "outputs": [],
   "source": [
    "def compare_using_interning(n):\n",
    "    # string repeated 200 times\n",
    "    a = intern('a long string that is not interned' * 200)\n",
    "    b = intern('a long string that is not interned' * 200)\n",
    "    for i in range(n):\n",
    "        if a is b:\n",
    "            pass"
   ]
  },
  {
   "cell_type": "code",
   "execution_count": 80,
   "metadata": {},
   "outputs": [
    {
     "name": "stdout",
     "output_type": "stream",
     "text": [
      "equality: 3.5030590999958804\n"
     ]
    }
   ],
   "source": [
    "start = time.perf_counter()\n",
    "compare_using_equals(10000000)\n",
    "print('equality:', time.perf_counter() - start)"
   ]
  },
  {
   "cell_type": "code",
   "execution_count": 79,
   "metadata": {},
   "outputs": [
    {
     "name": "stdout",
     "output_type": "stream",
     "text": [
      "interning: 0.8154997999954503\n"
     ]
    }
   ],
   "source": [
    "start = time.perf_counter()\n",
    "compare_using_interning(10000000)\n",
    "print('interning:', time.perf_counter() - start)"
   ]
  }
 ],
 "metadata": {
  "interpreter": {
   "hash": "5d3975c71a655d371087b19f10aeeebe527167ec5f974dcf5571f7031960edcc"
  },
  "kernelspec": {
   "display_name": "Python 3.10.4 64-bit",
   "language": "python",
   "name": "python3"
  },
  "language_info": {
   "codemirror_mode": {
    "name": "ipython",
    "version": 3
   },
   "file_extension": ".py",
   "mimetype": "text/x-python",
   "name": "python",
   "nbconvert_exporter": "python",
   "pygments_lexer": "ipython3",
   "version": "3.10.4"
  },
  "orig_nbformat": 4
 },
 "nbformat": 4,
 "nbformat_minor": 2
}
